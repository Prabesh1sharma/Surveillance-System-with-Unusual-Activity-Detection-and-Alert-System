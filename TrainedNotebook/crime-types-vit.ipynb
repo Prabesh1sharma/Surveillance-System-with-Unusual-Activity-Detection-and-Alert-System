{
 "cells": [
  {
   "cell_type": "markdown",
   "metadata": {},
   "source": [
    "# Import libraries, load and transform data"
   ]
  },
  {
   "cell_type": "code",
   "execution_count": 1,
   "metadata": {
    "execution": {
     "iopub.execute_input": "2024-11-03T08:45:36.793863Z",
     "iopub.status.busy": "2024-11-03T08:45:36.793119Z",
     "iopub.status.idle": "2024-11-03T08:46:02.922340Z",
     "shell.execute_reply": "2024-11-03T08:46:02.921111Z",
     "shell.execute_reply.started": "2024-11-03T08:45:36.793818Z"
    },
    "trusted": true
   },
   "outputs": [],
   "source": [
    "# Install necessary Python packages using pip\n",
    "\n",
    "# Use the 'pip' command to install packages\n",
    "# The '-q' flag stands for 'quiet,' which means it will suppress most output, making the installation process less verbose\n",
    "# We're installing the following packages:\n",
    "# - 'evaluate': This package is likely used for evaluation purposes, but the specific functionality is not clear from this line alone\n",
    "# - 'transformers': This package is commonly used for natural language processing tasks, such as working with pre-trained language models like BERT or GPT\n",
    "# - 'datasets': This package provides easy access to various datasets commonly used in machine learning and natural language processing tasks\n",
    "\n",
    "# Note: Before running this code, make sure you have Python and pip installed on your system.\n",
    "# Also, ensure you have an internet connection since pip will download and install these packages from PyPI (Python Package Index).\n",
    "!pip install -U -q evaluate transformers datasets>=2.14.5 accelerate>=0.27 2>/dev/null"
   ]
  },
  {
   "cell_type": "code",
   "execution_count": 2,
   "metadata": {
    "execution": {
     "iopub.execute_input": "2024-11-03T08:46:02.924966Z",
     "iopub.status.busy": "2024-11-03T08:46:02.924664Z",
     "iopub.status.idle": "2024-11-03T08:46:23.077901Z",
     "shell.execute_reply": "2024-11-03T08:46:23.077086Z",
     "shell.execute_reply.started": "2024-11-03T08:46:02.924934Z"
    },
    "trusted": true
   },
   "outputs": [],
   "source": [
    "# Importing necessary libraries and modules\n",
    "import warnings  # Import the 'warnings' module for handling warnings\n",
    "warnings.filterwarnings(\"ignore\")  # Ignore warnings during execution\n",
    "\n",
    "import gc  # Import the 'gc' module for garbage collection\n",
    "import numpy as np  # Import NumPy for numerical operations\n",
    "import pandas as pd  # Import Pandas for data manipulation\n",
    "import itertools  # Import 'itertools' for iterators and looping\n",
    "from collections import Counter  # Import 'Counter' for counting elements\n",
    "import matplotlib.pyplot as plt  # Import Matplotlib for data visualization\n",
    "from sklearn.metrics import (  # Import various metrics from scikit-learn\n",
    "    accuracy_score,  # For calculating accuracy\n",
    "    roc_auc_score,  # For ROC AUC score\n",
    "    confusion_matrix,  # For confusion matrix\n",
    "    classification_report,  # For classification report\n",
    "    f1_score  # For F1 score\n",
    ")\n",
    "\n",
    "# Import custom modules and classes\n",
    "from imblearn.over_sampling import RandomOverSampler # import RandomOverSampler\n",
    "import accelerate # Import the 'accelerate' module\n",
    "import evaluate  # Import the 'evaluate' module\n",
    "from datasets import Dataset, Image, ClassLabel  # Import custom 'Dataset', 'ClassLabel', and 'Image' classes\n",
    "from transformers import (  # Import various modules from the Transformers library\n",
    "    TrainingArguments,  # For training arguments\n",
    "    Trainer,  # For model training\n",
    "    ViTImageProcessor,  # For processing image data with ViT models\n",
    "    ViTForImageClassification,  # ViT model for image classification\n",
    "    DefaultDataCollator  # For collating data in the default way\n",
    ")\n",
    "import torch  # Import PyTorch for deep learning\n",
    "from torch.utils.data import DataLoader  # For creating data loaders\n",
    "from torchvision.transforms import (  # Import image transformation functions\n",
    "    CenterCrop,  # Center crop an image\n",
    "    Compose,  # Compose multiple image transformations\n",
    "    Normalize,  # Normalize image pixel values\n",
    "    RandomRotation,  # Apply random rotation to images\n",
    "    RandomResizedCrop,  # Crop and resize images randomly\n",
    "    RandomHorizontalFlip,  # Apply random horizontal flip\n",
    "    RandomAdjustSharpness,  # Adjust sharpness randomly\n",
    "    Resize,  # Resize images\n",
    "    ToTensor  # Convert images to PyTorch tensors\n",
    ")"
   ]
  },
  {
   "cell_type": "code",
   "execution_count": 3,
   "metadata": {
    "execution": {
     "iopub.execute_input": "2024-11-03T08:46:23.079683Z",
     "iopub.status.busy": "2024-11-03T08:46:23.079068Z",
     "iopub.status.idle": "2024-11-03T08:46:23.084896Z",
     "shell.execute_reply": "2024-11-03T08:46:23.083673Z",
     "shell.execute_reply.started": "2024-11-03T08:46:23.079649Z"
    },
    "trusted": true
   },
   "outputs": [],
   "source": [
    "# Import the necessary module from the Python Imaging Library (PIL).\n",
    "from PIL import ImageFile\n",
    "\n",
    "# Enable the option to load truncated images.\n",
    "# This setting allows the PIL library to attempt loading images even if they are corrupted or incomplete.\n",
    "ImageFile.LOAD_TRUNCATED_IMAGES = True"
   ]
  },
  {
   "cell_type": "code",
   "execution_count": 4,
   "metadata": {
    "execution": {
     "iopub.execute_input": "2024-11-03T08:46:23.089171Z",
     "iopub.status.busy": "2024-11-03T08:46:23.088810Z",
     "iopub.status.idle": "2024-11-03T08:48:32.078286Z",
     "shell.execute_reply": "2024-11-03T08:48:32.077361Z",
     "shell.execute_reply.started": "2024-11-03T08:46:23.089130Z"
    },
    "trusted": true
   },
   "outputs": [
    {
     "name": "stderr",
     "output_type": "stream",
     "text": [
      "100%|██████████| 1266345/1266345 [00:06<00:00, 188190.82it/s]\n"
     ]
    },
    {
     "name": "stdout",
     "output_type": "stream",
     "text": [
      "318577 318577 13\n",
      "(318577, 2)\n"
     ]
    }
   ],
   "source": [
    "# use https://huggingface.co/docs/datasets/image_load for reference\n",
    "\n",
    "# Import necessary libraries\n",
    "image_dict = {}\n",
    "\n",
    "# Define the list of file names\n",
    "from pathlib import Path\n",
    "from tqdm import tqdm\n",
    "import os\n",
    "# Initialize empty lists to store file names and labels\n",
    "file_names = []\n",
    "labels = []\n",
    "\n",
    "# Iterate through all image files in the specified directory\n",
    "for file in tqdm(sorted((Path('/kaggle/input/ucf-crime-dataset/Train/').glob('*/*.*')))):\n",
    "    # check number of such files in a directory\n",
    "    sample_dir = '/'.join(str(file).split('/')[:-1])+'/'\n",
    "    label = str(file).split('/')[-2]  # Extract the label from the file path\n",
    "    # only select videos with certain crime types avoiding normal videos (see intro for more details of the approach)\n",
    "    if label != \"NormalVideos\":\n",
    "        labels.append(label)\n",
    "        file_names.append(str(file))  # Add the file path to the list\n",
    "\n",
    "# Print the total number of file names and labels\n",
    "print(len(file_names), len(labels), len(set(labels)))\n",
    "\n",
    "# Create a pandas dataframe from the collected file names and labels\n",
    "df = pd.DataFrame.from_dict({\"image\": file_names, \"label\": labels})\n",
    "print(df.shape)"
   ]
  },
  {
   "cell_type": "code",
   "execution_count": 5,
   "metadata": {
    "execution": {
     "iopub.execute_input": "2024-11-03T08:48:32.080015Z",
     "iopub.status.busy": "2024-11-03T08:48:32.079593Z",
     "iopub.status.idle": "2024-11-03T08:48:32.118927Z",
     "shell.execute_reply": "2024-11-03T08:48:32.117995Z",
     "shell.execute_reply.started": "2024-11-03T08:48:32.079968Z"
    },
    "trusted": true
   },
   "outputs": [
    {
     "data": {
      "text/plain": [
       "array(['Abuse', 'Arrest', 'Arson', 'Assault', 'Burglary', 'Explosion',\n",
       "       'Fighting', 'RoadAccidents', 'Robbery', 'Shooting', 'Shoplifting',\n",
       "       'Stealing', 'Vandalism'], dtype=object)"
      ]
     },
     "execution_count": 5,
     "metadata": {},
     "output_type": "execute_result"
    }
   ],
   "source": [
    "df['label'].unique()"
   ]
  },
  {
   "cell_type": "code",
   "execution_count": 6,
   "metadata": {
    "execution": {
     "iopub.execute_input": "2024-11-03T08:48:32.120952Z",
     "iopub.status.busy": "2024-11-03T08:48:32.120266Z",
     "iopub.status.idle": "2024-11-03T08:48:34.518979Z",
     "shell.execute_reply": "2024-11-03T08:48:34.518132Z",
     "shell.execute_reply.started": "2024-11-03T08:48:32.120906Z"
    },
    "trusted": true
   },
   "outputs": [
    {
     "name": "stdout",
     "output_type": "stream",
     "text": [
      "(582426, 2)\n"
     ]
    }
   ],
   "source": [
    "# random oversampling of all minority classes\n",
    "y = df[['label']]\n",
    "df = df.drop(['label'], axis=1)\n",
    "ros = RandomOverSampler(random_state=83)\n",
    "df, y_resampled = ros.fit_resample(df, y)\n",
    "del y\n",
    "df['label'] = y_resampled\n",
    "del y_resampled\n",
    "gc.collect()\n",
    "\n",
    "print(df.shape)"
   ]
  },
  {
   "cell_type": "code",
   "execution_count": 7,
   "metadata": {
    "execution": {
     "iopub.execute_input": "2024-11-03T08:48:34.520358Z",
     "iopub.status.busy": "2024-11-03T08:48:34.520045Z",
     "iopub.status.idle": "2024-11-03T08:48:34.524247Z",
     "shell.execute_reply": "2024-11-03T08:48:34.523316Z",
     "shell.execute_reply.started": "2024-11-03T08:48:34.520325Z"
    },
    "trusted": true
   },
   "outputs": [],
   "source": [
    "# # sample data for faster run\n",
    "# df = df.sample(10**3)"
   ]
  },
  {
   "cell_type": "code",
   "execution_count": 8,
   "metadata": {
    "execution": {
     "iopub.execute_input": "2024-11-03T08:48:34.525569Z",
     "iopub.status.busy": "2024-11-03T08:48:34.525250Z",
     "iopub.status.idle": "2024-11-03T08:48:35.004923Z",
     "shell.execute_reply": "2024-11-03T08:48:35.004168Z",
     "shell.execute_reply.started": "2024-11-03T08:48:34.525535Z"
    },
    "trusted": true
   },
   "outputs": [],
   "source": [
    "# Create a dataset from a Pandas DataFrame.\n",
    "dataset = Dataset.from_pandas(df).cast_column(\"image\", Image())"
   ]
  },
  {
   "cell_type": "code",
   "execution_count": 9,
   "metadata": {
    "execution": {
     "iopub.execute_input": "2024-11-03T08:48:35.006294Z",
     "iopub.status.busy": "2024-11-03T08:48:35.006013Z",
     "iopub.status.idle": "2024-11-03T08:48:35.045907Z",
     "shell.execute_reply": "2024-11-03T08:48:35.045089Z",
     "shell.execute_reply.started": "2024-11-03T08:48:35.006264Z"
    },
    "trusted": true
   },
   "outputs": [
    {
     "data": {
      "image/jpeg": "[encoded data removed]",
      "image/png": "[encoded data removed]",
      "text/plain": [
       "<PIL.PngImagePlugin.PngImageFile image mode=RGB size=64x64>"
      ]
     },
     "execution_count": 9,
     "metadata": {},
     "output_type": "execute_result"
    }
   ],
   "source": [
    "# Display the first image in the dataset\n",
    "dataset[0][\"image\"]"
   ]
  },
  {
   "cell_type": "code",
   "execution_count": 10,
   "metadata": {
    "execution": {
     "iopub.execute_input": "2024-11-03T08:48:35.050292Z",
     "iopub.status.busy": "2024-11-03T08:48:35.049961Z",
     "iopub.status.idle": "2024-11-03T08:48:50.473416Z",
     "shell.execute_reply": "2024-11-03T08:48:50.472510Z",
     "shell.execute_reply.started": "2024-11-03T08:48:35.050260Z"
    },
    "trusted": true
   },
   "outputs": [
    {
     "name": "stderr",
     "output_type": "stream",
     "text": [
      "100%|██████████| 111308/111308 [00:00<00:00, 180392.43it/s]"
     ]
    },
    {
     "name": "stdout",
     "output_type": "stream",
     "text": [
      "46356 46356 13\n",
      "(46356, 2)\n"
     ]
    },
    {
     "name": "stderr",
     "output_type": "stream",
     "text": [
      "\n"
     ]
    }
   ],
   "source": [
    "# the same for test data\n",
    "# Initialize empty lists to store file names and labels\n",
    "test_file_names = []\n",
    "test_labels = []\n",
    "\n",
    "# Iterate through all image files in the specified directory\n",
    "for file in tqdm(sorted((Path('/kaggle/input/ucf-crime-dataset/Test/').glob('*/*.*')))):\n",
    "    # check number of such files in a directory\n",
    "    sample_dir = '/'.join(str(file).split('/')[:-1])+'/'\n",
    "    test_label = str(file).split('/')[-2]  # Extract the label from the file path\n",
    "    # only select videos with certain crime types avoiding normal videos (see intro for more details of the approach)\n",
    "    if test_label != \"NormalVideos\":\n",
    "        test_labels.append(test_label)\n",
    "        test_file_names.append(str(file))  # Add the file path to the list\n",
    "\n",
    "# Print the total number of file names and labels\n",
    "print(len(test_file_names), len(test_labels), len(set(test_labels)))\n",
    "\n",
    "# Create a pandas dataframe from the collected file names and labels\n",
    "test_df = pd.DataFrame.from_dict({\"image\": test_file_names, \"label\": test_labels})\n",
    "print(test_df.shape)"
   ]
  },
  {
   "cell_type": "code",
   "execution_count": 11,
   "metadata": {
    "execution": {
     "iopub.execute_input": "2024-11-03T08:48:50.475193Z",
     "iopub.status.busy": "2024-11-03T08:48:50.474795Z",
     "iopub.status.idle": "2024-11-03T08:48:50.479807Z",
     "shell.execute_reply": "2024-11-03T08:48:50.478641Z",
     "shell.execute_reply.started": "2024-11-03T08:48:50.475149Z"
    },
    "trusted": true
   },
   "outputs": [],
   "source": [
    "# # also, sample test_df for faster load\n",
    "# test_df = test_df.sample(10**4)"
   ]
  },
  {
   "cell_type": "code",
   "execution_count": 12,
   "metadata": {
    "execution": {
     "iopub.execute_input": "2024-11-03T08:48:50.481191Z",
     "iopub.status.busy": "2024-11-03T08:48:50.480866Z",
     "iopub.status.idle": "2024-11-03T08:48:50.525556Z",
     "shell.execute_reply": "2024-11-03T08:48:50.524780Z",
     "shell.execute_reply.started": "2024-11-03T08:48:50.481153Z"
    },
    "trusted": true
   },
   "outputs": [],
   "source": [
    "# Create a dataset from a Pandas DataFrame.\n",
    "test_data = Dataset.from_pandas(test_df).cast_column(\"image\", Image())"
   ]
  },
  {
   "cell_type": "code",
   "execution_count": 13,
   "metadata": {
    "execution": {
     "iopub.execute_input": "2024-11-03T08:48:50.526882Z",
     "iopub.status.busy": "2024-11-03T08:48:50.526603Z",
     "iopub.status.idle": "2024-11-03T08:48:50.531800Z",
     "shell.execute_reply": "2024-11-03T08:48:50.530919Z",
     "shell.execute_reply.started": "2024-11-03T08:48:50.526851Z"
    },
    "trusted": true
   },
   "outputs": [
    {
     "name": "stdout",
     "output_type": "stream",
     "text": [
      "['Abuse', 'Abuse', 'Abuse', 'Abuse', 'Abuse']\n"
     ]
    }
   ],
   "source": [
    "# Extracting a subset of elements from the 'labels' list using slicing.\n",
    "# The slicing syntax [:5] selects elements from the beginning up to (but not including) the 5th element.\n",
    "# This will give us the first 5 elements of the 'labels' list.\n",
    "# The result will be a new list containing these elements.\n",
    "labels_subset = labels[:5]\n",
    "\n",
    "# Printing the subset of labels to inspect the content.\n",
    "print(labels_subset)"
   ]
  },
  {
   "cell_type": "code",
   "execution_count": 14,
   "metadata": {
    "execution": {
     "iopub.execute_input": "2024-11-03T08:48:50.533395Z",
     "iopub.status.busy": "2024-11-03T08:48:50.533039Z",
     "iopub.status.idle": "2024-11-03T08:48:50.551955Z",
     "shell.execute_reply": "2024-11-03T08:48:50.551117Z",
     "shell.execute_reply.started": "2024-11-03T08:48:50.533354Z"
    },
    "trusted": true
   },
   "outputs": [
    {
     "name": "stdout",
     "output_type": "stream",
     "text": [
      "Mapping of IDs to Labels: {0: 'Abuse', 1: 'Arrest', 2: 'Arson', 3: 'Assault', 4: 'Burglary', 5: 'Explosion', 6: 'Fighting', 7: 'RoadAccidents', 8: 'Robbery', 9: 'Shooting', 10: 'Shoplifting', 11: 'Stealing', 12: 'Vandalism'} \n",
      "\n",
      "Mapping of Labels to IDs: {'Abuse': 0, 'Arrest': 1, 'Arson': 2, 'Assault': 3, 'Burglary': 4, 'Explosion': 5, 'Fighting': 6, 'RoadAccidents': 7, 'Robbery': 8, 'Shooting': 9, 'Shoplifting': 10, 'Stealing': 11, 'Vandalism': 12}\n"
     ]
    }
   ],
   "source": [
    "# Create a list of unique labels by converting 'labels' to a set and then back to a list\n",
    "labels_list = sorted(list(set(labels)))\n",
    "\n",
    "# Initialize empty dictionaries to map labels to IDs and vice versa\n",
    "label2id, id2label = dict(), dict()\n",
    "\n",
    "# Iterate over the unique labels and assign each label an ID, and vice versa\n",
    "for i, label in enumerate(labels_list):\n",
    "    label2id[label] = i  # Map the label to its corresponding ID\n",
    "    id2label[i] = label  # Map the ID to its corresponding label\n",
    "\n",
    "# Print the resulting dictionaries for reference\n",
    "print(\"Mapping of IDs to Labels:\", id2label, '\\n')\n",
    "print(\"Mapping of Labels to IDs:\", label2id)"
   ]
  },
  {
   "cell_type": "code",
   "execution_count": 15,
   "metadata": {
    "execution": {
     "iopub.execute_input": "2024-11-03T08:48:50.553732Z",
     "iopub.status.busy": "2024-11-03T08:48:50.553415Z",
     "iopub.status.idle": "2024-11-03T08:48:53.065435Z",
     "shell.execute_reply": "2024-11-03T08:48:53.064491Z",
     "shell.execute_reply.started": "2024-11-03T08:48:50.553701Z"
    },
    "trusted": true
   },
   "outputs": [
    {
     "data": {
      "application/vnd.jupyter.widget-view+json": {
       "model_id": "4cf3645a14af4bf4b4582781b7717ee7",
       "version_major": 2,
       "version_minor": 0
      },
      "text/plain": [
       "Map:   0%|          | 0/582426 [00:00<?, ? examples/s]"
      ]
     },
     "metadata": {},
     "output_type": "display_data"
    },
    {
     "data": {
      "application/vnd.jupyter.widget-view+json": {
       "model_id": "f751a31b13ae463daefe855750dd32af",
       "version_major": 2,
       "version_minor": 0
      },
      "text/plain": [
       "Casting the dataset:   0%|          | 0/582426 [00:00<?, ? examples/s]"
      ]
     },
     "metadata": {},
     "output_type": "display_data"
    }
   ],
   "source": [
    "# Creating classlabels to match labels to IDs\n",
    "ClassLabels = ClassLabel(num_classes=len(labels_list), names=labels_list)\n",
    "\n",
    "# Mapping labels to IDs\n",
    "def map_label2id(example):\n",
    "    example['label'] = ClassLabels.str2int(example['label'])\n",
    "    return example\n",
    "\n",
    "dataset = dataset.map(map_label2id, batched=True)\n",
    "\n",
    "# Casting label column to ClassLabel Object\n",
    "dataset = dataset.cast_column('label', ClassLabels)\n",
    "\n",
    "# Splitting the dataset into training and testing sets using an 90-10 split ratio.\n",
    "dataset = dataset.train_test_split(test_size=0.1, shuffle=True, stratify_by_column=\"label\")\n",
    "\n",
    "# Extracting the training data from the split dataset.\n",
    "train_data = dataset['train']\n",
    "\n",
    "# Extracting the validation data from the split dataset.\n",
    "val_data = dataset['test']"
   ]
  },
  {
   "cell_type": "code",
   "execution_count": 16,
   "metadata": {
    "execution": {
     "iopub.execute_input": "2024-11-03T08:48:53.066866Z",
     "iopub.status.busy": "2024-11-03T08:48:53.066585Z",
     "iopub.status.idle": "2024-11-03T08:48:53.610289Z",
     "shell.execute_reply": "2024-11-03T08:48:53.609398Z",
     "shell.execute_reply.started": "2024-11-03T08:48:53.066836Z"
    },
    "trusted": true
   },
   "outputs": [
    {
     "data": {
      "application/vnd.jupyter.widget-view+json": {
       "model_id": "f15e70ea85c64f07ab877f890c85c1b2",
       "version_major": 2,
       "version_minor": 0
      },
      "text/plain": [
       "preprocessor_config.json:   0%|          | 0.00/160 [00:00<?, ?B/s]"
      ]
     },
     "metadata": {},
     "output_type": "display_data"
    },
    {
     "name": "stdout",
     "output_type": "stream",
     "text": [
      "Size:  224\n"
     ]
    }
   ],
   "source": [
    "# Define the pre-trained ViT model string\n",
    "model_str = 'google/vit-base-patch16-224-in21k'\n",
    "\n",
    "# Create a processor for ViT model input from the pre-trained model\n",
    "processor = ViTImageProcessor.from_pretrained(model_str)\n",
    "\n",
    "# Retrieve the image mean and standard deviation used for normalization\n",
    "image_mean, image_std = processor.image_mean, processor.image_std\n",
    "\n",
    "# Get the size (height) of the ViT model's input images\n",
    "size = processor.size[\"height\"]\n",
    "print(\"Size: \", size)\n",
    "\n",
    "# Define a normalization transformation for the input images\n",
    "normalize = Normalize(mean=image_mean, std=image_std)\n",
    "\n",
    "# Define a set of transformations for training data\n",
    "_train_transforms = Compose(\n",
    "    [\n",
    "        Resize((size, size)),             # Resize images to the ViT model's input size\n",
    "#         RandomRotation(90),               # Apply random rotation\n",
    "        RandomAdjustSharpness(2),         # Adjust sharpness randomly\n",
    "#         RandomHorizontalFlip(0.5),        # Random horizontal flip\n",
    "        ToTensor(),                       # Convert images to tensors\n",
    "        normalize                         # Normalize images using mean and std\n",
    "    ]\n",
    ")\n",
    "\n",
    "# Define a set of transformations for validation data\n",
    "_val_transforms = Compose(\n",
    "    [\n",
    "        Resize((size, size)),             # Resize images to the ViT model's input size\n",
    "        ToTensor(),                       # Convert images to tensors\n",
    "        normalize                         # Normalize images using mean and std\n",
    "    ]\n",
    ")\n",
    "\n",
    "# Define a function to apply training transformations to a batch of examples\n",
    "def train_transforms(examples):\n",
    "    examples['pixel_values'] = [_train_transforms(image.convert(\"RGB\")) for image in examples['image']]\n",
    "    return examples\n",
    "\n",
    "# Define a function to apply validation transformations to a batch of examples\n",
    "def val_transforms(examples):\n",
    "    examples['pixel_values'] = [_val_transforms(image.convert(\"RGB\")) for image in examples['image']]\n",
    "    return examples"
   ]
  },
  {
   "cell_type": "code",
   "execution_count": 17,
   "metadata": {
    "execution": {
     "iopub.execute_input": "2024-11-03T08:48:53.612273Z",
     "iopub.status.busy": "2024-11-03T08:48:53.611718Z",
     "iopub.status.idle": "2024-11-03T08:48:53.791381Z",
     "shell.execute_reply": "2024-11-03T08:48:53.790524Z",
     "shell.execute_reply.started": "2024-11-03T08:48:53.612238Z"
    },
    "trusted": true
   },
   "outputs": [
    {
     "data": {
      "application/vnd.jupyter.widget-view+json": {
       "model_id": "ad36100ee50246a388342681d7fb5285",
       "version_major": 2,
       "version_minor": 0
      },
      "text/plain": [
       "Map:   0%|          | 0/46356 [00:00<?, ? examples/s]"
      ]
     },
     "metadata": {},
     "output_type": "display_data"
    },
    {
     "data": {
      "application/vnd.jupyter.widget-view+json": {
       "model_id": "f79189dc4a20482e9825bb71dc6eb0a3",
       "version_major": 2,
       "version_minor": 0
      },
      "text/plain": [
       "Casting the dataset:   0%|          | 0/46356 [00:00<?, ? examples/s]"
      ]
     },
     "metadata": {},
     "output_type": "display_data"
    }
   ],
   "source": [
    "# Same transformation for test data\n",
    "test_data = test_data.map(map_label2id, batched=True)\n",
    "\n",
    "# Casting label column to ClassLabel Object\n",
    "test_data = test_data.cast_column('label', ClassLabels)"
   ]
  },
  {
   "cell_type": "code",
   "execution_count": 18,
   "metadata": {
    "execution": {
     "iopub.execute_input": "2024-11-03T08:48:53.793130Z",
     "iopub.status.busy": "2024-11-03T08:48:53.792750Z",
     "iopub.status.idle": "2024-11-03T08:48:53.811302Z",
     "shell.execute_reply": "2024-11-03T08:48:53.810349Z",
     "shell.execute_reply.started": "2024-11-03T08:48:53.793084Z"
    },
    "trusted": true
   },
   "outputs": [],
   "source": [
    "# Set the transforms for the training data\n",
    "train_data.set_transform(train_transforms)\n",
    "\n",
    "# Set the transforms for the test/validation data\n",
    "val_data.set_transform(val_transforms)\n",
    "\n",
    "# Set the transforms for the test/validation data\n",
    "\n",
    "test_data.set_transform(val_transforms)"
   ]
  },
  {
   "cell_type": "code",
   "execution_count": 19,
   "metadata": {
    "execution": {
     "iopub.execute_input": "2024-11-03T08:48:53.813370Z",
     "iopub.status.busy": "2024-11-03T08:48:53.812632Z",
     "iopub.status.idle": "2024-11-03T08:48:53.821179Z",
     "shell.execute_reply": "2024-11-03T08:48:53.820284Z",
     "shell.execute_reply.started": "2024-11-03T08:48:53.813325Z"
    },
    "trusted": true
   },
   "outputs": [],
   "source": [
    "# Define a collate function that prepares batched data for model training.\n",
    "def collate_fn(examples):\n",
    "    # Stack the pixel values from individual examples into a single tensor.\n",
    "    pixel_values = torch.stack([example[\"pixel_values\"] for example in examples])\n",
    "    \n",
    "    # Convert the label strings in examples to corresponding numeric IDs using label2id dictionary.\n",
    "    labels = torch.tensor([example['label'] for example in examples])\n",
    "    \n",
    "    # Return a dictionary containing the batched pixel values and labels.\n",
    "    return {\"pixel_values\": pixel_values, \"labels\": labels}"
   ]
  },
  {
   "cell_type": "markdown",
   "metadata": {},
   "source": [
    "# Load, train, and evaluate model"
   ]
  },
  {
   "cell_type": "code",
   "execution_count": 20,
   "metadata": {
    "execution": {
     "iopub.execute_input": "2024-11-03T08:48:53.822558Z",
     "iopub.status.busy": "2024-11-03T08:48:53.822241Z",
     "iopub.status.idle": "2024-11-03T08:48:56.652091Z",
     "shell.execute_reply": "2024-11-03T08:48:56.651212Z",
     "shell.execute_reply.started": "2024-11-03T08:48:53.822526Z"
    },
    "trusted": true
   },
   "outputs": [
    {
     "data": {
      "application/vnd.jupyter.widget-view+json": {
       "model_id": "fb3f44544b7b46c8ad66a2202529c116",
       "version_major": 2,
       "version_minor": 0
      },
      "text/plain": [
       "config.json:   0%|          | 0.00/502 [00:00<?, ?B/s]"
      ]
     },
     "metadata": {},
     "output_type": "display_data"
    },
    {
     "data": {
      "application/vnd.jupyter.widget-view+json": {
       "model_id": "2990e2c8235a46ee93f4ba4686addc01",
       "version_major": 2,
       "version_minor": 0
      },
      "text/plain": [
       "model.safetensors:   0%|          | 0.00/346M [00:00<?, ?B/s]"
      ]
     },
     "metadata": {},
     "output_type": "display_data"
    },
    {
     "name": "stderr",
     "output_type": "stream",
     "text": [
      "Some weights of ViTForImageClassification were not initialized from the model checkpoint at google/vit-base-patch16-224-in21k and are newly initialized: ['classifier.bias', 'classifier.weight']\n",
      "You should probably TRAIN this model on a down-stream task to be able to use it for predictions and inference.\n"
     ]
    },
    {
     "name": "stdout",
     "output_type": "stream",
     "text": [
      "85.808653\n"
     ]
    }
   ],
   "source": [
    "# Create a ViTForImageClassification model from a pretrained checkpoint with a specified number of output labels.\n",
    "model = ViTForImageClassification.from_pretrained(model_str, num_labels=len(labels_list))\n",
    "\n",
    "# Configure the mapping of class labels to their corresponding indices for later reference.\n",
    "model.config.id2label = id2label\n",
    "model.config.label2id = label2id\n",
    "\n",
    "# Calculate and print the number of trainable parameters in millions for the model.\n",
    "print(model.num_parameters(only_trainable=True) / 1e6)"
   ]
  },
  {
   "cell_type": "code",
   "execution_count": 21,
   "metadata": {
    "execution": {
     "iopub.execute_input": "2024-11-03T08:48:56.653534Z",
     "iopub.status.busy": "2024-11-03T08:48:56.653216Z",
     "iopub.status.idle": "2024-11-03T08:48:57.985637Z",
     "shell.execute_reply": "2024-11-03T08:48:57.984875Z",
     "shell.execute_reply.started": "2024-11-03T08:48:56.653500Z"
    },
    "trusted": true
   },
   "outputs": [
    {
     "data": {
      "application/vnd.jupyter.widget-view+json": {
       "model_id": "45da40d33dfa43948a5a23f8172d49ee",
       "version_major": 2,
       "version_minor": 0
      },
      "text/plain": [
       "Downloading builder script:   0%|          | 0.00/4.20k [00:00<?, ?B/s]"
      ]
     },
     "metadata": {},
     "output_type": "display_data"
    }
   ],
   "source": [
    "# Load the accuracy metric from a module named 'evaluate'\n",
    "accuracy = evaluate.load(\"accuracy\")\n",
    "\n",
    "# Define a function 'compute_metrics' to calculate evaluation metrics\n",
    "def compute_metrics(eval_pred):\n",
    "    # Extract model predictions from the evaluation prediction object\n",
    "    predictions = eval_pred.predictions\n",
    "    \n",
    "    # Extract true labels from the evaluation prediction object\n",
    "    label_ids = eval_pred.label_ids\n",
    "    \n",
    "    # Calculate accuracy using the loaded accuracy metric\n",
    "    # Convert model predictions to class labels by selecting the class with the highest probability (argmax)\n",
    "    predicted_labels = predictions.argmax(axis=1)\n",
    "    \n",
    "    # Calculate accuracy score by comparing predicted labels to true labels\n",
    "    acc_score = accuracy.compute(predictions=predicted_labels, references=label_ids)['accuracy']\n",
    "    \n",
    "    # Return the computed accuracy as a dictionary with the key \"accuracy\"\n",
    "    return {\n",
    "        \"accuracy\": acc_score\n",
    "    }"
   ]
  },
  {
   "cell_type": "code",
   "execution_count": 22,
   "metadata": {
    "execution": {
     "iopub.execute_input": "2024-11-03T08:48:57.986968Z",
     "iopub.status.busy": "2024-11-03T08:48:57.986665Z",
     "iopub.status.idle": "2024-11-03T08:48:58.066533Z",
     "shell.execute_reply": "2024-11-03T08:48:58.065756Z",
     "shell.execute_reply.started": "2024-11-03T08:48:57.986936Z"
    },
    "trusted": true
   },
   "outputs": [],
   "source": [
    "# Define the name of the evaluation metric to be used during training and evaluation.\n",
    "metric_name = \"accuracy\"\n",
    "\n",
    "# Define the name of the model, which will be used to create a directory for saving model checkpoints and outputs.\n",
    "model_name = \"crime_type_cctv_image_detection\"\n",
    "\n",
    "# Define the number of training epochs for the model.\n",
    "num_train_epochs = 2\n",
    "\n",
    "# Create an instance of TrainingArguments to configure training settings.\n",
    "args = TrainingArguments(\n",
    "    # Specify the directory where model checkpoints and outputs will be saved.\n",
    "    output_dir=model_name,\n",
    "    \n",
    "    # Specify the directory where training logs will be stored.\n",
    "    logging_dir='./logs',\n",
    "    \n",
    "    # Define the evaluation strategy, which is performed at the end of each epoch.\n",
    "    evaluation_strategy=\"epoch\",\n",
    "    \n",
    "    # Set the learning rate for the optimizer.\n",
    "    learning_rate=1e-6,\n",
    "    \n",
    "    # Define the batch size for training on each device.\n",
    "    per_device_train_batch_size=32,\n",
    "    \n",
    "    # Define the batch size for evaluation on each device.\n",
    "    per_device_eval_batch_size=8,\n",
    "    \n",
    "    # Specify the total number of training epochs.\n",
    "    num_train_epochs=num_train_epochs,\n",
    "    \n",
    "    # Apply weight decay to prevent overfitting.\n",
    "    weight_decay=0.02,\n",
    "    \n",
    "    # Set the number of warm-up steps for the learning rate scheduler.\n",
    "    warmup_steps=50,\n",
    "    \n",
    "    # Disable the removal of unused columns from the dataset.\n",
    "    remove_unused_columns=False,\n",
    "    \n",
    "    # Define the strategy for saving model checkpoints (per epoch in this case).\n",
    "    save_strategy='epoch',\n",
    "    \n",
    "    # Load the best model at the end of training.\n",
    "    load_best_model_at_end=True,\n",
    "    \n",
    "    # Limit the total number of saved checkpoints to save space.\n",
    "    save_total_limit=1,\n",
    "    \n",
    "    # Specify that training progress should not be reported.\n",
    "    report_to=\"none\"\n",
    ")"
   ]
  },
  {
   "cell_type": "code",
   "execution_count": 23,
   "metadata": {
    "execution": {
     "iopub.execute_input": "2024-11-03T08:48:58.068104Z",
     "iopub.status.busy": "2024-11-03T08:48:58.067727Z",
     "iopub.status.idle": "2024-11-03T08:48:58.901251Z",
     "shell.execute_reply": "2024-11-03T08:48:58.900464Z",
     "shell.execute_reply.started": "2024-11-03T08:48:58.068060Z"
    },
    "trusted": true
   },
   "outputs": [],
   "source": [
    "# Create a Trainer instance for fine-tuning a language model.\n",
    "\n",
    "# - `model`: The pre-trained language model to be fine-tuned.\n",
    "# - `args`: Configuration settings and hyperparameters for training.\n",
    "# - `train_dataset`: The dataset used for training the model.\n",
    "# - `eval_dataset`: The dataset used for evaluating the model during training.\n",
    "# - `data_collator`: A function that defines how data batches are collated and processed.\n",
    "# - `compute_metrics`: A function for computing custom evaluation metrics.\n",
    "# - `tokenizer`: The tokenizer used for processing text data.\n",
    "\n",
    "trainer = Trainer(\n",
    "    model,\n",
    "    args,\n",
    "    train_dataset=train_data,\n",
    "    eval_dataset=val_data,\n",
    "    data_collator=collate_fn,\n",
    "    compute_metrics=compute_metrics,\n",
    "    tokenizer=processor,\n",
    ")"
   ]
  },
  {
   "cell_type": "code",
   "execution_count": 24,
   "metadata": {
    "execution": {
     "iopub.execute_input": "2024-11-03T08:48:58.902674Z",
     "iopub.status.busy": "2024-11-03T08:48:58.902361Z",
     "iopub.status.idle": "2024-11-03T09:05:26.628185Z",
     "shell.execute_reply": "2024-11-03T09:05:26.627309Z",
     "shell.execute_reply.started": "2024-11-03T08:48:58.902642Z"
    },
    "trusted": true
   },
   "outputs": [
    {
     "data": {
      "text/html": [
       "\n",
       "    <div>\n",
       "      \n",
       "      <progress value='14562' max='7281' style='width:300px; height:20px; vertical-align: middle;'></progress>\n",
       "      [7281/7281 4:20:20]\n",
       "    </div>\n",
       "    "
      ],
      "text/plain": [
       "<IPython.core.display.HTML object>"
      ]
     },
     "metadata": {},
     "output_type": "display_data"
    },
    {
     "data": {
      "text/plain": [
       "{'eval_loss': 2.5808005332946777,\n",
       " 'eval_model_preparation_time': 0.0071,\n",
       " 'eval_accuracy': 0.06682348093333104,\n",
       " 'eval_runtime': 987.7113,\n",
       " 'eval_samples_per_second': 58.968,\n",
       " 'eval_steps_per_second': 7.372}"
      ]
     },
     "execution_count": 24,
     "metadata": {},
     "output_type": "execute_result"
    }
   ],
   "source": [
    "# Evaluate the pre-training model's performance on a test dataset.\n",
    "# This function calculates various metrics such as accuracy, loss, etc.,\n",
    "# to assess how well the model is performing on unseen data.\n",
    "\n",
    "trainer.evaluate()"
   ]
  },
  {
   "cell_type": "code",
   "execution_count": 25,
   "metadata": {
    "execution": {
     "iopub.execute_input": "2024-11-03T09:05:26.630090Z",
     "iopub.status.busy": "2024-11-03T09:05:26.629622Z",
     "iopub.status.idle": "2024-11-03T16:37:54.211016Z",
     "shell.execute_reply": "2024-11-03T16:37:54.210059Z",
     "shell.execute_reply.started": "2024-11-03T09:05:26.630046Z"
    },
    "trusted": true
   },
   "outputs": [
    {
     "data": {
      "text/html": [
       "\n",
       "    <div>\n",
       "      \n",
       "      <progress value='32762' max='32762' style='width:300px; height:20px; vertical-align: middle;'></progress>\n",
       "      [32762/32762 7:32:25, Epoch 2/2]\n",
       "    </div>\n",
       "    <table border=\"1\" class=\"dataframe\">\n",
       "  <thead>\n",
       " <tr style=\"text-align: left;\">\n",
       "      <th>Epoch</th>\n",
       "      <th>Training Loss</th>\n",
       "      <th>Validation Loss</th>\n",
       "      <th>Model Preparation Time</th>\n",
       "      <th>Accuracy</th>\n",
       "    </tr>\n",
       "  </thead>\n",
       "  <tbody>\n",
       "    <tr>\n",
       "      <td>1</td>\n",
       "      <td>0.466700</td>\n",
       "      <td>0.436620</td>\n",
       "      <td>0.007100</td>\n",
       "      <td>0.970898</td>\n",
       "    </tr>\n",
       "    <tr>\n",
       "      <td>2</td>\n",
       "      <td>0.208700</td>\n",
       "      <td>0.209669</td>\n",
       "      <td>0.007100</td>\n",
       "      <td>0.987483</td>\n",
       "    </tr>\n",
       "  </tbody>\n",
       "</table><p>"
      ],
      "text/plain": [
       "<IPython.core.display.HTML object>"
      ]
     },
     "metadata": {},
     "output_type": "display_data"
    },
    {
     "data": {
      "text/plain": [
       "TrainOutput(global_step=32762, training_loss=0.7266952501141787, metrics={'train_runtime': 27147.2157, 'train_samples_per_second': 38.618, 'train_steps_per_second': 1.207, 'total_flos': 8.124797659371543e+19, 'train_loss': 0.7266952501141787, 'epoch': 2.0})"
      ]
     },
     "execution_count": 25,
     "metadata": {},
     "output_type": "execute_result"
    }
   ],
   "source": [
    "# Start training the model using the trainer object.\n",
    "trainer.train()"
   ]
  },
  {
   "cell_type": "code",
   "execution_count": 26,
   "metadata": {
    "execution": {
     "iopub.execute_input": "2024-11-03T16:37:54.212619Z",
     "iopub.status.busy": "2024-11-03T16:37:54.212290Z",
     "iopub.status.idle": "2024-11-03T16:46:20.542488Z",
     "shell.execute_reply": "2024-11-03T16:46:20.541502Z",
     "shell.execute_reply.started": "2024-11-03T16:37:54.212586Z"
    },
    "trusted": true
   },
   "outputs": [
    {
     "data": {
      "text/html": [],
      "text/plain": [
       "<IPython.core.display.HTML object>"
      ]
     },
     "metadata": {},
     "output_type": "display_data"
    },
    {
     "data": {
      "text/plain": [
       "{'eval_loss': 0.2096688449382782,\n",
       " 'eval_model_preparation_time': 0.0071,\n",
       " 'eval_accuracy': 0.9874834744089418,\n",
       " 'eval_runtime': 506.3159,\n",
       " 'eval_samples_per_second': 115.033,\n",
       " 'eval_steps_per_second': 14.38,\n",
       " 'epoch': 2.0}"
      ]
     },
     "execution_count": 26,
     "metadata": {},
     "output_type": "execute_result"
    }
   ],
   "source": [
    "# Evaluate the post-training model's performance on the validation or test dataset.\n",
    "# This function computes various evaluation metrics like accuracy, loss, etc.\n",
    "# and provides insights into how well the model is performing.\n",
    "\n",
    "trainer.evaluate()"
   ]
  },
  {
   "cell_type": "code",
   "execution_count": 27,
   "metadata": {
    "execution": {
     "iopub.execute_input": "2024-11-03T16:46:20.543944Z",
     "iopub.status.busy": "2024-11-03T16:46:20.543640Z",
     "iopub.status.idle": "2024-11-03T16:59:34.099970Z",
     "shell.execute_reply": "2024-11-03T16:59:34.099071Z",
     "shell.execute_reply.started": "2024-11-03T16:46:20.543911Z"
    },
    "trusted": true
   },
   "outputs": [
    {
     "name": "stdout",
     "output_type": "stream",
     "text": [
      "{'test_loss': 2.5939037799835205, 'test_model_preparation_time': 0.0071, 'test_accuracy': 0.21781430667011822, 'test_runtime': 793.5412, 'test_samples_per_second': 58.417, 'test_steps_per_second': 7.303}\n"
     ]
    }
   ],
   "source": [
    "# Use the trained 'trainer' to make predictions on the 'test_data'.\n",
    "outputs = trainer.predict(test_data)\n",
    "\n",
    "# Print the metrics obtained from the prediction outputs.\n",
    "print(outputs.metrics)"
   ]
  },
  {
   "cell_type": "code",
   "execution_count": 28,
   "metadata": {
    "execution": {
     "iopub.execute_input": "2024-11-03T16:59:34.104779Z",
     "iopub.status.busy": "2024-11-03T16:59:34.104474Z",
     "iopub.status.idle": "2024-11-03T16:59:35.144416Z",
     "shell.execute_reply": "2024-11-03T16:59:35.143504Z",
     "shell.execute_reply.started": "2024-11-03T16:59:34.104747Z"
    },
    "trusted": true
   },
   "outputs": [
    {
     "name": "stdout",
     "output_type": "stream",
     "text": [
      "Accuracy: 0.2178\n",
      "F1 Score: 0.2009\n"
     ]
    },
    {
     "data": {
      "image/png": "[encoded data removed]",
      "text/plain": [
       "<Figure size 1400x1200 with 2 Axes>"
      ]
     },
     "metadata": {},
     "output_type": "display_data"
    },
    {
     "name": "stdout",
     "output_type": "stream",
     "text": [
      "\n",
      "Classification report:\n",
      "\n",
      "               precision    recall  f1-score   support\n",
      "\n",
      "        Abuse     0.0831    0.4411    0.1399       297\n",
      "       Arrest     0.3701    0.2383    0.2899      3365\n",
      "        Arson     0.2103    0.2707    0.2367      2793\n",
      "      Assault     0.0135    0.0083    0.0103      2657\n",
      "     Burglary     0.4341    0.2628    0.3274      7657\n",
      "    Explosion     0.8575    0.1220    0.2136      6510\n",
      "     Fighting     0.1200    0.4119    0.1858      1231\n",
      "RoadAccidents     0.2454    0.6568    0.3573      2663\n",
      "      Robbery     0.0170    0.2240    0.0316       835\n",
      "     Shooting     0.4182    0.0706    0.1209      7630\n",
      "  Shoplifting     0.9057    0.2457    0.3865      7623\n",
      "     Stealing     0.1380    0.2198    0.1696      1984\n",
      "    Vandalism     0.0980    0.2601    0.1423      1111\n",
      "\n",
      "     accuracy                         0.2178     46356\n",
      "    macro avg     0.3008    0.2640    0.2009     46356\n",
      " weighted avg     0.4766    0.2178    0.2410     46356\n",
      "\n"
     ]
    }
   ],
   "source": [
    "# Extract the true labels from the model outputs\n",
    "y_true = outputs.label_ids\n",
    "\n",
    "# Predict the labels by selecting the class with the highest probability\n",
    "y_pred = outputs.predictions.argmax(1)\n",
    "\n",
    "# Define a function to plot a confusion matrix\n",
    "def plot_confusion_matrix(cm, classes, title='Confusion Matrix', cmap=plt.cm.Blues, figsize=(10, 8)):\n",
    "    \"\"\"\n",
    "    This function plots a confusion matrix.\n",
    "\n",
    "    Parameters:\n",
    "        cm (array-like): Confusion matrix as returned by sklearn.metrics.confusion_matrix.\n",
    "        classes (list): List of class names, e.g., ['Class 0', 'Class 1'].\n",
    "        title (str): Title for the plot.\n",
    "        cmap (matplotlib colormap): Colormap for the plot.\n",
    "    \"\"\"\n",
    "    # Create a figure with a specified size\n",
    "    plt.figure(figsize=figsize)\n",
    "    \n",
    "    # Display the confusion matrix as an image with a colormap\n",
    "    plt.imshow(cm, interpolation='nearest', cmap=cmap)\n",
    "    plt.title(title)\n",
    "    plt.colorbar()\n",
    "\n",
    "    # Define tick marks and labels for the classes on the axes\n",
    "    tick_marks = np.arange(len(classes))\n",
    "    plt.xticks(tick_marks, classes, rotation=90)\n",
    "    plt.yticks(tick_marks, classes)\n",
    "\n",
    "    fmt = '.0f'\n",
    "    # Add text annotations to the plot indicating the values in the cells\n",
    "    thresh = cm.max() / 2.0\n",
    "    for i, j in itertools.product(range(cm.shape[0]), range(cm.shape[1])):\n",
    "        plt.text(j, i, format(cm[i, j], fmt), horizontalalignment=\"center\", color=\"white\" if cm[i, j] > thresh else \"black\")\n",
    "\n",
    "    # Label the axes\n",
    "    plt.ylabel('True label')\n",
    "    plt.xlabel('Predicted label')\n",
    "\n",
    "    # Ensure the plot layout is tight\n",
    "    plt.tight_layout()\n",
    "    # Display the plot\n",
    "    plt.show()\n",
    "\n",
    "# Calculate accuracy and F1 score\n",
    "accuracy = accuracy_score(y_true, y_pred)\n",
    "f1 = f1_score(y_true, y_pred, average='macro')\n",
    "\n",
    "# Display accuracy and F1 score\n",
    "print(f\"Accuracy: {accuracy:.4f}\")\n",
    "print(f\"F1 Score: {f1:.4f}\")\n",
    "\n",
    "# Get the confusion matrix if there are a relatively small number of labels\n",
    "if len(labels_list) <= 120:\n",
    "    # Compute the confusion matrix\n",
    "    cm = confusion_matrix(y_true, y_pred)\n",
    "\n",
    "    # Plot the confusion matrix using the defined function\n",
    "    plot_confusion_matrix(cm, labels_list, figsize=(14, 12))\n",
    "\n",
    "# Finally, display classification report\n",
    "print()\n",
    "print(\"Classification report:\")\n",
    "print()\n",
    "print(classification_report(y_true, y_pred, target_names=labels_list, digits=4))"
   ]
  },
  {
   "cell_type": "code",
   "execution_count": 29,
   "metadata": {
    "execution": {
     "iopub.execute_input": "2024-11-03T16:59:35.146234Z",
     "iopub.status.busy": "2024-11-03T16:59:35.145811Z",
     "iopub.status.idle": "2024-11-03T16:59:35.833431Z",
     "shell.execute_reply": "2024-11-03T16:59:35.832636Z",
     "shell.execute_reply.started": "2024-11-03T16:59:35.146185Z"
    },
    "trusted": true
   },
   "outputs": [],
   "source": [
    "# Save the trained model: This line of code is responsible for saving the model\n",
    "# that has been trained using the trainer object. It will serialize the model\n",
    "# and its associated weights, making it possible to reload and use the model\n",
    "# in the future without the need to retrain it.\n",
    "trainer.save_model()"
   ]
  },
  {
   "cell_type": "code",
   "execution_count": 30,
   "metadata": {
    "execution": {
     "iopub.execute_input": "2024-11-03T16:59:35.834816Z",
     "iopub.status.busy": "2024-11-03T16:59:35.834521Z",
     "iopub.status.idle": "2024-11-03T16:59:36.052123Z",
     "shell.execute_reply": "2024-11-03T16:59:36.051181Z",
     "shell.execute_reply.started": "2024-11-03T16:59:35.834784Z"
    },
    "trusted": true
   },
   "outputs": [],
   "source": [
    "# Import the 'pipeline' function from the 'transformers' library.\n",
    "from transformers import pipeline\n",
    "\n",
    "# Create a pipeline for image classification tasks. \n",
    "# You need to specify the 'model_name' and the 'device' to use for inference.\n",
    "# - 'model_name': The name of the pre-trained model to be used for image classification.\n",
    "# - 'device': Specifies the device to use for running the model (0 for GPU, -1 for CPU).\n",
    "pipe = pipeline('image-classification', model=model_name, device=0)"
   ]
  },
  {
   "cell_type": "code",
   "execution_count": 31,
   "metadata": {
    "execution": {
     "iopub.execute_input": "2024-11-03T16:59:36.054040Z",
     "iopub.status.busy": "2024-11-03T16:59:36.053388Z",
     "iopub.status.idle": "2024-11-03T16:59:36.075873Z",
     "shell.execute_reply": "2024-11-03T16:59:36.074996Z",
     "shell.execute_reply.started": "2024-11-03T16:59:36.053995Z"
    },
    "trusted": true
   },
   "outputs": [
    {
     "data": {
      "image/jpeg": "[encoded data removed]",
      "image/png": "[encoded data removed]",
      "text/plain": [
       "<PIL.PngImagePlugin.PngImageFile image mode=RGB size=64x64>"
      ]
     },
     "execution_count": 31,
     "metadata": {},
     "output_type": "execute_result"
    }
   ],
   "source": [
    "# Accessing an image from the 'test_data' dataset using index 1.\n",
    "image = test_data[1][\"image\"]\n",
    "\n",
    "# Displaying the 'image' variable.\n",
    "image"
   ]
  },
  {
   "cell_type": "code",
   "execution_count": 32,
   "metadata": {
    "execution": {
     "iopub.execute_input": "2024-11-03T16:59:36.077274Z",
     "iopub.status.busy": "2024-11-03T16:59:36.076978Z",
     "iopub.status.idle": "2024-11-03T16:59:36.110563Z",
     "shell.execute_reply": "2024-11-03T16:59:36.109717Z",
     "shell.execute_reply.started": "2024-11-03T16:59:36.077241Z"
    },
    "trusted": true
   },
   "outputs": [
    {
     "data": {
      "text/plain": [
       "[{'label': 'Abuse', 'score': 0.9041248559951782},\n",
       " {'label': 'Shooting', 'score': 0.756812334060669},\n",
       " {'label': 'Arson', 'score': 0.6220657825469971},\n",
       " {'label': 'Vandalism', 'score': 0.5300188660621643},\n",
       " {'label': 'Assault', 'score': 0.4702683985233307}]"
      ]
     },
     "execution_count": 32,
     "metadata": {},
     "output_type": "execute_result"
    }
   ],
   "source": [
    "# Apply the 'pipe' function to process the 'image' variable.\n",
    "pipe(image)"
   ]
  },
  {
   "cell_type": "code",
   "execution_count": 33,
   "metadata": {
    "execution": {
     "iopub.execute_input": "2024-11-03T16:59:36.112541Z",
     "iopub.status.busy": "2024-11-03T16:59:36.111815Z",
     "iopub.status.idle": "2024-11-03T16:59:36.122171Z",
     "shell.execute_reply": "2024-11-03T16:59:36.121325Z",
     "shell.execute_reply.started": "2024-11-03T16:59:36.112499Z"
    },
    "trusted": true
   },
   "outputs": [
    {
     "data": {
      "text/plain": [
       "'Abuse'"
      ]
     },
     "execution_count": 33,
     "metadata": {},
     "output_type": "execute_result"
    }
   ],
   "source": [
    "# This line of code accesses the \"label\" attribute of a specific element in the test_data list.\n",
    "# It's used to retrieve the actual label associated with a test data point.\n",
    "id2label[test_data[1][\"label\"]]"
   ]
  },
  {
   "cell_type": "markdown",
   "metadata": {},
   "source": [
    "# Send model to Huggingface"
   ]
  },
  {
   "cell_type": "code",
   "execution_count": 34,
   "metadata": {
    "execution": {
     "iopub.execute_input": "2024-11-03T17:02:11.060047Z",
     "iopub.status.busy": "2024-11-03T17:02:11.059361Z",
     "iopub.status.idle": "2024-11-03T17:02:11.084586Z",
     "shell.execute_reply": "2024-11-03T17:02:11.083762Z",
     "shell.execute_reply.started": "2024-11-03T17:02:11.060006Z"
    },
    "trusted": true
   },
   "outputs": [
    {
     "data": {
      "application/vnd.jupyter.widget-view+json": {
       "model_id": "89dbebe580594cd1983fd1f9ba2843cf",
       "version_major": 2,
       "version_minor": 0
      },
      "text/plain": [
       "VBox(children=(HTML(value='<center> <img\\nsrc=https://huggingface.co/front/assets/huggingface_logo-noborder.sv…"
      ]
     },
     "metadata": {},
     "output_type": "display_data"
    }
   ],
   "source": [
    "# Import the necessary module to interact with the Hugging Face Hub.\n",
    "from huggingface_hub import notebook_login\n",
    "\n",
    "# Perform a login to the Hugging Face Hub.\n",
    "notebook_login()"
   ]
  },
  {
   "cell_type": "code",
   "execution_count": null,
   "metadata": {
    "execution": {
     "iopub.execute_input": "2024-11-03T17:02:28.640152Z",
     "iopub.status.busy": "2024-11-03T17:02:28.639348Z",
     "iopub.status.idle": "2024-11-03T17:02:29.057830Z",
     "shell.execute_reply": "2024-11-03T17:02:29.056950Z",
     "shell.execute_reply.started": "2024-11-03T17:02:28.640113Z"
    },
    "trusted": true
   },
   "outputs": [],
   "source": [
    "# Import the HfApi class from the huggingface_hub library.\n",
    "from huggingface_hub import HfApi\n",
    "\n",
    "# Create an instance of the HfApi class.\n",
    "api = HfApi()\n",
    "\n",
    "# Define the repository ID by combining the username \"dima806\" with the model name.\n",
    "repo_id = f\"Prabesh/{model_name}\"\n",
    "\n",
    "try:\n",
    "    # Attempt to create a new repository on the Hugging Face Model Hub using the specified repo_id.\n",
    "    api.create_repo(repo_id)\n",
    "    \n",
    "    # If the repository creation is successful, print a message indicating that the repository was created.\n",
    "    print(f\"Repo {repo_id} created\")\n",
    "except:\n",
    "    # If an exception is raised, print a message indicating that the repository already exists.\n",
    "    print(f\"Repo {repo_id} already exists\")"
   ]
  },
  {
   "cell_type": "code",
   "execution_count": 36,
   "metadata": {
    "execution": {
     "iopub.execute_input": "2024-11-03T17:02:29.168564Z",
     "iopub.status.busy": "2024-11-03T17:02:29.167856Z",
     "iopub.status.idle": "2024-11-03T17:03:02.031390Z",
     "shell.execute_reply": "2024-11-03T17:03:02.030498Z",
     "shell.execute_reply.started": "2024-11-03T17:02:29.168527Z"
    },
    "trusted": true
   },
   "outputs": [
    {
     "data": {
      "application/vnd.jupyter.widget-view+json": {
       "model_id": "6c6ec6a2555444cc95c9744c8671fb1f",
       "version_major": 2,
       "version_minor": 0
      },
      "text/plain": [
       "model.safetensors:   0%|          | 0.00/343M [00:00<?, ?B/s]"
      ]
     },
     "metadata": {},
     "output_type": "display_data"
    },
    {
     "data": {
      "application/vnd.jupyter.widget-view+json": {
       "model_id": "e689ea3be9c44ca3ad9cd9d3864b5d5e",
       "version_major": 2,
       "version_minor": 0
      },
      "text/plain": [
       "rng_state.pth:   0%|          | 0.00/14.2k [00:00<?, ?B/s]"
      ]
     },
     "metadata": {},
     "output_type": "display_data"
    },
    {
     "data": {
      "application/vnd.jupyter.widget-view+json": {
       "model_id": "65eacabf6d5e43b28a3f9414a17d644b",
       "version_major": 2,
       "version_minor": 0
      },
      "text/plain": [
       "Upload 7 LFS files:   0%|          | 0/7 [00:00<?, ?it/s]"
      ]
     },
     "metadata": {},
     "output_type": "display_data"
    },
    {
     "data": {
      "application/vnd.jupyter.widget-view+json": {
       "model_id": "bd7fffe7d8ae468bb5d400603aaae498",
       "version_major": 2,
       "version_minor": 0
      },
      "text/plain": [
       "optimizer.pt:   0%|          | 0.00/687M [00:00<?, ?B/s]"
      ]
     },
     "metadata": {},
     "output_type": "display_data"
    },
    {
     "data": {
      "application/vnd.jupyter.widget-view+json": {
       "model_id": "e16f45fe82524744b057d0ca0e30bb18",
       "version_major": 2,
       "version_minor": 0
      },
      "text/plain": [
       "scheduler.pt:   0%|          | 0.00/1.06k [00:00<?, ?B/s]"
      ]
     },
     "metadata": {},
     "output_type": "display_data"
    },
    {
     "data": {
      "application/vnd.jupyter.widget-view+json": {
       "model_id": "ea5e30b437194211ae86267ce0710b1f",
       "version_major": 2,
       "version_minor": 0
      },
      "text/plain": [
       "training_args.bin:   0%|          | 0.00/5.18k [00:00<?, ?B/s]"
      ]
     },
     "metadata": {},
     "output_type": "display_data"
    },
    {
     "data": {
      "application/vnd.jupyter.widget-view+json": {
       "model_id": "b34b891bd20a402e93a05cd0915145f9",
       "version_major": 2,
       "version_minor": 0
      },
      "text/plain": [
       "model.safetensors:   0%|          | 0.00/343M [00:00<?, ?B/s]"
      ]
     },
     "metadata": {},
     "output_type": "display_data"
    },
    {
     "data": {
      "application/vnd.jupyter.widget-view+json": {
       "model_id": "b249e3be118a4ce2bee322aed92de4d6",
       "version_major": 2,
       "version_minor": 0
      },
      "text/plain": [
       "training_args.bin:   0%|          | 0.00/5.18k [00:00<?, ?B/s]"
      ]
     },
     "metadata": {},
     "output_type": "display_data"
    },
    {
     "data": {
      "text/plain": [
       "CommitInfo(commit_url='https://huggingface.co/dima806/crime_type_cctv_image_detection/commit/f8b4fc53ace563b82c7030f716b1854b457dd941', commit_message='Upload folder using huggingface_hub', commit_description='', oid='f8b4fc53ace563b82c7030f716b1854b457dd941', pr_url=None, repo_url=RepoUrl('https://huggingface.co/dima806/crime_type_cctv_image_detection', endpoint='https://huggingface.co', repo_type='model', repo_id='dima806/crime_type_cctv_image_detection'), pr_revision=None, pr_num=None)"
      ]
     },
     "execution_count": 36,
     "metadata": {},
     "output_type": "execute_result"
    }
   ],
   "source": [
    "# Uploading a folder to the Hugging Face Model Hub\n",
    "api.upload_folder(\n",
    "    folder_path=model_name,  # The path to the folder to be uploaded\n",
    "    path_in_repo=\".\",  # The path where the folder will be stored in the repository\n",
    "    repo_id=repo_id,  # The ID of the repository where the folder will be uploaded\n",
    "    repo_type=\"model\",  # The type of the repository (in this case, a model repository)\n",
    "    revision=\"main\" # Revision name\n",
    ")"
   ]
  },
  {
   "cell_type": "markdown",
   "metadata": {},
   "source": [
    "# An example how to use both models together"
   ]
  },
  {
   "cell_type": "code",
   "execution_count": null,
   "metadata": {
    "execution": {
     "iopub.execute_input": "2024-11-03T17:08:37.273056Z",
     "iopub.status.busy": "2024-11-03T17:08:37.272227Z",
     "iopub.status.idle": "2024-11-03T17:08:38.507175Z",
     "shell.execute_reply": "2024-11-03T17:08:38.506401Z",
     "shell.execute_reply.started": "2024-11-03T17:08:37.273006Z"
    },
    "trusted": true
   },
   "outputs": [],
   "source": [
    "# Import the 'pipeline' function from the 'transformers' library. Unable to push on huggingface to model = local directory saved one.\n",
    "from transformers import pipeline\n",
    "\n",
    "pipe1 = pipeline('image-classification', model=\"Prabesh06/crime_cctv_image_detection\", device=0)\n",
    "pipe2 = pipeline('image-classification', model=\"Prabesh06/crime_type_cctv_image_detection\", device=0)"
   ]
  },
  {
   "cell_type": "code",
   "execution_count": 50,
   "metadata": {
    "execution": {
     "iopub.execute_input": "2024-11-03T17:14:03.189523Z",
     "iopub.status.busy": "2024-11-03T17:14:03.188878Z",
     "iopub.status.idle": "2024-11-03T17:14:03.226932Z",
     "shell.execute_reply": "2024-11-03T17:14:03.226146Z",
     "shell.execute_reply.started": "2024-11-03T17:14:03.189483Z"
    },
    "trusted": true
   },
   "outputs": [
    {
     "name": "stdout",
     "output_type": "stream",
     "text": [
      "Crime score: 0.99\n",
      "There is a potential crime\n",
      "Top scores for crime types:\n",
      "For Abuse: 0.904\n",
      "For Shooting: 0.757\n",
      "For Arson: 0.622\n",
      "For Vandalism: 0.53\n",
      "For Assault: 0.47\n"
     ]
    }
   ],
   "source": [
    "# Apply the 'pipe1' function to process the 'image' variable to see if there is a high probability for crime.\n",
    "res1 = pipe1(image)\n",
    "crime_score = [res['score'] for res in res1 if res['label']=='Crime'][0]\n",
    "print(f\"Crime score: {round(crime_score, 3)}\" )\n",
    "threshold = 0.5\n",
    "if crime_score > threshold:\n",
    "    # apply second pipeline to check the crime type\n",
    "    print(\"There is a potential crime\")\n",
    "    res2 = pipe2(image)\n",
    "    print(\"Top scores for crime types:\")\n",
    "    for res in res2:\n",
    "        print(f\"For {res['label']}: {round(res['score'], 3)}\")"
   ]
  },
  {
   "cell_type": "code",
   "execution_count": null,
   "metadata": {},
   "outputs": [],
   "source": []
  }
 ],
 "metadata": {
  "kernelspec": {
   "display_name": "Python 3",
   "language": "python",
   "name": "python3"
  },
  "language_info": {
   "codemirror_mode": {
    "name": "ipython",
    "version": 3
   },
   "file_extension": ".py",
   "mimetype": "text/x-python",
   "name": "python",
   "nbconvert_exporter": "python",
   "pygments_lexer": "ipython3",
   "version": "3.10.14"
  }
 },
 "nbformat": 4,
 "nbformat_minor": 4
}
