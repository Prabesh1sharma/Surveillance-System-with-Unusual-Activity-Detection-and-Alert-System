{
 "cells": [
  {
   "cell_type": "markdown",
   "id": "c8156cdc",
   "metadata": {
    "papermill": {
     "duration": 0.006333,
     "end_time": "2025-01-24T14:31:50.998758",
     "exception": false,
     "start_time": "2025-01-24T14:31:50.992425",
     "status": "completed"
    },
    "tags": []
   },
   "source": [
    "# Import libraries, load and transform data"
   ]
  },
  {
   "cell_type": "code",
   "execution_count": 1,
   "id": "452d197b",
   "metadata": {
    "execution": {
     "iopub.execute_input": "2025-01-24T14:31:51.012530Z",
     "iopub.status.busy": "2025-01-24T14:31:51.011868Z",
     "iopub.status.idle": "2025-01-24T14:32:12.459919Z",
     "shell.execute_reply": "2025-01-24T14:32:12.458974Z"
    },
    "papermill": {
     "duration": 21.456575,
     "end_time": "2025-01-24T14:32:12.461987",
     "exception": false,
     "start_time": "2025-01-24T14:31:51.005412",
     "status": "completed"
    },
    "tags": []
   },
   "outputs": [],
   "source": [
    "# Install necessary Python packages using pip\n",
    "\n",
    "# Use the 'pip' command to install packages\n",
    "# The '-q' flag stands for 'quiet,' which means it will suppress most output, making the installation process less verbose\n",
    "# We're installing the following packages:\n",
    "# - 'evaluate': This package is likely used for evaluation purposes, but the specific functionality is not clear from this line alone\n",
    "# - 'transformers': This package is commonly used for natural language processing tasks, such as working with pre-trained language models like BERT or GPT\n",
    "# - 'datasets': This package provides easy access to various datasets commonly used in machine learning and natural language processing tasks\n",
    "\n",
    "# Note: Before running this code, make sure you have Python and pip installed on your system.\n",
    "# Also, ensure you have an internet connection since pip will download and install these packages from PyPI (Python Package Index).\n",
    "!pip install -U -q evaluate transformers datasets>=2.14.5 accelerate>=0.27 2>/dev/null"
   ]
  },
  {
   "cell_type": "code",
   "execution_count": 2,
   "id": "f8549566",
   "metadata": {
    "execution": {
     "iopub.execute_input": "2025-01-24T14:32:12.475100Z",
     "iopub.status.busy": "2025-01-24T14:32:12.474533Z",
     "iopub.status.idle": "2025-01-24T14:32:32.263644Z",
     "shell.execute_reply": "2025-01-24T14:32:32.262971Z"
    },
    "papermill": {
     "duration": 19.797772,
     "end_time": "2025-01-24T14:32:32.265699",
     "exception": false,
     "start_time": "2025-01-24T14:32:12.467927",
     "status": "completed"
    },
    "tags": []
   },
   "outputs": [],
   "source": [
    "# Importing necessary libraries and modules\n",
    "import warnings  # Import the 'warnings' module for handling warnings\n",
    "warnings.filterwarnings(\"ignore\")  # Ignore warnings during execution\n",
    "\n",
    "import gc  # Import the 'gc' module for garbage collection\n",
    "import numpy as np  # Import NumPy for numerical operations\n",
    "import pandas as pd  # Import Pandas for data manipulation\n",
    "import itertools  # Import 'itertools' for iterators and looping\n",
    "from collections import Counter  # Import 'Counter' for counting elements\n",
    "import matplotlib.pyplot as plt  # Import Matplotlib for data visualization\n",
    "from sklearn.metrics import (  # Import various metrics from scikit-learn\n",
    "    accuracy_score,  # For calculating accuracy\n",
    "    roc_auc_score,  # For ROC AUC score\n",
    "    confusion_matrix,  # For confusion matrix\n",
    "    classification_report,  # For classification report\n",
    "    f1_score  # For F1 score\n",
    ")\n",
    "\n",
    "# Import custom modules and classes\n",
    "from imblearn.over_sampling import RandomOverSampler # import RandomOverSampler\n",
    "import accelerate # Import the 'accelerate' module\n",
    "import evaluate  # Import the 'evaluate' module\n",
    "from datasets import Dataset, Image, ClassLabel  # Import custom 'Dataset', 'ClassLabel', and 'Image' classes\n",
    "from transformers import (  # Import various modules from the Transformers library\n",
    "    TrainingArguments,  # For training arguments\n",
    "    Trainer,  # For model training\n",
    "    ViTImageProcessor,  # For processing image data with ViT models\n",
    "    ViTForImageClassification,  # ViT model for image classification\n",
    "    DefaultDataCollator  # For collating data in the default way\n",
    ")\n",
    "import torch  # Import PyTorch for deep learning\n",
    "from torch.utils.data import DataLoader  # For creating data loaders\n",
    "from torchvision.transforms import (  # Import image transformation functions\n",
    "    CenterCrop,  # Center crop an image\n",
    "    Compose,  # Compose multiple image transformations\n",
    "    Normalize,  # Normalize image pixel values\n",
    "    RandomRotation,  # Apply random rotation to images\n",
    "    RandomResizedCrop,  # Crop and resize images randomly\n",
    "    RandomHorizontalFlip,  # Apply random horizontal flip\n",
    "    RandomAdjustSharpness,  # Adjust sharpness randomly\n",
    "    Resize,  # Resize images\n",
    "    ToTensor  # Convert images to PyTorch tensors\n",
    ")"
   ]
  },
  {
   "cell_type": "code",
   "execution_count": 3,
   "id": "de3324c5",
   "metadata": {
    "execution": {
     "iopub.execute_input": "2025-01-24T14:32:32.278710Z",
     "iopub.status.busy": "2025-01-24T14:32:32.278198Z",
     "iopub.status.idle": "2025-01-24T14:32:32.282219Z",
     "shell.execute_reply": "2025-01-24T14:32:32.281452Z"
    },
    "papermill": {
     "duration": 0.012054,
     "end_time": "2025-01-24T14:32:32.283862",
     "exception": false,
     "start_time": "2025-01-24T14:32:32.271808",
     "status": "completed"
    },
    "tags": []
   },
   "outputs": [],
   "source": [
    "# Import the necessary module from the Python Imaging Library (PIL).\n",
    "from PIL import ImageFile\n",
    "\n",
    "# Enable the option to load truncated images.\n",
    "# This setting allows the PIL library to attempt loading images even if they are corrupted or incomplete.\n",
    "ImageFile.LOAD_TRUNCATED_IMAGES = True"
   ]
  },
  {
   "cell_type": "code",
   "execution_count": 4,
   "id": "c5c99c9c",
   "metadata": {
    "execution": {
     "iopub.execute_input": "2025-01-24T14:32:32.295755Z",
     "iopub.status.busy": "2025-01-24T14:32:32.295511Z",
     "iopub.status.idle": "2025-01-24T14:33:33.985039Z",
     "shell.execute_reply": "2025-01-24T14:33:33.984056Z"
    },
    "papermill": {
     "duration": 61.697429,
     "end_time": "2025-01-24T14:33:33.986805",
     "exception": false,
     "start_time": "2025-01-24T14:32:32.289376",
     "status": "completed"
    },
    "tags": []
   },
   "outputs": [
    {
     "name": "stderr",
     "output_type": "stream",
     "text": [
      "100%|██████████| 1266345/1266345 [00:04<00:00, 287812.54it/s]\n"
     ]
    },
    {
     "name": "stdout",
     "output_type": "stream",
     "text": [
      "1266345 1266345 2\n",
      "(1266345, 2)\n"
     ]
    }
   ],
   "source": [
    "# use https://huggingface.co/docs/datasets/image_load for reference\n",
    "\n",
    "# Import necessary libraries\n",
    "image_dict = {}\n",
    "\n",
    "# Define the list of file names\n",
    "from pathlib import Path\n",
    "from tqdm import tqdm\n",
    "import os\n",
    "# Initialize empty lists to store file names and labels\n",
    "file_names = []\n",
    "labels = []\n",
    "\n",
    "# Iterate through all image files in the specified directory\n",
    "for file in tqdm(sorted((Path('/kaggle/input/ucf-crime-dataset/Train/').glob('*/*.*')))):\n",
    "    # check number of such files in a directory\n",
    "    sample_dir = '/'.join(str(file).split('/')[:-1])+'/'\n",
    "    label = str(file).split('/')[-2]  # Extract the label from the file path\n",
    "    if label == \"NormalVideos\":\n",
    "        labels.append(\"Normal\")\n",
    "    else:\n",
    "        labels.append(\"Crime\")\n",
    "    file_names.append(str(file))  # Add the file path to the list\n",
    "\n",
    "# Print the total number of file names and labels\n",
    "print(len(file_names), len(labels), len(set(labels)))\n",
    "\n",
    "# Create a pandas dataframe from the collected file names and labels\n",
    "df = pd.DataFrame.from_dict({\"image\": file_names, \"label\": labels})\n",
    "print(df.shape)"
   ]
  },
  {
   "cell_type": "code",
   "execution_count": 5,
   "id": "4c8871eb",
   "metadata": {
    "execution": {
     "iopub.execute_input": "2025-01-24T14:33:34.004410Z",
     "iopub.status.busy": "2025-01-24T14:33:34.004111Z",
     "iopub.status.idle": "2025-01-24T14:33:34.071105Z",
     "shell.execute_reply": "2025-01-24T14:33:34.070311Z"
    },
    "papermill": {
     "duration": 0.077887,
     "end_time": "2025-01-24T14:33:34.072689",
     "exception": false,
     "start_time": "2025-01-24T14:33:33.994802",
     "status": "completed"
    },
    "tags": []
   },
   "outputs": [
    {
     "data": {
      "text/plain": [
       "array(['Crime', 'Normal'], dtype=object)"
      ]
     },
     "execution_count": 5,
     "metadata": {},
     "output_type": "execute_result"
    }
   ],
   "source": [
    "df['label'].unique()"
   ]
  },
  {
   "cell_type": "code",
   "execution_count": 6,
   "id": "b1b0eec2",
   "metadata": {
    "execution": {
     "iopub.execute_input": "2025-01-24T14:33:34.089214Z",
     "iopub.status.busy": "2025-01-24T14:33:34.088962Z",
     "iopub.status.idle": "2025-01-24T14:33:34.092460Z",
     "shell.execute_reply": "2025-01-24T14:33:34.091798Z"
    },
    "papermill": {
     "duration": 0.013369,
     "end_time": "2025-01-24T14:33:34.093908",
     "exception": false,
     "start_time": "2025-01-24T14:33:34.080539",
     "status": "completed"
    },
    "tags": []
   },
   "outputs": [],
   "source": [
    "# # random oversampling of all minority classes\n",
    "# y = df[['label']]\n",
    "# df = df.drop(['label'], axis=1)\n",
    "# ros = RandomOverSampler(random_state=83)\n",
    "# df, y_resampled = ros.fit_resample(df, y)\n",
    "# del y\n",
    "# df['label'] = y_resampled\n",
    "# del y_resampled\n",
    "# gc.collect()\n",
    "\n",
    "# print(df.shape)"
   ]
  },
  {
   "cell_type": "code",
   "execution_count": 7,
   "id": "02478eb7",
   "metadata": {
    "execution": {
     "iopub.execute_input": "2025-01-24T14:33:34.110286Z",
     "iopub.status.busy": "2025-01-24T14:33:34.109773Z",
     "iopub.status.idle": "2025-01-24T14:33:34.112859Z",
     "shell.execute_reply": "2025-01-24T14:33:34.112166Z"
    },
    "papermill": {
     "duration": 0.012854,
     "end_time": "2025-01-24T14:33:34.114463",
     "exception": false,
     "start_time": "2025-01-24T14:33:34.101609",
     "status": "completed"
    },
    "tags": []
   },
   "outputs": [],
   "source": [
    "# # sample data for faster run\n",
    "# df = df.sample(10**3)"
   ]
  },
  {
   "cell_type": "code",
   "execution_count": 8,
   "id": "255e3b65",
   "metadata": {
    "execution": {
     "iopub.execute_input": "2025-01-24T14:33:34.131003Z",
     "iopub.status.busy": "2025-01-24T14:33:34.130421Z",
     "iopub.status.idle": "2025-01-24T14:33:35.123600Z",
     "shell.execute_reply": "2025-01-24T14:33:35.122809Z"
    },
    "papermill": {
     "duration": 1.003443,
     "end_time": "2025-01-24T14:33:35.125604",
     "exception": false,
     "start_time": "2025-01-24T14:33:34.122161",
     "status": "completed"
    },
    "tags": []
   },
   "outputs": [],
   "source": [
    "# Create a dataset from a Pandas DataFrame.\n",
    "dataset = Dataset.from_pandas(df).cast_column(\"image\", Image())"
   ]
  },
  {
   "cell_type": "code",
   "execution_count": 9,
   "id": "9c1c419e",
   "metadata": {
    "execution": {
     "iopub.execute_input": "2025-01-24T14:33:35.142784Z",
     "iopub.status.busy": "2025-01-24T14:33:35.142232Z",
     "iopub.status.idle": "2025-01-24T14:33:35.168467Z",
     "shell.execute_reply": "2025-01-24T14:33:35.167693Z"
    },
    "papermill": {
     "duration": 0.036317,
     "end_time": "2025-01-24T14:33:35.169951",
     "exception": false,
     "start_time": "2025-01-24T14:33:35.133634",
     "status": "completed"
    },
    "tags": []
   },
   "outputs": [
    {
     "data": {
      "image/jpeg": "[encoded data removed]",
      "image/png": "[encoded data removed]",
      "text/plain": [
       "<PIL.PngImagePlugin.PngImageFile image mode=RGB size=64x64>"
      ]
     },
     "execution_count": 9,
     "metadata": {},
     "output_type": "execute_result"
    }
   ],
   "source": [
    "# Display the first image in the dataset\n",
    "dataset[0][\"image\"]"
   ]
  },
  {
   "cell_type": "code",
   "execution_count": 10,
   "id": "9574390d",
   "metadata": {
    "execution": {
     "iopub.execute_input": "2025-01-24T14:33:35.188340Z",
     "iopub.status.busy": "2025-01-24T14:33:35.188079Z",
     "iopub.status.idle": "2025-01-24T14:33:37.582995Z",
     "shell.execute_reply": "2025-01-24T14:33:37.582008Z"
    },
    "papermill": {
     "duration": 2.405541,
     "end_time": "2025-01-24T14:33:37.584698",
     "exception": false,
     "start_time": "2025-01-24T14:33:35.179157",
     "status": "completed"
    },
    "tags": []
   },
   "outputs": [
    {
     "name": "stderr",
     "output_type": "stream",
     "text": [
      "100%|██████████| 111308/111308 [00:00<00:00, 295447.66it/s]\n"
     ]
    },
    {
     "name": "stdout",
     "output_type": "stream",
     "text": [
      "111308 111308 2\n",
      "(111308, 2)\n"
     ]
    }
   ],
   "source": [
    "# the same for test data\n",
    "# Initialize empty lists to store file names and labels\n",
    "test_file_names = []\n",
    "test_labels = []\n",
    "\n",
    "# Iterate through all image files in the specified directory\n",
    "for file in tqdm(sorted((Path('/kaggle/input/ucf-crime-dataset/Test/').glob('*/*.*')))):\n",
    "    # check number of such files in a directory\n",
    "    sample_dir = '/'.join(str(file).split('/')[:-1])+'/'\n",
    "    test_label = str(file).split('/')[-2]  # Extract the label from the file path\n",
    "    if test_label == \"NormalVideos\":\n",
    "        test_labels.append(\"Normal\")\n",
    "    else:\n",
    "        test_labels.append(\"Crime\")\n",
    "    test_file_names.append(str(file))  # Add the file path to the list\n",
    "\n",
    "# Print the total number of file names and labels\n",
    "print(len(test_file_names), len(test_labels), len(set(test_labels)))\n",
    "\n",
    "# Create a pandas dataframe from the collected file names and labels\n",
    "test_df = pd.DataFrame.from_dict({\"image\": test_file_names, \"label\": test_labels})\n",
    "print(test_df.shape)"
   ]
  },
  {
   "cell_type": "code",
   "execution_count": 11,
   "id": "10ff15aa",
   "metadata": {
    "execution": {
     "iopub.execute_input": "2025-01-24T14:33:37.602673Z",
     "iopub.status.busy": "2025-01-24T14:33:37.602157Z",
     "iopub.status.idle": "2025-01-24T14:33:37.605661Z",
     "shell.execute_reply": "2025-01-24T14:33:37.604865Z"
    },
    "papermill": {
     "duration": 0.014082,
     "end_time": "2025-01-24T14:33:37.607241",
     "exception": false,
     "start_time": "2025-01-24T14:33:37.593159",
     "status": "completed"
    },
    "tags": []
   },
   "outputs": [],
   "source": [
    "# # also, sample test_df for faster load\n",
    "# test_df = test_df.sample(10**4)"
   ]
  },
  {
   "cell_type": "code",
   "execution_count": 12,
   "id": "ab826d13",
   "metadata": {
    "execution": {
     "iopub.execute_input": "2025-01-24T14:33:37.624799Z",
     "iopub.status.busy": "2025-01-24T14:33:37.624325Z",
     "iopub.status.idle": "2025-01-24T14:33:37.705315Z",
     "shell.execute_reply": "2025-01-24T14:33:37.704669Z"
    },
    "papermill": {
     "duration": 0.091525,
     "end_time": "2025-01-24T14:33:37.707017",
     "exception": false,
     "start_time": "2025-01-24T14:33:37.615492",
     "status": "completed"
    },
    "tags": []
   },
   "outputs": [],
   "source": [
    "# Create a dataset from a Pandas DataFrame.\n",
    "test_data = Dataset.from_pandas(test_df).cast_column(\"image\", Image())"
   ]
  },
  {
   "cell_type": "code",
   "execution_count": 13,
   "id": "bca470bd",
   "metadata": {
    "execution": {
     "iopub.execute_input": "2025-01-24T14:33:37.725393Z",
     "iopub.status.busy": "2025-01-24T14:33:37.724832Z",
     "iopub.status.idle": "2025-01-24T14:33:37.729453Z",
     "shell.execute_reply": "2025-01-24T14:33:37.728554Z"
    },
    "papermill": {
     "duration": 0.015323,
     "end_time": "2025-01-24T14:33:37.731020",
     "exception": false,
     "start_time": "2025-01-24T14:33:37.715697",
     "status": "completed"
    },
    "tags": []
   },
   "outputs": [
    {
     "name": "stdout",
     "output_type": "stream",
     "text": [
      "['Crime', 'Crime', 'Crime', 'Crime', 'Crime']\n"
     ]
    }
   ],
   "source": [
    "# Extracting a subset of elements from the 'labels' list using slicing.\n",
    "# The slicing syntax [:5] selects elements from the beginning up to (but not including) the 5th element.\n",
    "# This will give us the first 5 elements of the 'labels' list.\n",
    "# The result will be a new list containing these elements.\n",
    "labels_subset = labels[:5]\n",
    "\n",
    "# Printing the subset of labels to inspect the content.\n",
    "print(labels_subset)"
   ]
  },
  {
   "cell_type": "code",
   "execution_count": 14,
   "id": "232fe628",
   "metadata": {
    "execution": {
     "iopub.execute_input": "2025-01-24T14:33:37.749684Z",
     "iopub.status.busy": "2025-01-24T14:33:37.749204Z",
     "iopub.status.idle": "2025-01-24T14:33:37.762707Z",
     "shell.execute_reply": "2025-01-24T14:33:37.761912Z"
    },
    "papermill": {
     "duration": 0.024339,
     "end_time": "2025-01-24T14:33:37.764271",
     "exception": false,
     "start_time": "2025-01-24T14:33:37.739932",
     "status": "completed"
    },
    "tags": []
   },
   "outputs": [
    {
     "name": "stdout",
     "output_type": "stream",
     "text": [
      "Mapping of IDs to Labels: {0: 'Crime', 1: 'Normal'} \n",
      "\n",
      "Mapping of Labels to IDs: {'Crime': 0, 'Normal': 1}\n"
     ]
    }
   ],
   "source": [
    "# Create a list of unique labels by converting 'labels' to a set and then back to a list\n",
    "labels_list = sorted(list(set(labels)))\n",
    "\n",
    "# Initialize empty dictionaries to map labels to IDs and vice versa\n",
    "label2id, id2label = dict(), dict()\n",
    "\n",
    "# Iterate over the unique labels and assign each label an ID, and vice versa\n",
    "for i, label in enumerate(labels_list):\n",
    "    label2id[label] = i  # Map the label to its corresponding ID\n",
    "    id2label[i] = label  # Map the ID to its corresponding label\n",
    "\n",
    "# Print the resulting dictionaries for reference\n",
    "print(\"Mapping of IDs to Labels:\", id2label, '\\n')\n",
    "print(\"Mapping of Labels to IDs:\", label2id)"
   ]
  },
  {
   "cell_type": "code",
   "execution_count": 15,
   "id": "f70d95a1",
   "metadata": {
    "execution": {
     "iopub.execute_input": "2025-01-24T14:33:37.781888Z",
     "iopub.status.busy": "2025-01-24T14:33:37.781391Z",
     "iopub.status.idle": "2025-01-24T14:33:41.216729Z",
     "shell.execute_reply": "2025-01-24T14:33:41.216060Z"
    },
    "papermill": {
     "duration": 3.446556,
     "end_time": "2025-01-24T14:33:41.218892",
     "exception": false,
     "start_time": "2025-01-24T14:33:37.772336",
     "status": "completed"
    },
    "tags": []
   },
   "outputs": [
    {
     "data": {
      "application/vnd.jupyter.widget-view+json": {
       "model_id": "866b48393a474a79b4818ffc15024109",
       "version_major": 2,
       "version_minor": 0
      },
      "text/plain": [
       "Map:   0%|          | 0/1266345 [00:00<?, ? examples/s]"
      ]
     },
     "metadata": {},
     "output_type": "display_data"
    },
    {
     "data": {
      "application/vnd.jupyter.widget-view+json": {
       "model_id": "ab5ba17e2e874023a34b8b8ca312fe3c",
       "version_major": 2,
       "version_minor": 0
      },
      "text/plain": [
       "Casting the dataset:   0%|          | 0/1266345 [00:00<?, ? examples/s]"
      ]
     },
     "metadata": {},
     "output_type": "display_data"
    }
   ],
   "source": [
    "# Creating classlabels to match labels to IDs\n",
    "ClassLabels = ClassLabel(num_classes=len(labels_list), names=labels_list)\n",
    "\n",
    "# Mapping labels to IDs\n",
    "def map_label2id(example):\n",
    "    example['label'] = ClassLabels.str2int(example['label'])\n",
    "    return example\n",
    "\n",
    "dataset = dataset.map(map_label2id, batched=True)\n",
    "\n",
    "# Casting label column to ClassLabel Object\n",
    "dataset = dataset.cast_column('label', ClassLabels)\n",
    "\n",
    "# Splitting the dataset into training and testing sets using an 90-10 split ratio.\n",
    "dataset = dataset.train_test_split(test_size=0.1, shuffle=True, stratify_by_column=\"label\")\n",
    "\n",
    "# Extracting the training data from the split dataset.\n",
    "train_data = dataset['train']\n",
    "\n",
    "# Extracting the validation data from the split dataset.\n",
    "val_data = dataset['test']"
   ]
  },
  {
   "cell_type": "code",
   "execution_count": 16,
   "id": "12562f2d",
   "metadata": {
    "execution": {
     "iopub.execute_input": "2025-01-24T14:33:41.237850Z",
     "iopub.status.busy": "2025-01-24T14:33:41.237572Z",
     "iopub.status.idle": "2025-01-24T14:33:41.416894Z",
     "shell.execute_reply": "2025-01-24T14:33:41.416049Z"
    },
    "papermill": {
     "duration": 0.193843,
     "end_time": "2025-01-24T14:33:41.422081",
     "exception": false,
     "start_time": "2025-01-24T14:33:41.228238",
     "status": "completed"
    },
    "tags": []
   },
   "outputs": [
    {
     "data": {
      "application/vnd.jupyter.widget-view+json": {
       "model_id": "db7fff55054047b68c3f423129551c80",
       "version_major": 2,
       "version_minor": 0
      },
      "text/plain": [
       "preprocessor_config.json:   0%|          | 0.00/160 [00:00<?, ?B/s]"
      ]
     },
     "metadata": {},
     "output_type": "display_data"
    },
    {
     "name": "stdout",
     "output_type": "stream",
     "text": [
      "Size:  224\n"
     ]
    }
   ],
   "source": [
    "# Define the pre-trained ViT model string\n",
    "model_str = 'google/vit-base-patch16-224-in21k'\n",
    "\n",
    "# Create a processor for ViT model input from the pre-trained model\n",
    "processor = ViTImageProcessor.from_pretrained(model_str)\n",
    "\n",
    "# Retrieve the image mean and standard deviation used for normalization\n",
    "image_mean, image_std = processor.image_mean, processor.image_std\n",
    "\n",
    "# Get the size (height) of the ViT model's input images\n",
    "size = processor.size[\"height\"]\n",
    "print(\"Size: \", size)\n",
    "\n",
    "# Define a normalization transformation for the input images\n",
    "normalize = Normalize(mean=image_mean, std=image_std)\n",
    "\n",
    "# Define a set of transformations for training data\n",
    "_train_transforms = Compose(\n",
    "    [\n",
    "        Resize((size, size)),             # Resize images to the ViT model's input size\n",
    "#         RandomRotation(90),               # Apply random rotation\n",
    "        RandomAdjustSharpness(2),         # Adjust sharpness randomly\n",
    "#         RandomHorizontalFlip(0.5),        # Random horizontal flip\n",
    "        ToTensor(),                       # Convert images to tensors\n",
    "        normalize                         # Normalize images using mean and std\n",
    "    ]\n",
    ")\n",
    "\n",
    "# Define a set of transformations for validation data\n",
    "_val_transforms = Compose(\n",
    "    [\n",
    "        Resize((size, size)),             # Resize images to the ViT model's input size\n",
    "        ToTensor(),                       # Convert images to tensors\n",
    "        normalize                         # Normalize images using mean and std\n",
    "    ]\n",
    ")\n",
    "\n",
    "# Define a function to apply training transformations to a batch of examples\n",
    "def train_transforms(examples):\n",
    "    examples['pixel_values'] = [_train_transforms(image.convert(\"RGB\")) for image in examples['image']]\n",
    "    return examples\n",
    "\n",
    "# Define a function to apply validation transformations to a batch of examples\n",
    "def val_transforms(examples):\n",
    "    examples['pixel_values'] = [_val_transforms(image.convert(\"RGB\")) for image in examples['image']]\n",
    "    return examples"
   ]
  },
  {
   "cell_type": "code",
   "execution_count": 17,
   "id": "003c6873",
   "metadata": {
    "execution": {
     "iopub.execute_input": "2025-01-24T14:33:41.441274Z",
     "iopub.status.busy": "2025-01-24T14:33:41.440985Z",
     "iopub.status.idle": "2025-01-24T14:33:41.707114Z",
     "shell.execute_reply": "2025-01-24T14:33:41.706326Z"
    },
    "papermill": {
     "duration": 0.277848,
     "end_time": "2025-01-24T14:33:41.709135",
     "exception": false,
     "start_time": "2025-01-24T14:33:41.431287",
     "status": "completed"
    },
    "tags": []
   },
   "outputs": [
    {
     "data": {
      "application/vnd.jupyter.widget-view+json": {
       "model_id": "511816e956db411a901185e52de967bb",
       "version_major": 2,
       "version_minor": 0
      },
      "text/plain": [
       "Map:   0%|          | 0/111308 [00:00<?, ? examples/s]"
      ]
     },
     "metadata": {},
     "output_type": "display_data"
    },
    {
     "data": {
      "application/vnd.jupyter.widget-view+json": {
       "model_id": "ef365bd5f94b4c6d8661a3b4a315b949",
       "version_major": 2,
       "version_minor": 0
      },
      "text/plain": [
       "Casting the dataset:   0%|          | 0/111308 [00:00<?, ? examples/s]"
      ]
     },
     "metadata": {},
     "output_type": "display_data"
    }
   ],
   "source": [
    "# Same transformation for test data\n",
    "test_data = test_data.map(map_label2id, batched=True)\n",
    "\n",
    "# Casting label column to ClassLabel Object\n",
    "test_data = test_data.cast_column('label', ClassLabels)"
   ]
  },
  {
   "cell_type": "code",
   "execution_count": 18,
   "id": "3d2d2643",
   "metadata": {
    "execution": {
     "iopub.execute_input": "2025-01-24T14:33:41.732676Z",
     "iopub.status.busy": "2025-01-24T14:33:41.732358Z",
     "iopub.status.idle": "2025-01-24T14:33:41.744912Z",
     "shell.execute_reply": "2025-01-24T14:33:41.744167Z"
    },
    "papermill": {
     "duration": 0.026242,
     "end_time": "2025-01-24T14:33:41.746802",
     "exception": false,
     "start_time": "2025-01-24T14:33:41.720560",
     "status": "completed"
    },
    "tags": []
   },
   "outputs": [],
   "source": [
    "# Set the transforms for the training data\n",
    "train_data.set_transform(train_transforms)\n",
    "\n",
    "# Set the transforms for the test/validation data\n",
    "val_data.set_transform(val_transforms)\n",
    "\n",
    "# Set the transforms for the test/validation data\n",
    "\n",
    "test_data.set_transform(val_transforms)"
   ]
  },
  {
   "cell_type": "code",
   "execution_count": 19,
   "id": "325bebf5",
   "metadata": {
    "execution": {
     "iopub.execute_input": "2025-01-24T14:33:41.768767Z",
     "iopub.status.busy": "2025-01-24T14:33:41.768471Z",
     "iopub.status.idle": "2025-01-24T14:33:41.773381Z",
     "shell.execute_reply": "2025-01-24T14:33:41.772497Z"
    },
    "papermill": {
     "duration": 0.017927,
     "end_time": "2025-01-24T14:33:41.775236",
     "exception": false,
     "start_time": "2025-01-24T14:33:41.757309",
     "status": "completed"
    },
    "tags": []
   },
   "outputs": [],
   "source": [
    "# Define a collate function that prepares batched data for model training.\n",
    "def collate_fn(examples):\n",
    "    # Stack the pixel values from individual examples into a single tensor.\n",
    "    pixel_values = torch.stack([example[\"pixel_values\"] for example in examples])\n",
    "    \n",
    "    # Convert the label strings in examples to corresponding numeric IDs using label2id dictionary.\n",
    "    labels = torch.tensor([example['label'] for example in examples])\n",
    "    \n",
    "    # Return a dictionary containing the batched pixel values and labels.\n",
    "    return {\"pixel_values\": pixel_values, \"labels\": labels}"
   ]
  },
  {
   "cell_type": "markdown",
   "id": "1fa40c25",
   "metadata": {
    "papermill": {
     "duration": 0.00955,
     "end_time": "2025-01-24T14:33:41.795510",
     "exception": false,
     "start_time": "2025-01-24T14:33:41.785960",
     "status": "completed"
    },
    "tags": []
   },
   "source": [
    "# Load, train, and evaluate model"
   ]
  },
  {
   "cell_type": "code",
   "execution_count": 20,
   "id": "7675abdb",
   "metadata": {
    "execution": {
     "iopub.execute_input": "2025-01-24T14:33:41.814392Z",
     "iopub.status.busy": "2025-01-24T14:33:41.814118Z",
     "iopub.status.idle": "2025-01-24T14:33:43.920003Z",
     "shell.execute_reply": "2025-01-24T14:33:43.919166Z"
    },
    "papermill": {
     "duration": 2.117211,
     "end_time": "2025-01-24T14:33:43.921611",
     "exception": false,
     "start_time": "2025-01-24T14:33:41.804400",
     "status": "completed"
    },
    "tags": []
   },
   "outputs": [
    {
     "data": {
      "application/vnd.jupyter.widget-view+json": {
       "model_id": "5aee1393db0f4da98644f21fa6dc840b",
       "version_major": 2,
       "version_minor": 0
      },
      "text/plain": [
       "config.json:   0%|          | 0.00/502 [00:00<?, ?B/s]"
      ]
     },
     "metadata": {},
     "output_type": "display_data"
    },
    {
     "data": {
      "application/vnd.jupyter.widget-view+json": {
       "model_id": "3c332ed6c15544dfa2d032df9e71fa13",
       "version_major": 2,
       "version_minor": 0
      },
      "text/plain": [
       "model.safetensors:   0%|          | 0.00/346M [00:00<?, ?B/s]"
      ]
     },
     "metadata": {},
     "output_type": "display_data"
    },
    {
     "name": "stderr",
     "output_type": "stream",
     "text": [
      "Some weights of ViTForImageClassification were not initialized from the model checkpoint at google/vit-base-patch16-224-in21k and are newly initialized: ['classifier.bias', 'classifier.weight']\n",
      "You should probably TRAIN this model on a down-stream task to be able to use it for predictions and inference.\n"
     ]
    },
    {
     "name": "stdout",
     "output_type": "stream",
     "text": [
      "85.800194\n"
     ]
    }
   ],
   "source": [
    "# Create a ViTForImageClassification model from a pretrained checkpoint with a specified number of output labels.\n",
    "model = ViTForImageClassification.from_pretrained(model_str, num_labels=len(labels_list))\n",
    "\n",
    "# Configure the mapping of class labels to their corresponding indices for later reference.\n",
    "model.config.id2label = id2label\n",
    "model.config.label2id = label2id\n",
    "\n",
    "# Calculate and print the number of trainable parameters in millions for the model.\n",
    "print(model.num_parameters(only_trainable=True) / 1e6)"
   ]
  },
  {
   "cell_type": "code",
   "execution_count": 21,
   "id": "47290022",
   "metadata": {
    "execution": {
     "iopub.execute_input": "2025-01-24T14:33:43.941710Z",
     "iopub.status.busy": "2025-01-24T14:33:43.941466Z",
     "iopub.status.idle": "2025-01-24T14:33:44.326958Z",
     "shell.execute_reply": "2025-01-24T14:33:44.326353Z"
    },
    "papermill": {
     "duration": 0.397313,
     "end_time": "2025-01-24T14:33:44.328618",
     "exception": false,
     "start_time": "2025-01-24T14:33:43.931305",
     "status": "completed"
    },
    "tags": []
   },
   "outputs": [
    {
     "data": {
      "application/vnd.jupyter.widget-view+json": {
       "model_id": "51012b021b314633b0e2f84b75bc3c90",
       "version_major": 2,
       "version_minor": 0
      },
      "text/plain": [
       "Downloading builder script:   0%|          | 0.00/4.20k [00:00<?, ?B/s]"
      ]
     },
     "metadata": {},
     "output_type": "display_data"
    }
   ],
   "source": [
    "# Load the accuracy metric from a module named 'evaluate'\n",
    "accuracy = evaluate.load(\"accuracy\")\n",
    "\n",
    "# Define a function 'compute_metrics' to calculate evaluation metrics\n",
    "def compute_metrics(eval_pred):\n",
    "    # Extract model predictions from the evaluation prediction object\n",
    "    predictions = eval_pred.predictions\n",
    "    \n",
    "    # Extract true labels from the evaluation prediction object\n",
    "    label_ids = eval_pred.label_ids\n",
    "    \n",
    "    # Calculate accuracy using the loaded accuracy metric\n",
    "    # Convert model predictions to class labels by selecting the class with the highest probability (argmax)\n",
    "    predicted_labels = predictions.argmax(axis=1)\n",
    "    \n",
    "    # Calculate accuracy score by comparing predicted labels to true labels\n",
    "    acc_score = accuracy.compute(predictions=predicted_labels, references=label_ids)['accuracy']\n",
    "    \n",
    "    # Return the computed accuracy as a dictionary with the key \"accuracy\"\n",
    "    return {\n",
    "        \"accuracy\": acc_score\n",
    "    }"
   ]
  },
  {
   "cell_type": "code",
   "execution_count": 22,
   "id": "d4be4fa5",
   "metadata": {
    "execution": {
     "iopub.execute_input": "2025-01-24T14:33:44.348486Z",
     "iopub.status.busy": "2025-01-24T14:33:44.348236Z",
     "iopub.status.idle": "2025-01-24T14:33:44.498456Z",
     "shell.execute_reply": "2025-01-24T14:33:44.497667Z"
    },
    "papermill": {
     "duration": 0.162286,
     "end_time": "2025-01-24T14:33:44.500565",
     "exception": false,
     "start_time": "2025-01-24T14:33:44.338279",
     "status": "completed"
    },
    "tags": []
   },
   "outputs": [],
   "source": [
    "# Define the name of the evaluation metric to be used during training and evaluation.\n",
    "metric_name = \"accuracy\"\n",
    "\n",
    "# Define the name of the model, which will be used to create a directory for saving model checkpoints and outputs.\n",
    "model_name = \"crime_cctv_image_detection\"\n",
    "\n",
    "# Define the number of training epochs for the model.\n",
    "num_train_epochs = 1\n",
    "\n",
    "# Create an instance of TrainingArguments to configure training settings.\n",
    "args = TrainingArguments(\n",
    "    # Specify the directory where model checkpoints and outputs will be saved.\n",
    "    output_dir=model_name,\n",
    "    \n",
    "    # Specify the directory where training logs will be stored.\n",
    "    logging_dir='./logs',\n",
    "    \n",
    "    # Define the evaluation strategy, which is performed at the end of each epoch.\n",
    "    evaluation_strategy=\"epoch\",\n",
    "    \n",
    "    # Set the learning rate for the optimizer.\n",
    "    learning_rate=5e-6,\n",
    "    \n",
    "    # Define the batch size for training on each device.\n",
    "    per_device_train_batch_size=32,\n",
    "    \n",
    "    # Define the batch size for evaluation on each device.\n",
    "    per_device_eval_batch_size=8,\n",
    "    \n",
    "    # Specify the total number of training epochs.\n",
    "    num_train_epochs=num_train_epochs,\n",
    "    \n",
    "    # Apply weight decay to prevent overfitting.\n",
    "    weight_decay=0.02,\n",
    "    \n",
    "    # Set the number of warm-up steps for the learning rate scheduler.\n",
    "    warmup_steps=50,\n",
    "    \n",
    "    # Disable the removal of unused columns from the dataset.\n",
    "    remove_unused_columns=False,\n",
    "    \n",
    "    # Define the strategy for saving model checkpoints (per epoch in this case).\n",
    "    save_strategy='epoch',\n",
    "    \n",
    "    # Load the best model at the end of training.\n",
    "    load_best_model_at_end=True,\n",
    "    \n",
    "    # Limit the total number of saved checkpoints to save space.\n",
    "    save_total_limit=1,\n",
    "    \n",
    "    # Specify that training progress should not be reported.\n",
    "    report_to=\"none\"\n",
    ")"
   ]
  },
  {
   "cell_type": "code",
   "execution_count": 23,
   "id": "de0efbad",
   "metadata": {
    "execution": {
     "iopub.execute_input": "2025-01-24T14:33:44.520564Z",
     "iopub.status.busy": "2025-01-24T14:33:44.520311Z",
     "iopub.status.idle": "2025-01-24T14:33:45.635103Z",
     "shell.execute_reply": "2025-01-24T14:33:45.634390Z"
    },
    "papermill": {
     "duration": 1.127033,
     "end_time": "2025-01-24T14:33:45.637134",
     "exception": false,
     "start_time": "2025-01-24T14:33:44.510101",
     "status": "completed"
    },
    "tags": []
   },
   "outputs": [],
   "source": [
    "# Create a Trainer instance for fine-tuning a language model.\n",
    "\n",
    "# - `model`: The pre-trained language model to be fine-tuned.\n",
    "# - `args`: Configuration settings and hyperparameters for training.\n",
    "# - `train_dataset`: The dataset used for training the model.\n",
    "# - `eval_dataset`: The dataset used for evaluating the model during training.\n",
    "# - `data_collator`: A function that defines how data batches are collated and processed.\n",
    "# - `compute_metrics`: A function for computing custom evaluation metrics.\n",
    "# - `tokenizer`: The tokenizer used for processing text data.\n",
    "\n",
    "trainer = Trainer(\n",
    "    model,\n",
    "    args,\n",
    "    train_dataset=train_data,\n",
    "    eval_dataset=val_data,\n",
    "    data_collator=collate_fn,\n",
    "    compute_metrics=compute_metrics,\n",
    "    tokenizer=processor,\n",
    ")"
   ]
  },
  {
   "cell_type": "code",
   "execution_count": 24,
   "id": "83d6c442",
   "metadata": {
    "execution": {
     "iopub.execute_input": "2025-01-24T14:33:45.657589Z",
     "iopub.status.busy": "2025-01-24T14:33:45.657308Z",
     "iopub.status.idle": "2025-01-24T15:06:38.763118Z",
     "shell.execute_reply": "2025-01-24T15:06:38.762281Z"
    },
    "papermill": {
     "duration": 1973.117926,
     "end_time": "2025-01-24T15:06:38.765006",
     "exception": false,
     "start_time": "2025-01-24T14:33:45.647080",
     "status": "completed"
    },
    "tags": []
   },
   "outputs": [
    {
     "data": {
      "text/html": [
       "\n",
       "    <div>\n",
       "      \n",
       "      <progress value='15830' max='7915' style='width:300px; height:20px; vertical-align: middle;'></progress>\n",
       "      [7915/7915 10:29:47]\n",
       "    </div>\n",
       "    "
      ],
      "text/plain": [
       "<IPython.core.display.HTML object>"
      ]
     },
     "metadata": {},
     "output_type": "display_data"
    },
    {
     "data": {
      "text/plain": [
       "{'eval_loss': 0.6932404637336731,\n",
       " 'eval_accuracy': 0.5240415366999644,\n",
       " 'eval_runtime': 1973.099,\n",
       " 'eval_samples_per_second': 64.181,\n",
       " 'eval_steps_per_second': 4.011}"
      ]
     },
     "execution_count": 24,
     "metadata": {},
     "output_type": "execute_result"
    }
   ],
   "source": [
    "# Evaluate the pre-training model's performance on a test dataset.\n",
    "# This function calculates various metrics such as accuracy, loss, etc.,\n",
    "# to assess how well the model is performing on unseen data.\n",
    "\n",
    "trainer.evaluate()"
   ]
  },
  {
   "cell_type": "code",
   "execution_count": 25,
   "id": "54529a85",
   "metadata": {
    "execution": {
     "iopub.execute_input": "2025-01-24T15:06:38.786258Z",
     "iopub.status.busy": "2025-01-24T15:06:38.785582Z",
     "iopub.status.idle": "2025-01-25T01:03:38.870289Z",
     "shell.execute_reply": "2025-01-25T01:03:38.869218Z"
    },
    "papermill": {
     "duration": 35820.107898,
     "end_time": "2025-01-25T01:03:38.882582",
     "exception": false,
     "start_time": "2025-01-24T15:06:38.774684",
     "status": "completed"
    },
    "tags": []
   },
   "outputs": [
    {
     "data": {
      "text/html": [
       "\n",
       "    <div>\n",
       "      \n",
       "      <progress value='17808' max='17808' style='width:300px; height:20px; vertical-align: middle;'></progress>\n",
       "      [17808/17808 9:56:56, Epoch 1/1]\n",
       "    </div>\n",
       "    <table border=\"1\" class=\"dataframe\">\n",
       "  <thead>\n",
       " <tr style=\"text-align: left;\">\n",
       "      <th>Epoch</th>\n",
       "      <th>Training Loss</th>\n",
       "      <th>Validation Loss</th>\n",
       "      <th>Accuracy</th>\n",
       "    </tr>\n",
       "  </thead>\n",
       "  <tbody>\n",
       "    <tr>\n",
       "      <td>1</td>\n",
       "      <td>0.002100</td>\n",
       "      <td>0.002269</td>\n",
       "      <td>0.999392</td>\n",
       "    </tr>\n",
       "  </tbody>\n",
       "</table><p>"
      ],
      "text/plain": [
       "<IPython.core.display.HTML object>"
      ]
     },
     "metadata": {},
     "output_type": "display_data"
    },
    {
     "data": {
      "text/plain": [
       "TrainOutput(global_step=17808, training_loss=0.021345052386149563, metrics={'train_runtime': 35819.7134, 'train_samples_per_second': 31.818, 'train_steps_per_second': 0.497, 'total_flos': 8.831839548364666e+19, 'train_loss': 0.021345052386149563, 'epoch': 1.0})"
      ]
     },
     "execution_count": 25,
     "metadata": {},
     "output_type": "execute_result"
    }
   ],
   "source": [
    "# Start training the model using the trainer object.\n",
    "trainer.train()"
   ]
  },
  {
   "cell_type": "code",
   "execution_count": 26,
   "id": "f0fdf5db",
   "metadata": {
    "execution": {
     "iopub.execute_input": "2025-01-25T01:03:38.907313Z",
     "iopub.status.busy": "2025-01-25T01:03:38.906924Z",
     "iopub.status.idle": "2025-01-25T01:27:15.044367Z",
     "shell.execute_reply": "2025-01-25T01:27:15.043233Z"
    },
    "papermill": {
     "duration": 1416.152126,
     "end_time": "2025-01-25T01:27:15.046494",
     "exception": false,
     "start_time": "2025-01-25T01:03:38.894368",
     "status": "completed"
    },
    "tags": []
   },
   "outputs": [
    {
     "data": {
      "text/html": [],
      "text/plain": [
       "<IPython.core.display.HTML object>"
      ]
     },
     "metadata": {},
     "output_type": "display_data"
    },
    {
     "data": {
      "text/plain": [
       "{'eval_loss': 0.0022689562756568193,\n",
       " 'eval_accuracy': 0.9993919532514708,\n",
       " 'eval_runtime': 1416.1293,\n",
       " 'eval_samples_per_second': 89.423,\n",
       " 'eval_steps_per_second': 5.589,\n",
       " 'epoch': 1.0}"
      ]
     },
     "execution_count": 26,
     "metadata": {},
     "output_type": "execute_result"
    }
   ],
   "source": [
    "# Evaluate the post-training model's performance on the validation or test dataset.\n",
    "# This function computes various evaluation metrics like accuracy, loss, etc.\n",
    "# and provides insights into how well the model is performing.\n",
    "\n",
    "trainer.evaluate()"
   ]
  },
  {
   "cell_type": "code",
   "execution_count": 27,
   "id": "f58e5cc9",
   "metadata": {
    "execution": {
     "iopub.execute_input": "2025-01-25T01:27:15.072138Z",
     "iopub.status.busy": "2025-01-25T01:27:15.071737Z",
     "iopub.status.idle": "2025-01-25T01:58:03.961320Z",
     "shell.execute_reply": "2025-01-25T01:58:03.960393Z"
    },
    "papermill": {
     "duration": 1848.90371,
     "end_time": "2025-01-25T01:58:03.963307",
     "exception": false,
     "start_time": "2025-01-25T01:27:15.059597",
     "status": "completed"
    },
    "tags": []
   },
   "outputs": [
    {
     "name": "stdout",
     "output_type": "stream",
     "text": [
      "{'test_loss': 1.3000245094299316, 'test_accuracy': 0.7895299529234197, 'test_runtime': 1848.8814, 'test_samples_per_second': 60.203, 'test_steps_per_second': 3.763}\n"
     ]
    }
   ],
   "source": [
    "# Use the trained 'trainer' to make predictions on the 'test_data'.\n",
    "outputs = trainer.predict(test_data)\n",
    "\n",
    "# Print the metrics obtained from the prediction outputs.\n",
    "print(outputs.metrics)"
   ]
  },
  {
   "cell_type": "code",
   "execution_count": 28,
   "id": "55b12553",
   "metadata": {
    "execution": {
     "iopub.execute_input": "2025-01-25T01:58:03.995737Z",
     "iopub.status.busy": "2025-01-25T01:58:03.995083Z",
     "iopub.status.idle": "2025-01-25T01:58:04.472317Z",
     "shell.execute_reply": "2025-01-25T01:58:04.471319Z"
    },
    "papermill": {
     "duration": 0.499724,
     "end_time": "2025-01-25T01:58:04.474516",
     "exception": false,
     "start_time": "2025-01-25T01:58:03.974792",
     "status": "completed"
    },
    "tags": []
   },
   "outputs": [
    {
     "name": "stdout",
     "output_type": "stream",
     "text": [
      "Accuracy: 0.7895\n",
      "F1 Score: 0.7858\n"
     ]
    },
    {
     "data": {
      "image/png": "[encoded data removed]",
      "text/plain": [
       "<Figure size 800x600 with 2 Axes>"
      ]
     },
     "metadata": {},
     "output_type": "display_data"
    },
    {
     "name": "stdout",
     "output_type": "stream",
     "text": [
      "\n",
      "Classification report:\n",
      "\n",
      "              precision    recall  f1-score   support\n",
      "\n",
      "       Crime     0.7278    0.7901    0.7577     46356\n",
      "      Normal     0.8405    0.7891    0.8140     64952\n",
      "\n",
      "    accuracy                         0.7895    111308\n",
      "   macro avg     0.7841    0.7896    0.7858    111308\n",
      "weighted avg     0.7935    0.7895    0.7905    111308\n",
      "\n"
     ]
    }
   ],
   "source": [
    "# Extract the true labels from the model outputs\n",
    "y_true = outputs.label_ids\n",
    "\n",
    "# Predict the labels by selecting the class with the highest probability\n",
    "y_pred = outputs.predictions.argmax(1)\n",
    "\n",
    "# Define a function to plot a confusion matrix\n",
    "def plot_confusion_matrix(cm, classes, title='Confusion Matrix', cmap=plt.cm.Blues, figsize=(10, 8)):\n",
    "    \"\"\"\n",
    "    This function plots a confusion matrix.\n",
    "\n",
    "    Parameters:\n",
    "        cm (array-like): Confusion matrix as returned by sklearn.metrics.confusion_matrix.\n",
    "        classes (list): List of class names, e.g., ['Class 0', 'Class 1'].\n",
    "        title (str): Title for the plot.\n",
    "        cmap (matplotlib colormap): Colormap for the plot.\n",
    "    \"\"\"\n",
    "    # Create a figure with a specified size\n",
    "    plt.figure(figsize=figsize)\n",
    "    \n",
    "    # Display the confusion matrix as an image with a colormap\n",
    "    plt.imshow(cm, interpolation='nearest', cmap=cmap)\n",
    "    plt.title(title)\n",
    "    plt.colorbar()\n",
    "\n",
    "    # Define tick marks and labels for the classes on the axes\n",
    "    tick_marks = np.arange(len(classes))\n",
    "    plt.xticks(tick_marks, classes, rotation=90)\n",
    "    plt.yticks(tick_marks, classes)\n",
    "\n",
    "    fmt = '.0f'\n",
    "    # Add text annotations to the plot indicating the values in the cells\n",
    "    thresh = cm.max() / 2.0\n",
    "    for i, j in itertools.product(range(cm.shape[0]), range(cm.shape[1])):\n",
    "        plt.text(j, i, format(cm[i, j], fmt), horizontalalignment=\"center\", color=\"white\" if cm[i, j] > thresh else \"black\")\n",
    "\n",
    "    # Label the axes\n",
    "    plt.ylabel('True label')\n",
    "    plt.xlabel('Predicted label')\n",
    "\n",
    "    # Ensure the plot layout is tight\n",
    "    plt.tight_layout()\n",
    "    # Display the plot\n",
    "    plt.show()\n",
    "\n",
    "# Calculate accuracy and F1 score\n",
    "accuracy = accuracy_score(y_true, y_pred)\n",
    "f1 = f1_score(y_true, y_pred, average='macro')\n",
    "\n",
    "# Display accuracy and F1 score\n",
    "print(f\"Accuracy: {accuracy:.4f}\")\n",
    "print(f\"F1 Score: {f1:.4f}\")\n",
    "\n",
    "# Get the confusion matrix if there are a relatively small number of labels\n",
    "if len(labels_list) <= 120:\n",
    "    # Compute the confusion matrix\n",
    "    cm = confusion_matrix(y_true, y_pred)\n",
    "\n",
    "    # Plot the confusion matrix using the defined function\n",
    "    plot_confusion_matrix(cm, labels_list, figsize=(8, 6))\n",
    "\n",
    "# Finally, display classification report\n",
    "print()\n",
    "print(\"Classification report:\")\n",
    "print()\n",
    "print(classification_report(y_true, y_pred, target_names=labels_list, digits=4))"
   ]
  },
  {
   "cell_type": "code",
   "execution_count": 29,
   "id": "a4c5475a",
   "metadata": {
    "execution": {
     "iopub.execute_input": "2025-01-25T01:58:04.501763Z",
     "iopub.status.busy": "2025-01-25T01:58:04.501439Z",
     "iopub.status.idle": "2025-01-25T01:58:05.332598Z",
     "shell.execute_reply": "2025-01-25T01:58:05.331737Z"
    },
    "papermill": {
     "duration": 0.846561,
     "end_time": "2025-01-25T01:58:05.334784",
     "exception": false,
     "start_time": "2025-01-25T01:58:04.488223",
     "status": "completed"
    },
    "tags": []
   },
   "outputs": [],
   "source": [
    "# Save the trained model: This line of code is responsible for saving the model\n",
    "# that has been trained using the trainer object. It will serialize the model\n",
    "# and its associated weights, making it possible to reload and use the model\n",
    "# in the future without the need to retrain it.\n",
    "trainer.save_model()"
   ]
  },
  {
   "cell_type": "code",
   "execution_count": 30,
   "id": "33d0bb5f",
   "metadata": {
    "execution": {
     "iopub.execute_input": "2025-01-25T01:58:05.359351Z",
     "iopub.status.busy": "2025-01-25T01:58:05.359045Z",
     "iopub.status.idle": "2025-01-25T01:58:06.478342Z",
     "shell.execute_reply": "2025-01-25T01:58:06.477510Z"
    },
    "papermill": {
     "duration": 1.133867,
     "end_time": "2025-01-25T01:58:06.480386",
     "exception": false,
     "start_time": "2025-01-25T01:58:05.346519",
     "status": "completed"
    },
    "tags": []
   },
   "outputs": [
    {
     "name": "stderr",
     "output_type": "stream",
     "text": [
      "Using a slow image processor as `use_fast` is unset and a slow processor was saved with this model. `use_fast=True` will be the default behavior in v4.48, even if the model was saved with a slow processor. This will result in minor differences in outputs. You'll still be able to use a slow processor with `use_fast=False`.\n",
      "Device set to use cuda:0\n"
     ]
    }
   ],
   "source": [
    "# Import the 'pipeline' function from the 'transformers' library.\n",
    "from transformers import pipeline\n",
    "\n",
    "# Create a pipeline for image classification tasks. \n",
    "# You need to specify the 'model_name' and the 'device' to use for inference.\n",
    "# - 'model_name': The name of the pre-trained model to be used for image classification.\n",
    "# - 'device': Specifies the device to use for running the model (0 for GPU, -1 for CPU).\n",
    "pipe = pipeline('image-classification', model=model_name, device=0)"
   ]
  },
  {
   "cell_type": "code",
   "execution_count": 31,
   "id": "e4df1537",
   "metadata": {
    "execution": {
     "iopub.execute_input": "2025-01-25T01:58:06.506191Z",
     "iopub.status.busy": "2025-01-25T01:58:06.505634Z",
     "iopub.status.idle": "2025-01-25T01:58:06.519160Z",
     "shell.execute_reply": "2025-01-25T01:58:06.517986Z"
    },
    "papermill": {
     "duration": 0.028387,
     "end_time": "2025-01-25T01:58:06.521110",
     "exception": false,
     "start_time": "2025-01-25T01:58:06.492723",
     "status": "completed"
    },
    "tags": []
   },
   "outputs": [
    {
     "data": {
      "image/jpeg": "[encoded data removed]",
      "image/png": "[encoded data removed]",
      "text/plain": [
       "<PIL.PngImagePlugin.PngImageFile image mode=RGB size=64x64>"
      ]
     },
     "execution_count": 31,
     "metadata": {},
     "output_type": "execute_result"
    }
   ],
   "source": [
    "# Accessing an image from the 'test_data' dataset using index 1.\n",
    "image = test_data[1][\"image\"]\n",
    "\n",
    "# Displaying the 'image' variable.\n",
    "image"
   ]
  },
  {
   "cell_type": "code",
   "execution_count": 32,
   "id": "d2041cdb",
   "metadata": {
    "execution": {
     "iopub.execute_input": "2025-01-25T01:58:06.547446Z",
     "iopub.status.busy": "2025-01-25T01:58:06.546708Z",
     "iopub.status.idle": "2025-01-25T01:58:06.583542Z",
     "shell.execute_reply": "2025-01-25T01:58:06.582535Z"
    },
    "papermill": {
     "duration": 0.052472,
     "end_time": "2025-01-25T01:58:06.585638",
     "exception": false,
     "start_time": "2025-01-25T01:58:06.533166",
     "status": "completed"
    },
    "tags": []
   },
   "outputs": [
    {
     "data": {
      "text/plain": [
       "[{'label': 'Crime', 'score': 0.9765225648880005},\n",
       " {'label': 'Normal', 'score': 0.023570174351334572}]"
      ]
     },
     "execution_count": 32,
     "metadata": {},
     "output_type": "execute_result"
    }
   ],
   "source": [
    "# Apply the 'pipe' function to process the 'image' variable.\n",
    "pipe(image)"
   ]
  },
  {
   "cell_type": "code",
   "execution_count": 33,
   "id": "6314ed3e",
   "metadata": {
    "execution": {
     "iopub.execute_input": "2025-01-25T01:58:06.616052Z",
     "iopub.status.busy": "2025-01-25T01:58:06.615471Z",
     "iopub.status.idle": "2025-01-25T01:58:06.624712Z",
     "shell.execute_reply": "2025-01-25T01:58:06.623721Z"
    },
    "papermill": {
     "duration": 0.026283,
     "end_time": "2025-01-25T01:58:06.626727",
     "exception": false,
     "start_time": "2025-01-25T01:58:06.600444",
     "status": "completed"
    },
    "tags": []
   },
   "outputs": [
    {
     "data": {
      "text/plain": [
       "'Crime'"
      ]
     },
     "execution_count": 33,
     "metadata": {},
     "output_type": "execute_result"
    }
   ],
   "source": [
    "# This line of code accesses the \"label\" attribute of a specific element in the test_data list.\n",
    "# It's used to retrieve the actual label associated with a test data point.\n",
    "id2label[test_data[1][\"label\"]]"
   ]
  },
  {
   "cell_type": "markdown",
   "id": "6f329961",
   "metadata": {
    "papermill": {
     "duration": 0.012553,
     "end_time": "2025-01-25T01:58:06.652015",
     "exception": false,
     "start_time": "2025-01-25T01:58:06.639462",
     "status": "completed"
    },
    "tags": []
   },
   "source": [
    "# Send model to Huggingface"
   ]
  },
  {
   "cell_type": "code",
   "execution_count": 34,
   "id": "9a6f85fa",
   "metadata": {
    "execution": {
     "iopub.execute_input": "2025-01-25T01:58:06.679705Z",
     "iopub.status.busy": "2025-01-25T01:58:06.678707Z",
     "iopub.status.idle": "2025-01-25T01:58:06.683132Z",
     "shell.execute_reply": "2025-01-25T01:58:06.682206Z"
    },
    "papermill": {
     "duration": 0.020735,
     "end_time": "2025-01-25T01:58:06.685285",
     "exception": false,
     "start_time": "2025-01-25T01:58:06.664550",
     "status": "completed"
    },
    "tags": []
   },
   "outputs": [],
   "source": [
    "# # Import the necessary module to interact with the Hugging Face Hub.\n",
    "# from huggingface_hub import notebook_login\n",
    "\n",
    "# # Perform a login to the Hugging Face Hub.\n",
    "# notebook_login()"
   ]
  },
  {
   "cell_type": "code",
   "execution_count": 35,
   "id": "9d640ae0",
   "metadata": {
    "execution": {
     "iopub.execute_input": "2025-01-25T01:58:06.721157Z",
     "iopub.status.busy": "2025-01-25T01:58:06.720811Z",
     "iopub.status.idle": "2025-01-25T01:58:06.725526Z",
     "shell.execute_reply": "2025-01-25T01:58:06.724708Z"
    },
    "papermill": {
     "duration": 0.023639,
     "end_time": "2025-01-25T01:58:06.727467",
     "exception": false,
     "start_time": "2025-01-25T01:58:06.703828",
     "status": "completed"
    },
    "tags": []
   },
   "outputs": [],
   "source": [
    "# # Import the HfApi class from the huggingface_hub library.\n",
    "# from huggingface_hub import HfApi\n",
    "\n",
    "# # Create an instance of the HfApi class.\n",
    "# api = HfApi()\n",
    "\n",
    "# # Define the repository ID by combining the username \"dima806\" with the model name.\n",
    "# repo_id = f\"dima806/{model_name}\"\n",
    "\n",
    "# try:\n",
    "#     # Attempt to create a new repository on the Hugging Face Model Hub using the specified repo_id.\n",
    "#     api.create_repo(repo_id)\n",
    "    \n",
    "#     # If the repository creation is successful, print a message indicating that the repository was created.\n",
    "#     print(f\"Repo {repo_id} created\")\n",
    "# except:\n",
    "#     # If an exception is raised, print a message indicating that the repository already exists.\n",
    "#     print(f\"Repo {repo_id} already exists\")"
   ]
  },
  {
   "cell_type": "code",
   "execution_count": 36,
   "id": "9d65c44c",
   "metadata": {
    "execution": {
     "iopub.execute_input": "2025-01-25T01:58:06.760386Z",
     "iopub.status.busy": "2025-01-25T01:58:06.759632Z",
     "iopub.status.idle": "2025-01-25T01:58:06.763975Z",
     "shell.execute_reply": "2025-01-25T01:58:06.763174Z"
    },
    "papermill": {
     "duration": 0.020387,
     "end_time": "2025-01-25T01:58:06.765751",
     "exception": false,
     "start_time": "2025-01-25T01:58:06.745364",
     "status": "completed"
    },
    "tags": []
   },
   "outputs": [],
   "source": [
    "# # Uploading a folder to the Hugging Face Model Hub\n",
    "# api.upload_folder(\n",
    "#     folder_path=model_name,  # The path to the folder to be uploaded\n",
    "#     path_in_repo=\".\",  # The path where the folder will be stored in the repository\n",
    "#     repo_id=repo_id,  # The ID of the repository where the folder will be uploaded\n",
    "#     repo_type=\"model\",  # The type of the repository (in this case, a model repository)\n",
    "#     revision=\"main\" # Revision name\n",
    "# )"
   ]
  },
  {
   "cell_type": "code",
   "execution_count": null,
   "id": "97fd6387",
   "metadata": {
    "papermill": {
     "duration": 0.011863,
     "end_time": "2025-01-25T01:58:06.790787",
     "exception": false,
     "start_time": "2025-01-25T01:58:06.778924",
     "status": "completed"
    },
    "tags": []
   },
   "outputs": [],
   "source": []
  }
 ],
 "metadata": {
  "kaggle": {
   "accelerator": "nvidiaTeslaT4",
   "dataSources": [
    {
     "datasetId": 1710176,
     "sourceId": 2799594,
     "sourceType": "datasetVersion"
    }
   ],
   "dockerImageVersionId": 30787,
   "isGpuEnabled": true,
   "isInternetEnabled": true,
   "language": "python",
   "sourceType": "notebook"
  },
  "kernelspec": {
   "display_name": "Python 3",
   "language": "python",
   "name": "python3"
  },
  "language_info": {
   "codemirror_mode": {
    "name": "ipython",
    "version": 3
   },
   "file_extension": ".py",
   "mimetype": "text/x-python",
   "name": "python",
   "nbconvert_exporter": "python",
   "pygments_lexer": "ipython3",
   "version": "3.10.14"
  },
  "papermill": {
   "default_parameters": {},
   "duration": 41181.992897,
   "end_time": "2025-01-25T01:58:10.605020",
   "environment_variables": {},
   "exception": null,
   "input_path": "__notebook__.ipynb",
   "output_path": "__notebook__.ipynb",
   "parameters": {},
   "start_time": "2025-01-24T14:31:48.612123",
   "version": "2.6.0"
  },
  "widgets": {
   "application/vnd.jupyter.widget-state+json": {
    "state": {
     "03b0602704b1404ba241eb648c5fb026": {
      "model_module": "@jupyter-widgets/controls",
      "model_module_version": "1.5.0",
      "model_name": "FloatProgressModel",
      "state": {
       "_dom_classes": [],
       "_model_module": "@jupyter-widgets/controls",
       "_model_module_version": "1.5.0",
       "_model_name": "FloatProgressModel",
       "_view_count": null,
       "_view_module": "@jupyter-widgets/controls",
       "_view_module_version": "1.5.0",
       "_view_name": "ProgressView",
       "bar_style": "success",
       "description": "",
       "description_tooltip": null,
       "layout": "IPY_MODEL_ee22e2d1ea774913be76004d7c7b382b",
       "max": 111308.0,
       "min": 0.0,
       "orientation": "horizontal",
       "style": "IPY_MODEL_e7520e6fab7043efb780d1f2f7d3c958",
       "value": 111308.0
      }
     },
     "04372bc9c63047afb323d8b13b70c924": {
      "model_module": "@jupyter-widgets/controls",
      "model_module_version": "1.5.0",
      "model_name": "FloatProgressModel",
      "state": {
       "_dom_classes": [],
       "_model_module": "@jupyter-widgets/controls",
       "_model_module_version": "1.5.0",
       "_model_name": "FloatProgressModel",
       "_view_count": null,
       "_view_module": "@jupyter-widgets/controls",
       "_view_module_version": "1.5.0",
       "_view_name": "ProgressView",
       "bar_style": "success",
       "description": "",
       "description_tooltip": null,
       "layout": "IPY_MODEL_75de599c2eb94a29a3851e1ac4154301",
       "max": 111308.0,
       "min": 0.0,
       "orientation": "horizontal",
       "style": "IPY_MODEL_89f6687c381740aeb85c3985fff2d837",
       "value": 111308.0
      }
     },
     "0db7a8910d1e477083ee183490a7f1b9": {
      "model_module": "@jupyter-widgets/base",
      "model_module_version": "1.2.0",
      "model_name": "LayoutModel",
      "state": {
       "_model_module": "@jupyter-widgets/base",
       "_model_module_version": "1.2.0",
       "_model_name": "LayoutModel",
       "_view_count": null,
       "_view_module": "@jupyter-widgets/base",
       "_view_module_version": "1.2.0",
       "_view_name": "LayoutView",
       "align_content": null,
       "align_items": null,
       "align_self": null,
       "border": null,
       "bottom": null,
       "display": null,
       "flex": null,
       "flex_flow": null,
       "grid_area": null,
       "grid_auto_columns": null,
       "grid_auto_flow": null,
       "grid_auto_rows": null,
       "grid_column": null,
       "grid_gap": null,
       "grid_row": null,
       "grid_template_areas": null,
       "grid_template_columns": null,
       "grid_template_rows": null,
       "height": null,
       "justify_content": null,
       "justify_items": null,
       "left": null,
       "margin": null,
       "max_height": null,
       "max_width": null,
       "min_height": null,
       "min_width": null,
       "object_fit": null,
       "object_position": null,
       "order": null,
       "overflow": null,
       "overflow_x": null,
       "overflow_y": null,
       "padding": null,
       "right": null,
       "top": null,
       "visibility": null,
       "width": null
      }
     },
     "10f44d5094ab4cc6934622fc906ef889": {
      "model_module": "@jupyter-widgets/base",
      "model_module_version": "1.2.0",
      "model_name": "LayoutModel",
      "state": {
       "_model_module": "@jupyter-widgets/base",
       "_model_module_version": "1.2.0",
       "_model_name": "LayoutModel",
       "_view_count": null,
       "_view_module": "@jupyter-widgets/base",
       "_view_module_version": "1.2.0",
       "_view_name": "LayoutView",
       "align_content": null,
       "align_items": null,
       "align_self": null,
       "border": null,
       "bottom": null,
       "display": null,
       "flex": null,
       "flex_flow": null,
       "grid_area": null,
       "grid_auto_columns": null,
       "grid_auto_flow": null,
       "grid_auto_rows": null,
       "grid_column": null,
       "grid_gap": null,
       "grid_row": null,
       "grid_template_areas": null,
       "grid_template_columns": null,
       "grid_template_rows": null,
       "height": null,
       "justify_content": null,
       "justify_items": null,
       "left": null,
       "margin": null,
       "max_height": null,
       "max_width": null,
       "min_height": null,
       "min_width": null,
       "object_fit": null,
       "object_position": null,
       "order": null,
       "overflow": null,
       "overflow_x": null,
       "overflow_y": null,
       "padding": null,
       "right": null,
       "top": null,
       "visibility": null,
       "width": null
      }
     },
     "119e68e907ba4648b7ae7371b2ee8e86": {
      "model_module": "@jupyter-widgets/base",
      "model_module_version": "1.2.0",
      "model_name": "LayoutModel",
      "state": {
       "_model_module": "@jupyter-widgets/base",
       "_model_module_version": "1.2.0",
       "_model_name": "LayoutModel",
       "_view_count": null,
       "_view_module": "@jupyter-widgets/base",
       "_view_module_version": "1.2.0",
       "_view_name": "LayoutView",
       "align_content": null,
       "align_items": null,
       "align_self": null,
       "border": null,
       "bottom": null,
       "display": null,
       "flex": null,
       "flex_flow": null,
       "grid_area": null,
       "grid_auto_columns": null,
       "grid_auto_flow": null,
       "grid_auto_rows": null,
       "grid_column": null,
       "grid_gap": null,
       "grid_row": null,
       "grid_template_areas": null,
       "grid_template_columns": null,
       "grid_template_rows": null,
       "height": null,
       "justify_content": null,
       "justify_items": null,
       "left": null,
       "margin": null,
       "max_height": null,
       "max_width": null,
       "min_height": null,
       "min_width": null,
       "object_fit": null,
       "object_position": null,
       "order": null,
       "overflow": null,
       "overflow_x": null,
       "overflow_y": null,
       "padding": null,
       "right": null,
       "top": null,
       "visibility": null,
       "width": null
      }
     },
     "1298edcebb524dec9b7560b1be1b2010": {
      "model_module": "@jupyter-widgets/controls",
      "model_module_version": "1.5.0",
      "model_name": "DescriptionStyleModel",
      "state": {
       "_model_module": "@jupyter-widgets/controls",
       "_model_module_version": "1.5.0",
       "_model_name": "DescriptionStyleModel",
       "_view_count": null,
       "_view_module": "@jupyter-widgets/base",
       "_view_module_version": "1.2.0",
       "_view_name": "StyleView",
       "description_width": ""
      }
     },
     "14b867b9defa4922a2331d2a65ebf1f8": {
      "model_module": "@jupyter-widgets/base",
      "model_module_version": "1.2.0",
      "model_name": "LayoutModel",
      "state": {
       "_model_module": "@jupyter-widgets/base",
       "_model_module_version": "1.2.0",
       "_model_name": "LayoutModel",
       "_view_count": null,
       "_view_module": "@jupyter-widgets/base",
       "_view_module_version": "1.2.0",
       "_view_name": "LayoutView",
       "align_content": null,
       "align_items": null,
       "align_self": null,
       "border": null,
       "bottom": null,
       "display": null,
       "flex": null,
       "flex_flow": null,
       "grid_area": null,
       "grid_auto_columns": null,
       "grid_auto_flow": null,
       "grid_auto_rows": null,
       "grid_column": null,
       "grid_gap": null,
       "grid_row": null,
       "grid_template_areas": null,
       "grid_template_columns": null,
       "grid_template_rows": null,
       "height": null,
       "justify_content": null,
       "justify_items": null,
       "left": null,
       "margin": null,
       "max_height": null,
       "max_width": null,
       "min_height": null,
       "min_width": null,
       "object_fit": null,
       "object_position": null,
       "order": null,
       "overflow": null,
       "overflow_x": null,
       "overflow_y": null,
       "padding": null,
       "right": null,
       "top": null,
       "visibility": null,
       "width": null
      }
     },
     "198e684fa4024a5ead256c5b39ab8168": {
      "model_module": "@jupyter-widgets/controls",
      "model_module_version": "1.5.0",
      "model_name": "DescriptionStyleModel",
      "state": {
       "_model_module": "@jupyter-widgets/controls",
       "_model_module_version": "1.5.0",
       "_model_name": "DescriptionStyleModel",
       "_view_count": null,
       "_view_module": "@jupyter-widgets/base",
       "_view_module_version": "1.2.0",
       "_view_name": "StyleView",
       "description_width": ""
      }
     },
     "1a8b4d8ceb0648dab52ee877fcf9b1db": {
      "model_module": "@jupyter-widgets/controls",
      "model_module_version": "1.5.0",
      "model_name": "DescriptionStyleModel",
      "state": {
       "_model_module": "@jupyter-widgets/controls",
       "_model_module_version": "1.5.0",
       "_model_name": "DescriptionStyleModel",
       "_view_count": null,
       "_view_module": "@jupyter-widgets/base",
       "_view_module_version": "1.2.0",
       "_view_name": "StyleView",
       "description_width": ""
      }
     },
     "1db959f72fce4164858da37b0367a807": {
      "model_module": "@jupyter-widgets/base",
      "model_module_version": "1.2.0",
      "model_name": "LayoutModel",
      "state": {
       "_model_module": "@jupyter-widgets/base",
       "_model_module_version": "1.2.0",
       "_model_name": "LayoutModel",
       "_view_count": null,
       "_view_module": "@jupyter-widgets/base",
       "_view_module_version": "1.2.0",
       "_view_name": "LayoutView",
       "align_content": null,
       "align_items": null,
       "align_self": null,
       "border": null,
       "bottom": null,
       "display": null,
       "flex": null,
       "flex_flow": null,
       "grid_area": null,
       "grid_auto_columns": null,
       "grid_auto_flow": null,
       "grid_auto_rows": null,
       "grid_column": null,
       "grid_gap": null,
       "grid_row": null,
       "grid_template_areas": null,
       "grid_template_columns": null,
       "grid_template_rows": null,
       "height": null,
       "justify_content": null,
       "justify_items": null,
       "left": null,
       "margin": null,
       "max_height": null,
       "max_width": null,
       "min_height": null,
       "min_width": null,
       "object_fit": null,
       "object_position": null,
       "order": null,
       "overflow": null,
       "overflow_x": null,
       "overflow_y": null,
       "padding": null,
       "right": null,
       "top": null,
       "visibility": null,
       "width": null
      }
     },
     "1f0f839ed5c54dd19c3abb6f4601c814": {
      "model_module": "@jupyter-widgets/controls",
      "model_module_version": "1.5.0",
      "model_name": "DescriptionStyleModel",
      "state": {
       "_model_module": "@jupyter-widgets/controls",
       "_model_module_version": "1.5.0",
       "_model_name": "DescriptionStyleModel",
       "_view_count": null,
       "_view_module": "@jupyter-widgets/base",
       "_view_module_version": "1.2.0",
       "_view_name": "StyleView",
       "description_width": ""
      }
     },
     "1f9076d669e543a99c2d4ea0e1ec622c": {
      "model_module": "@jupyter-widgets/controls",
      "model_module_version": "1.5.0",
      "model_name": "DescriptionStyleModel",
      "state": {
       "_model_module": "@jupyter-widgets/controls",
       "_model_module_version": "1.5.0",
       "_model_name": "DescriptionStyleModel",
       "_view_count": null,
       "_view_module": "@jupyter-widgets/base",
       "_view_module_version": "1.2.0",
       "_view_name": "StyleView",
       "description_width": ""
      }
     },
     "1f9857c81bd645e5ae06d3c65451d68f": {
      "model_module": "@jupyter-widgets/controls",
      "model_module_version": "1.5.0",
      "model_name": "DescriptionStyleModel",
      "state": {
       "_model_module": "@jupyter-widgets/controls",
       "_model_module_version": "1.5.0",
       "_model_name": "DescriptionStyleModel",
       "_view_count": null,
       "_view_module": "@jupyter-widgets/base",
       "_view_module_version": "1.2.0",
       "_view_name": "StyleView",
       "description_width": ""
      }
     },
     "2371e043c6de469ab7306ee3e5a2cdec": {
      "model_module": "@jupyter-widgets/base",
      "model_module_version": "1.2.0",
      "model_name": "LayoutModel",
      "state": {
       "_model_module": "@jupyter-widgets/base",
       "_model_module_version": "1.2.0",
       "_model_name": "LayoutModel",
       "_view_count": null,
       "_view_module": "@jupyter-widgets/base",
       "_view_module_version": "1.2.0",
       "_view_name": "LayoutView",
       "align_content": null,
       "align_items": null,
       "align_self": null,
       "border": null,
       "bottom": null,
       "display": null,
       "flex": null,
       "flex_flow": null,
       "grid_area": null,
       "grid_auto_columns": null,
       "grid_auto_flow": null,
       "grid_auto_rows": null,
       "grid_column": null,
       "grid_gap": null,
       "grid_row": null,
       "grid_template_areas": null,
       "grid_template_columns": null,
       "grid_template_rows": null,
       "height": null,
       "justify_content": null,
       "justify_items": null,
       "left": null,
       "margin": null,
       "max_height": null,
       "max_width": null,
       "min_height": null,
       "min_width": null,
       "object_fit": null,
       "object_position": null,
       "order": null,
       "overflow": null,
       "overflow_x": null,
       "overflow_y": null,
       "padding": null,
       "right": null,
       "top": null,
       "visibility": null,
       "width": null
      }
     },
     "239495a8add14cad8b51ab2c81b1a874": {
      "model_module": "@jupyter-widgets/base",
      "model_module_version": "1.2.0",
      "model_name": "LayoutModel",
      "state": {
       "_model_module": "@jupyter-widgets/base",
       "_model_module_version": "1.2.0",
       "_model_name": "LayoutModel",
       "_view_count": null,
       "_view_module": "@jupyter-widgets/base",
       "_view_module_version": "1.2.0",
       "_view_name": "LayoutView",
       "align_content": null,
       "align_items": null,
       "align_self": null,
       "border": null,
       "bottom": null,
       "display": null,
       "flex": null,
       "flex_flow": null,
       "grid_area": null,
       "grid_auto_columns": null,
       "grid_auto_flow": null,
       "grid_auto_rows": null,
       "grid_column": null,
       "grid_gap": null,
       "grid_row": null,
       "grid_template_areas": null,
       "grid_template_columns": null,
       "grid_template_rows": null,
       "height": null,
       "justify_content": null,
       "justify_items": null,
       "left": null,
       "margin": null,
       "max_height": null,
       "max_width": null,
       "min_height": null,
       "min_width": null,
       "object_fit": null,
       "object_position": null,
       "order": null,
       "overflow": null,
       "overflow_x": null,
       "overflow_y": null,
       "padding": null,
       "right": null,
       "top": null,
       "visibility": null,
       "width": null
      }
     },
     "24c200dbe7754d16952fd834a601a302": {
      "model_module": "@jupyter-widgets/base",
      "model_module_version": "1.2.0",
      "model_name": "LayoutModel",
      "state": {
       "_model_module": "@jupyter-widgets/base",
       "_model_module_version": "1.2.0",
       "_model_name": "LayoutModel",
       "_view_count": null,
       "_view_module": "@jupyter-widgets/base",
       "_view_module_version": "1.2.0",
       "_view_name": "LayoutView",
       "align_content": null,
       "align_items": null,
       "align_self": null,
       "border": null,
       "bottom": null,
       "display": null,
       "flex": null,
       "flex_flow": null,
       "grid_area": null,
       "grid_auto_columns": null,
       "grid_auto_flow": null,
       "grid_auto_rows": null,
       "grid_column": null,
       "grid_gap": null,
       "grid_row": null,
       "grid_template_areas": null,
       "grid_template_columns": null,
       "grid_template_rows": null,
       "height": null,
       "justify_content": null,
       "justify_items": null,
       "left": null,
       "margin": null,
       "max_height": null,
       "max_width": null,
       "min_height": null,
       "min_width": null,
       "object_fit": null,
       "object_position": null,
       "order": null,
       "overflow": null,
       "overflow_x": null,
       "overflow_y": null,
       "padding": null,
       "right": null,
       "top": null,
       "visibility": null,
       "width": null
      }
     },
     "343f1fc645a343139a322dbc40bae1a4": {
      "model_module": "@jupyter-widgets/base",
      "model_module_version": "1.2.0",
      "model_name": "LayoutModel",
      "state": {
       "_model_module": "@jupyter-widgets/base",
       "_model_module_version": "1.2.0",
       "_model_name": "LayoutModel",
       "_view_count": null,
       "_view_module": "@jupyter-widgets/base",
       "_view_module_version": "1.2.0",
       "_view_name": "LayoutView",
       "align_content": null,
       "align_items": null,
       "align_self": null,
       "border": null,
       "bottom": null,
       "display": null,
       "flex": null,
       "flex_flow": null,
       "grid_area": null,
       "grid_auto_columns": null,
       "grid_auto_flow": null,
       "grid_auto_rows": null,
       "grid_column": null,
       "grid_gap": null,
       "grid_row": null,
       "grid_template_areas": null,
       "grid_template_columns": null,
       "grid_template_rows": null,
       "height": null,
       "justify_content": null,
       "justify_items": null,
       "left": null,
       "margin": null,
       "max_height": null,
       "max_width": null,
       "min_height": null,
       "min_width": null,
       "object_fit": null,
       "object_position": null,
       "order": null,
       "overflow": null,
       "overflow_x": null,
       "overflow_y": null,
       "padding": null,
       "right": null,
       "top": null,
       "visibility": null,
       "width": null
      }
     },
     "38a7fb85128149d7a71799811c953eb8": {
      "model_module": "@jupyter-widgets/controls",
      "model_module_version": "1.5.0",
      "model_name": "DescriptionStyleModel",
      "state": {
       "_model_module": "@jupyter-widgets/controls",
       "_model_module_version": "1.5.0",
       "_model_name": "DescriptionStyleModel",
       "_view_count": null,
       "_view_module": "@jupyter-widgets/base",
       "_view_module_version": "1.2.0",
       "_view_name": "StyleView",
       "description_width": ""
      }
     },
     "3c0f868566aa4463ac63dfbf4a31944f": {
      "model_module": "@jupyter-widgets/controls",
      "model_module_version": "1.5.0",
      "model_name": "DescriptionStyleModel",
      "state": {
       "_model_module": "@jupyter-widgets/controls",
       "_model_module_version": "1.5.0",
       "_model_name": "DescriptionStyleModel",
       "_view_count": null,
       "_view_module": "@jupyter-widgets/base",
       "_view_module_version": "1.2.0",
       "_view_name": "StyleView",
       "description_width": ""
      }
     },
     "3c332ed6c15544dfa2d032df9e71fa13": {
      "model_module": "@jupyter-widgets/controls",
      "model_module_version": "1.5.0",
      "model_name": "HBoxModel",
      "state": {
       "_dom_classes": [],
       "_model_module": "@jupyter-widgets/controls",
       "_model_module_version": "1.5.0",
       "_model_name": "HBoxModel",
       "_view_count": null,
       "_view_module": "@jupyter-widgets/controls",
       "_view_module_version": "1.5.0",
       "_view_name": "HBoxView",
       "box_style": "",
       "children": [
        "IPY_MODEL_5334fdb6301945eaa942da0512c994b4",
        "IPY_MODEL_cb448505a5594a4bb3720d56a6d99099",
        "IPY_MODEL_9b3c9a5fe5b540c8add60a144fff69e6"
       ],
       "layout": "IPY_MODEL_7722643b8e14400fb96b952afbe14b46"
      }
     },
     "3c4047e4cad94c15a2477829ff680070": {
      "model_module": "@jupyter-widgets/controls",
      "model_module_version": "1.5.0",
      "model_name": "HTMLModel",
      "state": {
       "_dom_classes": [],
       "_model_module": "@jupyter-widgets/controls",
       "_model_module_version": "1.5.0",
       "_model_name": "HTMLModel",
       "_view_count": null,
       "_view_module": "@jupyter-widgets/controls",
       "_view_module_version": "1.5.0",
       "_view_name": "HTMLView",
       "description": "",
       "description_tooltip": null,
       "layout": "IPY_MODEL_ad3b1aa400634c9e86d1a3709c07ae24",
       "placeholder": "​",
       "style": "IPY_MODEL_8d7aa7dd1b4c409fbb55527a67af4a5a",
       "value": " 1266345/1266345 [00:02&lt;00:00, 586637.88 examples/s]"
      }
     },
     "3efcadda18c144e7b48229ce8f1fee02": {
      "model_module": "@jupyter-widgets/controls",
      "model_module_version": "1.5.0",
      "model_name": "FloatProgressModel",
      "state": {
       "_dom_classes": [],
       "_model_module": "@jupyter-widgets/controls",
       "_model_module_version": "1.5.0",
       "_model_name": "FloatProgressModel",
       "_view_count": null,
       "_view_module": "@jupyter-widgets/controls",
       "_view_module_version": "1.5.0",
       "_view_name": "ProgressView",
       "bar_style": "success",
       "description": "",
       "description_tooltip": null,
       "layout": "IPY_MODEL_14b867b9defa4922a2331d2a65ebf1f8",
       "max": 1266345.0,
       "min": 0.0,
       "orientation": "horizontal",
       "style": "IPY_MODEL_b17f09f94ebc4e0d9afbc2192d2ce619",
       "value": 1266345.0
      }
     },
     "4275359c9a6d4ab7b7a6938d9bf70d45": {
      "model_module": "@jupyter-widgets/base",
      "model_module_version": "1.2.0",
      "model_name": "LayoutModel",
      "state": {
       "_model_module": "@jupyter-widgets/base",
       "_model_module_version": "1.2.0",
       "_model_name": "LayoutModel",
       "_view_count": null,
       "_view_module": "@jupyter-widgets/base",
       "_view_module_version": "1.2.0",
       "_view_name": "LayoutView",
       "align_content": null,
       "align_items": null,
       "align_self": null,
       "border": null,
       "bottom": null,
       "display": null,
       "flex": null,
       "flex_flow": null,
       "grid_area": null,
       "grid_auto_columns": null,
       "grid_auto_flow": null,
       "grid_auto_rows": null,
       "grid_column": null,
       "grid_gap": null,
       "grid_row": null,
       "grid_template_areas": null,
       "grid_template_columns": null,
       "grid_template_rows": null,
       "height": null,
       "justify_content": null,
       "justify_items": null,
       "left": null,
       "margin": null,
       "max_height": null,
       "max_width": null,
       "min_height": null,
       "min_width": null,
       "object_fit": null,
       "object_position": null,
       "order": null,
       "overflow": null,
       "overflow_x": null,
       "overflow_y": null,
       "padding": null,
       "right": null,
       "top": null,
       "visibility": null,
       "width": null
      }
     },
     "4472a00c39664afc9606d15979bbebf3": {
      "model_module": "@jupyter-widgets/base",
      "model_module_version": "1.2.0",
      "model_name": "LayoutModel",
      "state": {
       "_model_module": "@jupyter-widgets/base",
       "_model_module_version": "1.2.0",
       "_model_name": "LayoutModel",
       "_view_count": null,
       "_view_module": "@jupyter-widgets/base",
       "_view_module_version": "1.2.0",
       "_view_name": "LayoutView",
       "align_content": null,
       "align_items": null,
       "align_self": null,
       "border": null,
       "bottom": null,
       "display": null,
       "flex": null,
       "flex_flow": null,
       "grid_area": null,
       "grid_auto_columns": null,
       "grid_auto_flow": null,
       "grid_auto_rows": null,
       "grid_column": null,
       "grid_gap": null,
       "grid_row": null,
       "grid_template_areas": null,
       "grid_template_columns": null,
       "grid_template_rows": null,
       "height": null,
       "justify_content": null,
       "justify_items": null,
       "left": null,
       "margin": null,
       "max_height": null,
       "max_width": null,
       "min_height": null,
       "min_width": null,
       "object_fit": null,
       "object_position": null,
       "order": null,
       "overflow": null,
       "overflow_x": null,
       "overflow_y": null,
       "padding": null,
       "right": null,
       "top": null,
       "visibility": null,
       "width": null
      }
     },
     "485366a747204b7791d87298d4dcd063": {
      "model_module": "@jupyter-widgets/controls",
      "model_module_version": "1.5.0",
      "model_name": "FloatProgressModel",
      "state": {
       "_dom_classes": [],
       "_model_module": "@jupyter-widgets/controls",
       "_model_module_version": "1.5.0",
       "_model_name": "FloatProgressModel",
       "_view_count": null,
       "_view_module": "@jupyter-widgets/controls",
       "_view_module_version": "1.5.0",
       "_view_name": "ProgressView",
       "bar_style": "success",
       "description": "",
       "description_tooltip": null,
       "layout": "IPY_MODEL_f68814b858ae4e1a9651e4437a3f9b8c",
       "max": 4203.0,
       "min": 0.0,
       "orientation": "horizontal",
       "style": "IPY_MODEL_c5a31c0eb05549798c9a01293d06b2c6",
       "value": 4203.0
      }
     },
     "4a34be150fd348b4828492dcd2a9a534": {
      "model_module": "@jupyter-widgets/base",
      "model_module_version": "1.2.0",
      "model_name": "LayoutModel",
      "state": {
       "_model_module": "@jupyter-widgets/base",
       "_model_module_version": "1.2.0",
       "_model_name": "LayoutModel",
       "_view_count": null,
       "_view_module": "@jupyter-widgets/base",
       "_view_module_version": "1.2.0",
       "_view_name": "LayoutView",
       "align_content": null,
       "align_items": null,
       "align_self": null,
       "border": null,
       "bottom": null,
       "display": null,
       "flex": null,
       "flex_flow": null,
       "grid_area": null,
       "grid_auto_columns": null,
       "grid_auto_flow": null,
       "grid_auto_rows": null,
       "grid_column": null,
       "grid_gap": null,
       "grid_row": null,
       "grid_template_areas": null,
       "grid_template_columns": null,
       "grid_template_rows": null,
       "height": null,
       "justify_content": null,
       "justify_items": null,
       "left": null,
       "margin": null,
       "max_height": null,
       "max_width": null,
       "min_height": null,
       "min_width": null,
       "object_fit": null,
       "object_position": null,
       "order": null,
       "overflow": null,
       "overflow_x": null,
       "overflow_y": null,
       "padding": null,
       "right": null,
       "top": null,
       "visibility": null,
       "width": null
      }
     },
     "4e61900d379a45e9810df1190a12ef02": {
      "model_module": "@jupyter-widgets/base",
      "model_module_version": "1.2.0",
      "model_name": "LayoutModel",
      "state": {
       "_model_module": "@jupyter-widgets/base",
       "_model_module_version": "1.2.0",
       "_model_name": "LayoutModel",
       "_view_count": null,
       "_view_module": "@jupyter-widgets/base",
       "_view_module_version": "1.2.0",
       "_view_name": "LayoutView",
       "align_content": null,
       "align_items": null,
       "align_self": null,
       "border": null,
       "bottom": null,
       "display": null,
       "flex": null,
       "flex_flow": null,
       "grid_area": null,
       "grid_auto_columns": null,
       "grid_auto_flow": null,
       "grid_auto_rows": null,
       "grid_column": null,
       "grid_gap": null,
       "grid_row": null,
       "grid_template_areas": null,
       "grid_template_columns": null,
       "grid_template_rows": null,
       "height": null,
       "justify_content": null,
       "justify_items": null,
       "left": null,
       "margin": null,
       "max_height": null,
       "max_width": null,
       "min_height": null,
       "min_width": null,
       "object_fit": null,
       "object_position": null,
       "order": null,
       "overflow": null,
       "overflow_x": null,
       "overflow_y": null,
       "padding": null,
       "right": null,
       "top": null,
       "visibility": null,
       "width": null
      }
     },
     "51012b021b314633b0e2f84b75bc3c90": {
      "model_module": "@jupyter-widgets/controls",
      "model_module_version": "1.5.0",
      "model_name": "HBoxModel",
      "state": {
       "_dom_classes": [],
       "_model_module": "@jupyter-widgets/controls",
       "_model_module_version": "1.5.0",
       "_model_name": "HBoxModel",
       "_view_count": null,
       "_view_module": "@jupyter-widgets/controls",
       "_view_module_version": "1.5.0",
       "_view_name": "HBoxView",
       "box_style": "",
       "children": [
        "IPY_MODEL_feece368aa7044a7bff6db657f52119a",
        "IPY_MODEL_485366a747204b7791d87298d4dcd063",
        "IPY_MODEL_876f5fb501fb484c8d8bfe4a3dd28d8b"
       ],
       "layout": "IPY_MODEL_10f44d5094ab4cc6934622fc906ef889"
      }
     },
     "511816e956db411a901185e52de967bb": {
      "model_module": "@jupyter-widgets/controls",
      "model_module_version": "1.5.0",
      "model_name": "HBoxModel",
      "state": {
       "_dom_classes": [],
       "_model_module": "@jupyter-widgets/controls",
       "_model_module_version": "1.5.0",
       "_model_name": "HBoxModel",
       "_view_count": null,
       "_view_module": "@jupyter-widgets/controls",
       "_view_module_version": "1.5.0",
       "_view_name": "HBoxView",
       "box_style": "",
       "children": [
        "IPY_MODEL_9896c0162da0412eb3fabcf7a3400b9b",
        "IPY_MODEL_04372bc9c63047afb323d8b13b70c924",
        "IPY_MODEL_bcb09e6b75c14885b308e5e5236502cd"
       ],
       "layout": "IPY_MODEL_679642d1d40848608bea28675f5ba44a"
      }
     },
     "5334fdb6301945eaa942da0512c994b4": {
      "model_module": "@jupyter-widgets/controls",
      "model_module_version": "1.5.0",
      "model_name": "HTMLModel",
      "state": {
       "_dom_classes": [],
       "_model_module": "@jupyter-widgets/controls",
       "_model_module_version": "1.5.0",
       "_model_name": "HTMLModel",
       "_view_count": null,
       "_view_module": "@jupyter-widgets/controls",
       "_view_module_version": "1.5.0",
       "_view_name": "HTMLView",
       "description": "",
       "description_tooltip": null,
       "layout": "IPY_MODEL_1db959f72fce4164858da37b0367a807",
       "placeholder": "​",
       "style": "IPY_MODEL_1298edcebb524dec9b7560b1be1b2010",
       "value": "model.safetensors: 100%"
      }
     },
     "536e3f4e2a6e43e2a629cc16e42b90ac": {
      "model_module": "@jupyter-widgets/base",
      "model_module_version": "1.2.0",
      "model_name": "LayoutModel",
      "state": {
       "_model_module": "@jupyter-widgets/base",
       "_model_module_version": "1.2.0",
       "_model_name": "LayoutModel",
       "_view_count": null,
       "_view_module": "@jupyter-widgets/base",
       "_view_module_version": "1.2.0",
       "_view_name": "LayoutView",
       "align_content": null,
       "align_items": null,
       "align_self": null,
       "border": null,
       "bottom": null,
       "display": null,
       "flex": null,
       "flex_flow": null,
       "grid_area": null,
       "grid_auto_columns": null,
       "grid_auto_flow": null,
       "grid_auto_rows": null,
       "grid_column": null,
       "grid_gap": null,
       "grid_row": null,
       "grid_template_areas": null,
       "grid_template_columns": null,
       "grid_template_rows": null,
       "height": null,
       "justify_content": null,
       "justify_items": null,
       "left": null,
       "margin": null,
       "max_height": null,
       "max_width": null,
       "min_height": null,
       "min_width": null,
       "object_fit": null,
       "object_position": null,
       "order": null,
       "overflow": null,
       "overflow_x": null,
       "overflow_y": null,
       "padding": null,
       "right": null,
       "top": null,
       "visibility": null,
       "width": null
      }
     },
     "5aee1393db0f4da98644f21fa6dc840b": {
      "model_module": "@jupyter-widgets/controls",
      "model_module_version": "1.5.0",
      "model_name": "HBoxModel",
      "state": {
       "_dom_classes": [],
       "_model_module": "@jupyter-widgets/controls",
       "_model_module_version": "1.5.0",
       "_model_name": "HBoxModel",
       "_view_count": null,
       "_view_module": "@jupyter-widgets/controls",
       "_view_module_version": "1.5.0",
       "_view_name": "HBoxView",
       "box_style": "",
       "children": [
        "IPY_MODEL_ace7624323234ea5b34d3c0f35efc4e7",
        "IPY_MODEL_a66e3a5f2368484eb295fb00f01a9232",
        "IPY_MODEL_a9bb8de6df6b496b934de314c6daaabc"
       ],
       "layout": "IPY_MODEL_24c200dbe7754d16952fd834a601a302"
      }
     },
     "5e1f1cd4d6e44671975e36fada893d16": {
      "model_module": "@jupyter-widgets/controls",
      "model_module_version": "1.5.0",
      "model_name": "FloatProgressModel",
      "state": {
       "_dom_classes": [],
       "_model_module": "@jupyter-widgets/controls",
       "_model_module_version": "1.5.0",
       "_model_name": "FloatProgressModel",
       "_view_count": null,
       "_view_module": "@jupyter-widgets/controls",
       "_view_module_version": "1.5.0",
       "_view_name": "ProgressView",
       "bar_style": "success",
       "description": "",
       "description_tooltip": null,
       "layout": "IPY_MODEL_0db7a8910d1e477083ee183490a7f1b9",
       "max": 160.0,
       "min": 0.0,
       "orientation": "horizontal",
       "style": "IPY_MODEL_f4e6a56180e1482483372293f263d647",
       "value": 160.0
      }
     },
     "679642d1d40848608bea28675f5ba44a": {
      "model_module": "@jupyter-widgets/base",
      "model_module_version": "1.2.0",
      "model_name": "LayoutModel",
      "state": {
       "_model_module": "@jupyter-widgets/base",
       "_model_module_version": "1.2.0",
       "_model_name": "LayoutModel",
       "_view_count": null,
       "_view_module": "@jupyter-widgets/base",
       "_view_module_version": "1.2.0",
       "_view_name": "LayoutView",
       "align_content": null,
       "align_items": null,
       "align_self": null,
       "border": null,
       "bottom": null,
       "display": null,
       "flex": null,
       "flex_flow": null,
       "grid_area": null,
       "grid_auto_columns": null,
       "grid_auto_flow": null,
       "grid_auto_rows": null,
       "grid_column": null,
       "grid_gap": null,
       "grid_row": null,
       "grid_template_areas": null,
       "grid_template_columns": null,
       "grid_template_rows": null,
       "height": null,
       "justify_content": null,
       "justify_items": null,
       "left": null,
       "margin": null,
       "max_height": null,
       "max_width": null,
       "min_height": null,
       "min_width": null,
       "object_fit": null,
       "object_position": null,
       "order": null,
       "overflow": null,
       "overflow_x": null,
       "overflow_y": null,
       "padding": null,
       "right": null,
       "top": null,
       "visibility": null,
       "width": null
      }
     },
     "67e746a7074b42379df19d61ad3c89e1": {
      "model_module": "@jupyter-widgets/controls",
      "model_module_version": "1.5.0",
      "model_name": "DescriptionStyleModel",
      "state": {
       "_model_module": "@jupyter-widgets/controls",
       "_model_module_version": "1.5.0",
       "_model_name": "DescriptionStyleModel",
       "_view_count": null,
       "_view_module": "@jupyter-widgets/base",
       "_view_module_version": "1.2.0",
       "_view_name": "StyleView",
       "description_width": ""
      }
     },
     "688a97e5aa85475d90b26e5d8456006f": {
      "model_module": "@jupyter-widgets/base",
      "model_module_version": "1.2.0",
      "model_name": "LayoutModel",
      "state": {
       "_model_module": "@jupyter-widgets/base",
       "_model_module_version": "1.2.0",
       "_model_name": "LayoutModel",
       "_view_count": null,
       "_view_module": "@jupyter-widgets/base",
       "_view_module_version": "1.2.0",
       "_view_name": "LayoutView",
       "align_content": null,
       "align_items": null,
       "align_self": null,
       "border": null,
       "bottom": null,
       "display": null,
       "flex": null,
       "flex_flow": null,
       "grid_area": null,
       "grid_auto_columns": null,
       "grid_auto_flow": null,
       "grid_auto_rows": null,
       "grid_column": null,
       "grid_gap": null,
       "grid_row": null,
       "grid_template_areas": null,
       "grid_template_columns": null,
       "grid_template_rows": null,
       "height": null,
       "justify_content": null,
       "justify_items": null,
       "left": null,
       "margin": null,
       "max_height": null,
       "max_width": null,
       "min_height": null,
       "min_width": null,
       "object_fit": null,
       "object_position": null,
       "order": null,
       "overflow": null,
       "overflow_x": null,
       "overflow_y": null,
       "padding": null,
       "right": null,
       "top": null,
       "visibility": null,
       "width": null
      }
     },
     "6e1a66dd7cee4c0782151d032f9b2848": {
      "model_module": "@jupyter-widgets/base",
      "model_module_version": "1.2.0",
      "model_name": "LayoutModel",
      "state": {
       "_model_module": "@jupyter-widgets/base",
       "_model_module_version": "1.2.0",
       "_model_name": "LayoutModel",
       "_view_count": null,
       "_view_module": "@jupyter-widgets/base",
       "_view_module_version": "1.2.0",
       "_view_name": "LayoutView",
       "align_content": null,
       "align_items": null,
       "align_self": null,
       "border": null,
       "bottom": null,
       "display": null,
       "flex": null,
       "flex_flow": null,
       "grid_area": null,
       "grid_auto_columns": null,
       "grid_auto_flow": null,
       "grid_auto_rows": null,
       "grid_column": null,
       "grid_gap": null,
       "grid_row": null,
       "grid_template_areas": null,
       "grid_template_columns": null,
       "grid_template_rows": null,
       "height": null,
       "justify_content": null,
       "justify_items": null,
       "left": null,
       "margin": null,
       "max_height": null,
       "max_width": null,
       "min_height": null,
       "min_width": null,
       "object_fit": null,
       "object_position": null,
       "order": null,
       "overflow": null,
       "overflow_x": null,
       "overflow_y": null,
       "padding": null,
       "right": null,
       "top": null,
       "visibility": null,
       "width": null
      }
     },
     "75de599c2eb94a29a3851e1ac4154301": {
      "model_module": "@jupyter-widgets/base",
      "model_module_version": "1.2.0",
      "model_name": "LayoutModel",
      "state": {
       "_model_module": "@jupyter-widgets/base",
       "_model_module_version": "1.2.0",
       "_model_name": "LayoutModel",
       "_view_count": null,
       "_view_module": "@jupyter-widgets/base",
       "_view_module_version": "1.2.0",
       "_view_name": "LayoutView",
       "align_content": null,
       "align_items": null,
       "align_self": null,
       "border": null,
       "bottom": null,
       "display": null,
       "flex": null,
       "flex_flow": null,
       "grid_area": null,
       "grid_auto_columns": null,
       "grid_auto_flow": null,
       "grid_auto_rows": null,
       "grid_column": null,
       "grid_gap": null,
       "grid_row": null,
       "grid_template_areas": null,
       "grid_template_columns": null,
       "grid_template_rows": null,
       "height": null,
       "justify_content": null,
       "justify_items": null,
       "left": null,
       "margin": null,
       "max_height": null,
       "max_width": null,
       "min_height": null,
       "min_width": null,
       "object_fit": null,
       "object_position": null,
       "order": null,
       "overflow": null,
       "overflow_x": null,
       "overflow_y": null,
       "padding": null,
       "right": null,
       "top": null,
       "visibility": null,
       "width": null
      }
     },
     "7722643b8e14400fb96b952afbe14b46": {
      "model_module": "@jupyter-widgets/base",
      "model_module_version": "1.2.0",
      "model_name": "LayoutModel",
      "state": {
       "_model_module": "@jupyter-widgets/base",
       "_model_module_version": "1.2.0",
       "_model_name": "LayoutModel",
       "_view_count": null,
       "_view_module": "@jupyter-widgets/base",
       "_view_module_version": "1.2.0",
       "_view_name": "LayoutView",
       "align_content": null,
       "align_items": null,
       "align_self": null,
       "border": null,
       "bottom": null,
       "display": null,
       "flex": null,
       "flex_flow": null,
       "grid_area": null,
       "grid_auto_columns": null,
       "grid_auto_flow": null,
       "grid_auto_rows": null,
       "grid_column": null,
       "grid_gap": null,
       "grid_row": null,
       "grid_template_areas": null,
       "grid_template_columns": null,
       "grid_template_rows": null,
       "height": null,
       "justify_content": null,
       "justify_items": null,
       "left": null,
       "margin": null,
       "max_height": null,
       "max_width": null,
       "min_height": null,
       "min_width": null,
       "object_fit": null,
       "object_position": null,
       "order": null,
       "overflow": null,
       "overflow_x": null,
       "overflow_y": null,
       "padding": null,
       "right": null,
       "top": null,
       "visibility": null,
       "width": null
      }
     },
     "7bf2763629cb4d40a27f8b3c702c554d": {
      "model_module": "@jupyter-widgets/base",
      "model_module_version": "1.2.0",
      "model_name": "LayoutModel",
      "state": {
       "_model_module": "@jupyter-widgets/base",
       "_model_module_version": "1.2.0",
       "_model_name": "LayoutModel",
       "_view_count": null,
       "_view_module": "@jupyter-widgets/base",
       "_view_module_version": "1.2.0",
       "_view_name": "LayoutView",
       "align_content": null,
       "align_items": null,
       "align_self": null,
       "border": null,
       "bottom": null,
       "display": null,
       "flex": null,
       "flex_flow": null,
       "grid_area": null,
       "grid_auto_columns": null,
       "grid_auto_flow": null,
       "grid_auto_rows": null,
       "grid_column": null,
       "grid_gap": null,
       "grid_row": null,
       "grid_template_areas": null,
       "grid_template_columns": null,
       "grid_template_rows": null,
       "height": null,
       "justify_content": null,
       "justify_items": null,
       "left": null,
       "margin": null,
       "max_height": null,
       "max_width": null,
       "min_height": null,
       "min_width": null,
       "object_fit": null,
       "object_position": null,
       "order": null,
       "overflow": null,
       "overflow_x": null,
       "overflow_y": null,
       "padding": null,
       "right": null,
       "top": null,
       "visibility": null,
       "width": null
      }
     },
     "7c7fb562783b41f193fed16df9144866": {
      "model_module": "@jupyter-widgets/base",
      "model_module_version": "1.2.0",
      "model_name": "LayoutModel",
      "state": {
       "_model_module": "@jupyter-widgets/base",
       "_model_module_version": "1.2.0",
       "_model_name": "LayoutModel",
       "_view_count": null,
       "_view_module": "@jupyter-widgets/base",
       "_view_module_version": "1.2.0",
       "_view_name": "LayoutView",
       "align_content": null,
       "align_items": null,
       "align_self": null,
       "border": null,
       "bottom": null,
       "display": null,
       "flex": null,
       "flex_flow": null,
       "grid_area": null,
       "grid_auto_columns": null,
       "grid_auto_flow": null,
       "grid_auto_rows": null,
       "grid_column": null,
       "grid_gap": null,
       "grid_row": null,
       "grid_template_areas": null,
       "grid_template_columns": null,
       "grid_template_rows": null,
       "height": null,
       "justify_content": null,
       "justify_items": null,
       "left": null,
       "margin": null,
       "max_height": null,
       "max_width": null,
       "min_height": null,
       "min_width": null,
       "object_fit": null,
       "object_position": null,
       "order": null,
       "overflow": null,
       "overflow_x": null,
       "overflow_y": null,
       "padding": null,
       "right": null,
       "top": null,
       "visibility": null,
       "width": null
      }
     },
     "7cea9daac1b742edb26fb5c0b6e29364": {
      "model_module": "@jupyter-widgets/controls",
      "model_module_version": "1.5.0",
      "model_name": "ProgressStyleModel",
      "state": {
       "_model_module": "@jupyter-widgets/controls",
       "_model_module_version": "1.5.0",
       "_model_name": "ProgressStyleModel",
       "_view_count": null,
       "_view_module": "@jupyter-widgets/base",
       "_view_module_version": "1.2.0",
       "_view_name": "StyleView",
       "bar_color": null,
       "description_width": ""
      }
     },
     "823647f3e48f4906ba6cca9cadcbedf0": {
      "model_module": "@jupyter-widgets/controls",
      "model_module_version": "1.5.0",
      "model_name": "DescriptionStyleModel",
      "state": {
       "_model_module": "@jupyter-widgets/controls",
       "_model_module_version": "1.5.0",
       "_model_name": "DescriptionStyleModel",
       "_view_count": null,
       "_view_module": "@jupyter-widgets/base",
       "_view_module_version": "1.2.0",
       "_view_name": "StyleView",
       "description_width": ""
      }
     },
     "866b48393a474a79b4818ffc15024109": {
      "model_module": "@jupyter-widgets/controls",
      "model_module_version": "1.5.0",
      "model_name": "HBoxModel",
      "state": {
       "_dom_classes": [],
       "_model_module": "@jupyter-widgets/controls",
       "_model_module_version": "1.5.0",
       "_model_name": "HBoxModel",
       "_view_count": null,
       "_view_module": "@jupyter-widgets/controls",
       "_view_module_version": "1.5.0",
       "_view_name": "HBoxView",
       "box_style": "",
       "children": [
        "IPY_MODEL_86ae48c6260a4e0f8ba2ff663b012b80",
        "IPY_MODEL_3efcadda18c144e7b48229ce8f1fee02",
        "IPY_MODEL_3c4047e4cad94c15a2477829ff680070"
       ],
       "layout": "IPY_MODEL_4e61900d379a45e9810df1190a12ef02"
      }
     },
     "86ae48c6260a4e0f8ba2ff663b012b80": {
      "model_module": "@jupyter-widgets/controls",
      "model_module_version": "1.5.0",
      "model_name": "HTMLModel",
      "state": {
       "_dom_classes": [],
       "_model_module": "@jupyter-widgets/controls",
       "_model_module_version": "1.5.0",
       "_model_name": "HTMLModel",
       "_view_count": null,
       "_view_module": "@jupyter-widgets/controls",
       "_view_module_version": "1.5.0",
       "_view_name": "HTMLView",
       "description": "",
       "description_tooltip": null,
       "layout": "IPY_MODEL_ed70e830133e497eb4092688bc3e842b",
       "placeholder": "​",
       "style": "IPY_MODEL_823647f3e48f4906ba6cca9cadcbedf0",
       "value": "Map: 100%"
      }
     },
     "876f5fb501fb484c8d8bfe4a3dd28d8b": {
      "model_module": "@jupyter-widgets/controls",
      "model_module_version": "1.5.0",
      "model_name": "HTMLModel",
      "state": {
       "_dom_classes": [],
       "_model_module": "@jupyter-widgets/controls",
       "_model_module_version": "1.5.0",
       "_model_name": "HTMLModel",
       "_view_count": null,
       "_view_module": "@jupyter-widgets/controls",
       "_view_module_version": "1.5.0",
       "_view_name": "HTMLView",
       "description": "",
       "description_tooltip": null,
       "layout": "IPY_MODEL_4472a00c39664afc9606d15979bbebf3",
       "placeholder": "​",
       "style": "IPY_MODEL_67e746a7074b42379df19d61ad3c89e1",
       "value": " 4.20k/4.20k [00:00&lt;00:00, 428kB/s]"
      }
     },
     "89f6687c381740aeb85c3985fff2d837": {
      "model_module": "@jupyter-widgets/controls",
      "model_module_version": "1.5.0",
      "model_name": "ProgressStyleModel",
      "state": {
       "_model_module": "@jupyter-widgets/controls",
       "_model_module_version": "1.5.0",
       "_model_name": "ProgressStyleModel",
       "_view_count": null,
       "_view_module": "@jupyter-widgets/base",
       "_view_module_version": "1.2.0",
       "_view_name": "StyleView",
       "bar_color": null,
       "description_width": ""
      }
     },
     "8d7aa7dd1b4c409fbb55527a67af4a5a": {
      "model_module": "@jupyter-widgets/controls",
      "model_module_version": "1.5.0",
      "model_name": "DescriptionStyleModel",
      "state": {
       "_model_module": "@jupyter-widgets/controls",
       "_model_module_version": "1.5.0",
       "_model_name": "DescriptionStyleModel",
       "_view_count": null,
       "_view_module": "@jupyter-widgets/base",
       "_view_module_version": "1.2.0",
       "_view_name": "StyleView",
       "description_width": ""
      }
     },
     "90b6e0460c3d4e52858a52fcbbe11ca4": {
      "model_module": "@jupyter-widgets/base",
      "model_module_version": "1.2.0",
      "model_name": "LayoutModel",
      "state": {
       "_model_module": "@jupyter-widgets/base",
       "_model_module_version": "1.2.0",
       "_model_name": "LayoutModel",
       "_view_count": null,
       "_view_module": "@jupyter-widgets/base",
       "_view_module_version": "1.2.0",
       "_view_name": "LayoutView",
       "align_content": null,
       "align_items": null,
       "align_self": null,
       "border": null,
       "bottom": null,
       "display": null,
       "flex": null,
       "flex_flow": null,
       "grid_area": null,
       "grid_auto_columns": null,
       "grid_auto_flow": null,
       "grid_auto_rows": null,
       "grid_column": null,
       "grid_gap": null,
       "grid_row": null,
       "grid_template_areas": null,
       "grid_template_columns": null,
       "grid_template_rows": null,
       "height": null,
       "justify_content": null,
       "justify_items": null,
       "left": null,
       "margin": null,
       "max_height": null,
       "max_width": null,
       "min_height": null,
       "min_width": null,
       "object_fit": null,
       "object_position": null,
       "order": null,
       "overflow": null,
       "overflow_x": null,
       "overflow_y": null,
       "padding": null,
       "right": null,
       "top": null,
       "visibility": null,
       "width": null
      }
     },
     "9896c0162da0412eb3fabcf7a3400b9b": {
      "model_module": "@jupyter-widgets/controls",
      "model_module_version": "1.5.0",
      "model_name": "HTMLModel",
      "state": {
       "_dom_classes": [],
       "_model_module": "@jupyter-widgets/controls",
       "_model_module_version": "1.5.0",
       "_model_name": "HTMLModel",
       "_view_count": null,
       "_view_module": "@jupyter-widgets/controls",
       "_view_module_version": "1.5.0",
       "_view_name": "HTMLView",
       "description": "",
       "description_tooltip": null,
       "layout": "IPY_MODEL_4275359c9a6d4ab7b7a6938d9bf70d45",
       "placeholder": "​",
       "style": "IPY_MODEL_198e684fa4024a5ead256c5b39ab8168",
       "value": "Map: 100%"
      }
     },
     "9b3c9a5fe5b540c8add60a144fff69e6": {
      "model_module": "@jupyter-widgets/controls",
      "model_module_version": "1.5.0",
      "model_name": "HTMLModel",
      "state": {
       "_dom_classes": [],
       "_model_module": "@jupyter-widgets/controls",
       "_model_module_version": "1.5.0",
       "_model_name": "HTMLModel",
       "_view_count": null,
       "_view_module": "@jupyter-widgets/controls",
       "_view_module_version": "1.5.0",
       "_view_name": "HTMLView",
       "description": "",
       "description_tooltip": null,
       "layout": "IPY_MODEL_aebe51718e2a413fa374ffb000207c20",
       "placeholder": "​",
       "style": "IPY_MODEL_1a8b4d8ceb0648dab52ee877fcf9b1db",
       "value": " 346M/346M [00:01&lt;00:00, 242MB/s]"
      }
     },
     "9d00f20128984f34a7e4a520f186430a": {
      "model_module": "@jupyter-widgets/base",
      "model_module_version": "1.2.0",
      "model_name": "LayoutModel",
      "state": {
       "_model_module": "@jupyter-widgets/base",
       "_model_module_version": "1.2.0",
       "_model_name": "LayoutModel",
       "_view_count": null,
       "_view_module": "@jupyter-widgets/base",
       "_view_module_version": "1.2.0",
       "_view_name": "LayoutView",
       "align_content": null,
       "align_items": null,
       "align_self": null,
       "border": null,
       "bottom": null,
       "display": null,
       "flex": null,
       "flex_flow": null,
       "grid_area": null,
       "grid_auto_columns": null,
       "grid_auto_flow": null,
       "grid_auto_rows": null,
       "grid_column": null,
       "grid_gap": null,
       "grid_row": null,
       "grid_template_areas": null,
       "grid_template_columns": null,
       "grid_template_rows": null,
       "height": null,
       "justify_content": null,
       "justify_items": null,
       "left": null,
       "margin": null,
       "max_height": null,
       "max_width": null,
       "min_height": null,
       "min_width": null,
       "object_fit": null,
       "object_position": null,
       "order": null,
       "overflow": null,
       "overflow_x": null,
       "overflow_y": null,
       "padding": null,
       "right": null,
       "top": null,
       "visibility": null,
       "width": null
      }
     },
     "9e721332a45c42168365f898703ff58d": {
      "model_module": "@jupyter-widgets/controls",
      "model_module_version": "1.5.0",
      "model_name": "FloatProgressModel",
      "state": {
       "_dom_classes": [],
       "_model_module": "@jupyter-widgets/controls",
       "_model_module_version": "1.5.0",
       "_model_name": "FloatProgressModel",
       "_view_count": null,
       "_view_module": "@jupyter-widgets/controls",
       "_view_module_version": "1.5.0",
       "_view_name": "ProgressView",
       "bar_style": "success",
       "description": "",
       "description_tooltip": null,
       "layout": "IPY_MODEL_239495a8add14cad8b51ab2c81b1a874",
       "max": 1266345.0,
       "min": 0.0,
       "orientation": "horizontal",
       "style": "IPY_MODEL_e4b608b5516c422d8f4b99692d6e3d46",
       "value": 1266345.0
      }
     },
     "a0b2fd2099014d518d31c31639235527": {
      "model_module": "@jupyter-widgets/controls",
      "model_module_version": "1.5.0",
      "model_name": "HTMLModel",
      "state": {
       "_dom_classes": [],
       "_model_module": "@jupyter-widgets/controls",
       "_model_module_version": "1.5.0",
       "_model_name": "HTMLModel",
       "_view_count": null,
       "_view_module": "@jupyter-widgets/controls",
       "_view_module_version": "1.5.0",
       "_view_name": "HTMLView",
       "description": "",
       "description_tooltip": null,
       "layout": "IPY_MODEL_2371e043c6de469ab7306ee3e5a2cdec",
       "placeholder": "​",
       "style": "IPY_MODEL_ba02d3d80480434b96313b88fa24d51b",
       "value": "Casting the dataset: 100%"
      }
     },
     "a66e3a5f2368484eb295fb00f01a9232": {
      "model_module": "@jupyter-widgets/controls",
      "model_module_version": "1.5.0",
      "model_name": "FloatProgressModel",
      "state": {
       "_dom_classes": [],
       "_model_module": "@jupyter-widgets/controls",
       "_model_module_version": "1.5.0",
       "_model_name": "FloatProgressModel",
       "_view_count": null,
       "_view_module": "@jupyter-widgets/controls",
       "_view_module_version": "1.5.0",
       "_view_name": "ProgressView",
       "bar_style": "success",
       "description": "",
       "description_tooltip": null,
       "layout": "IPY_MODEL_7bf2763629cb4d40a27f8b3c702c554d",
       "max": 502.0,
       "min": 0.0,
       "orientation": "horizontal",
       "style": "IPY_MODEL_b5c8d4ac42b54b798cde7e9e5117d54b",
       "value": 502.0
      }
     },
     "a9bb8de6df6b496b934de314c6daaabc": {
      "model_module": "@jupyter-widgets/controls",
      "model_module_version": "1.5.0",
      "model_name": "HTMLModel",
      "state": {
       "_dom_classes": [],
       "_model_module": "@jupyter-widgets/controls",
       "_model_module_version": "1.5.0",
       "_model_name": "HTMLModel",
       "_view_count": null,
       "_view_module": "@jupyter-widgets/controls",
       "_view_module_version": "1.5.0",
       "_view_name": "HTMLView",
       "description": "",
       "description_tooltip": null,
       "layout": "IPY_MODEL_4a34be150fd348b4828492dcd2a9a534",
       "placeholder": "​",
       "style": "IPY_MODEL_ddc6ece873664acc803df9d0b5141f20",
       "value": " 502/502 [00:00&lt;00:00, 48.7kB/s]"
      }
     },
     "ab5ba17e2e874023a34b8b8ca312fe3c": {
      "model_module": "@jupyter-widgets/controls",
      "model_module_version": "1.5.0",
      "model_name": "HBoxModel",
      "state": {
       "_dom_classes": [],
       "_model_module": "@jupyter-widgets/controls",
       "_model_module_version": "1.5.0",
       "_model_name": "HBoxModel",
       "_view_count": null,
       "_view_module": "@jupyter-widgets/controls",
       "_view_module_version": "1.5.0",
       "_view_name": "HBoxView",
       "box_style": "",
       "children": [
        "IPY_MODEL_b82dd398cd43439b8f56244e7a15a64e",
        "IPY_MODEL_9e721332a45c42168365f898703ff58d",
        "IPY_MODEL_af08a30b5edc44f181693a4ae17d62cc"
       ],
       "layout": "IPY_MODEL_90b6e0460c3d4e52858a52fcbbe11ca4"
      }
     },
     "ace7624323234ea5b34d3c0f35efc4e7": {
      "model_module": "@jupyter-widgets/controls",
      "model_module_version": "1.5.0",
      "model_name": "HTMLModel",
      "state": {
       "_dom_classes": [],
       "_model_module": "@jupyter-widgets/controls",
       "_model_module_version": "1.5.0",
       "_model_name": "HTMLModel",
       "_view_count": null,
       "_view_module": "@jupyter-widgets/controls",
       "_view_module_version": "1.5.0",
       "_view_name": "HTMLView",
       "description": "",
       "description_tooltip": null,
       "layout": "IPY_MODEL_e82d0ec5a62d429893e4ba0d130ae852",
       "placeholder": "​",
       "style": "IPY_MODEL_1f9076d669e543a99c2d4ea0e1ec622c",
       "value": "config.json: 100%"
      }
     },
     "ad3b1aa400634c9e86d1a3709c07ae24": {
      "model_module": "@jupyter-widgets/base",
      "model_module_version": "1.2.0",
      "model_name": "LayoutModel",
      "state": {
       "_model_module": "@jupyter-widgets/base",
       "_model_module_version": "1.2.0",
       "_model_name": "LayoutModel",
       "_view_count": null,
       "_view_module": "@jupyter-widgets/base",
       "_view_module_version": "1.2.0",
       "_view_name": "LayoutView",
       "align_content": null,
       "align_items": null,
       "align_self": null,
       "border": null,
       "bottom": null,
       "display": null,
       "flex": null,
       "flex_flow": null,
       "grid_area": null,
       "grid_auto_columns": null,
       "grid_auto_flow": null,
       "grid_auto_rows": null,
       "grid_column": null,
       "grid_gap": null,
       "grid_row": null,
       "grid_template_areas": null,
       "grid_template_columns": null,
       "grid_template_rows": null,
       "height": null,
       "justify_content": null,
       "justify_items": null,
       "left": null,
       "margin": null,
       "max_height": null,
       "max_width": null,
       "min_height": null,
       "min_width": null,
       "object_fit": null,
       "object_position": null,
       "order": null,
       "overflow": null,
       "overflow_x": null,
       "overflow_y": null,
       "padding": null,
       "right": null,
       "top": null,
       "visibility": null,
       "width": null
      }
     },
     "aebe51718e2a413fa374ffb000207c20": {
      "model_module": "@jupyter-widgets/base",
      "model_module_version": "1.2.0",
      "model_name": "LayoutModel",
      "state": {
       "_model_module": "@jupyter-widgets/base",
       "_model_module_version": "1.2.0",
       "_model_name": "LayoutModel",
       "_view_count": null,
       "_view_module": "@jupyter-widgets/base",
       "_view_module_version": "1.2.0",
       "_view_name": "LayoutView",
       "align_content": null,
       "align_items": null,
       "align_self": null,
       "border": null,
       "bottom": null,
       "display": null,
       "flex": null,
       "flex_flow": null,
       "grid_area": null,
       "grid_auto_columns": null,
       "grid_auto_flow": null,
       "grid_auto_rows": null,
       "grid_column": null,
       "grid_gap": null,
       "grid_row": null,
       "grid_template_areas": null,
       "grid_template_columns": null,
       "grid_template_rows": null,
       "height": null,
       "justify_content": null,
       "justify_items": null,
       "left": null,
       "margin": null,
       "max_height": null,
       "max_width": null,
       "min_height": null,
       "min_width": null,
       "object_fit": null,
       "object_position": null,
       "order": null,
       "overflow": null,
       "overflow_x": null,
       "overflow_y": null,
       "padding": null,
       "right": null,
       "top": null,
       "visibility": null,
       "width": null
      }
     },
     "af08a30b5edc44f181693a4ae17d62cc": {
      "model_module": "@jupyter-widgets/controls",
      "model_module_version": "1.5.0",
      "model_name": "HTMLModel",
      "state": {
       "_dom_classes": [],
       "_model_module": "@jupyter-widgets/controls",
       "_model_module_version": "1.5.0",
       "_model_name": "HTMLModel",
       "_view_count": null,
       "_view_module": "@jupyter-widgets/controls",
       "_view_module_version": "1.5.0",
       "_view_name": "HTMLView",
       "description": "",
       "description_tooltip": null,
       "layout": "IPY_MODEL_da32ee1e50484cdab3481761863860c3",
       "placeholder": "​",
       "style": "IPY_MODEL_c7d36b63201e493eb5efaef562470167",
       "value": " 1266345/1266345 [00:00&lt;00:00, 2723431.87 examples/s]"
      }
     },
     "b17f09f94ebc4e0d9afbc2192d2ce619": {
      "model_module": "@jupyter-widgets/controls",
      "model_module_version": "1.5.0",
      "model_name": "ProgressStyleModel",
      "state": {
       "_model_module": "@jupyter-widgets/controls",
       "_model_module_version": "1.5.0",
       "_model_name": "ProgressStyleModel",
       "_view_count": null,
       "_view_module": "@jupyter-widgets/base",
       "_view_module_version": "1.2.0",
       "_view_name": "StyleView",
       "bar_color": null,
       "description_width": ""
      }
     },
     "b5c8d4ac42b54b798cde7e9e5117d54b": {
      "model_module": "@jupyter-widgets/controls",
      "model_module_version": "1.5.0",
      "model_name": "ProgressStyleModel",
      "state": {
       "_model_module": "@jupyter-widgets/controls",
       "_model_module_version": "1.5.0",
       "_model_name": "ProgressStyleModel",
       "_view_count": null,
       "_view_module": "@jupyter-widgets/base",
       "_view_module_version": "1.2.0",
       "_view_name": "StyleView",
       "bar_color": null,
       "description_width": ""
      }
     },
     "b7e90203945d40089350f43e5ff2cd5b": {
      "model_module": "@jupyter-widgets/controls",
      "model_module_version": "1.5.0",
      "model_name": "HTMLModel",
      "state": {
       "_dom_classes": [],
       "_model_module": "@jupyter-widgets/controls",
       "_model_module_version": "1.5.0",
       "_model_name": "HTMLModel",
       "_view_count": null,
       "_view_module": "@jupyter-widgets/controls",
       "_view_module_version": "1.5.0",
       "_view_name": "HTMLView",
       "description": "",
       "description_tooltip": null,
       "layout": "IPY_MODEL_688a97e5aa85475d90b26e5d8456006f",
       "placeholder": "​",
       "style": "IPY_MODEL_ed0805deb71041c6bebb00cb5a8e1a02",
       "value": " 160/160 [00:00&lt;00:00, 16.7kB/s]"
      }
     },
     "b82dd398cd43439b8f56244e7a15a64e": {
      "model_module": "@jupyter-widgets/controls",
      "model_module_version": "1.5.0",
      "model_name": "HTMLModel",
      "state": {
       "_dom_classes": [],
       "_model_module": "@jupyter-widgets/controls",
       "_model_module_version": "1.5.0",
       "_model_name": "HTMLModel",
       "_view_count": null,
       "_view_module": "@jupyter-widgets/controls",
       "_view_module_version": "1.5.0",
       "_view_name": "HTMLView",
       "description": "",
       "description_tooltip": null,
       "layout": "IPY_MODEL_e935702eeabe4afb95c937c5029eda4c",
       "placeholder": "​",
       "style": "IPY_MODEL_3c0f868566aa4463ac63dfbf4a31944f",
       "value": "Casting the dataset: 100%"
      }
     },
     "ba02d3d80480434b96313b88fa24d51b": {
      "model_module": "@jupyter-widgets/controls",
      "model_module_version": "1.5.0",
      "model_name": "DescriptionStyleModel",
      "state": {
       "_model_module": "@jupyter-widgets/controls",
       "_model_module_version": "1.5.0",
       "_model_name": "DescriptionStyleModel",
       "_view_count": null,
       "_view_module": "@jupyter-widgets/base",
       "_view_module_version": "1.2.0",
       "_view_name": "StyleView",
       "description_width": ""
      }
     },
     "bcb09e6b75c14885b308e5e5236502cd": {
      "model_module": "@jupyter-widgets/controls",
      "model_module_version": "1.5.0",
      "model_name": "HTMLModel",
      "state": {
       "_dom_classes": [],
       "_model_module": "@jupyter-widgets/controls",
       "_model_module_version": "1.5.0",
       "_model_name": "HTMLModel",
       "_view_count": null,
       "_view_module": "@jupyter-widgets/controls",
       "_view_module_version": "1.5.0",
       "_view_name": "HTMLView",
       "description": "",
       "description_tooltip": null,
       "layout": "IPY_MODEL_9d00f20128984f34a7e4a520f186430a",
       "placeholder": "​",
       "style": "IPY_MODEL_1f9857c81bd645e5ae06d3c65451d68f",
       "value": " 111308/111308 [00:00&lt;00:00, 491398.32 examples/s]"
      }
     },
     "bd1979ce51bc4c66a42c04bb736b4ff9": {
      "model_module": "@jupyter-widgets/base",
      "model_module_version": "1.2.0",
      "model_name": "LayoutModel",
      "state": {
       "_model_module": "@jupyter-widgets/base",
       "_model_module_version": "1.2.0",
       "_model_name": "LayoutModel",
       "_view_count": null,
       "_view_module": "@jupyter-widgets/base",
       "_view_module_version": "1.2.0",
       "_view_name": "LayoutView",
       "align_content": null,
       "align_items": null,
       "align_self": null,
       "border": null,
       "bottom": null,
       "display": null,
       "flex": null,
       "flex_flow": null,
       "grid_area": null,
       "grid_auto_columns": null,
       "grid_auto_flow": null,
       "grid_auto_rows": null,
       "grid_column": null,
       "grid_gap": null,
       "grid_row": null,
       "grid_template_areas": null,
       "grid_template_columns": null,
       "grid_template_rows": null,
       "height": null,
       "justify_content": null,
       "justify_items": null,
       "left": null,
       "margin": null,
       "max_height": null,
       "max_width": null,
       "min_height": null,
       "min_width": null,
       "object_fit": null,
       "object_position": null,
       "order": null,
       "overflow": null,
       "overflow_x": null,
       "overflow_y": null,
       "padding": null,
       "right": null,
       "top": null,
       "visibility": null,
       "width": null
      }
     },
     "c5a31c0eb05549798c9a01293d06b2c6": {
      "model_module": "@jupyter-widgets/controls",
      "model_module_version": "1.5.0",
      "model_name": "ProgressStyleModel",
      "state": {
       "_model_module": "@jupyter-widgets/controls",
       "_model_module_version": "1.5.0",
       "_model_name": "ProgressStyleModel",
       "_view_count": null,
       "_view_module": "@jupyter-widgets/base",
       "_view_module_version": "1.2.0",
       "_view_name": "StyleView",
       "bar_color": null,
       "description_width": ""
      }
     },
     "c7875fbc31b54b0f94f2e387ba8f5876": {
      "model_module": "@jupyter-widgets/controls",
      "model_module_version": "1.5.0",
      "model_name": "HTMLModel",
      "state": {
       "_dom_classes": [],
       "_model_module": "@jupyter-widgets/controls",
       "_model_module_version": "1.5.0",
       "_model_name": "HTMLModel",
       "_view_count": null,
       "_view_module": "@jupyter-widgets/controls",
       "_view_module_version": "1.5.0",
       "_view_name": "HTMLView",
       "description": "",
       "description_tooltip": null,
       "layout": "IPY_MODEL_bd1979ce51bc4c66a42c04bb736b4ff9",
       "placeholder": "​",
       "style": "IPY_MODEL_d854df9b8e364b75a4f74342db93c0e6",
       "value": " 111308/111308 [00:00&lt;00:00, 2560505.84 examples/s]"
      }
     },
     "c7d36b63201e493eb5efaef562470167": {
      "model_module": "@jupyter-widgets/controls",
      "model_module_version": "1.5.0",
      "model_name": "DescriptionStyleModel",
      "state": {
       "_model_module": "@jupyter-widgets/controls",
       "_model_module_version": "1.5.0",
       "_model_name": "DescriptionStyleModel",
       "_view_count": null,
       "_view_module": "@jupyter-widgets/base",
       "_view_module_version": "1.2.0",
       "_view_name": "StyleView",
       "description_width": ""
      }
     },
     "cb448505a5594a4bb3720d56a6d99099": {
      "model_module": "@jupyter-widgets/controls",
      "model_module_version": "1.5.0",
      "model_name": "FloatProgressModel",
      "state": {
       "_dom_classes": [],
       "_model_module": "@jupyter-widgets/controls",
       "_model_module_version": "1.5.0",
       "_model_name": "FloatProgressModel",
       "_view_count": null,
       "_view_module": "@jupyter-widgets/controls",
       "_view_module_version": "1.5.0",
       "_view_name": "ProgressView",
       "bar_style": "success",
       "description": "",
       "description_tooltip": null,
       "layout": "IPY_MODEL_7c7fb562783b41f193fed16df9144866",
       "max": 345579424.0,
       "min": 0.0,
       "orientation": "horizontal",
       "style": "IPY_MODEL_7cea9daac1b742edb26fb5c0b6e29364",
       "value": 345579424.0
      }
     },
     "d854df9b8e364b75a4f74342db93c0e6": {
      "model_module": "@jupyter-widgets/controls",
      "model_module_version": "1.5.0",
      "model_name": "DescriptionStyleModel",
      "state": {
       "_model_module": "@jupyter-widgets/controls",
       "_model_module_version": "1.5.0",
       "_model_name": "DescriptionStyleModel",
       "_view_count": null,
       "_view_module": "@jupyter-widgets/base",
       "_view_module_version": "1.2.0",
       "_view_name": "StyleView",
       "description_width": ""
      }
     },
     "da32ee1e50484cdab3481761863860c3": {
      "model_module": "@jupyter-widgets/base",
      "model_module_version": "1.2.0",
      "model_name": "LayoutModel",
      "state": {
       "_model_module": "@jupyter-widgets/base",
       "_model_module_version": "1.2.0",
       "_model_name": "LayoutModel",
       "_view_count": null,
       "_view_module": "@jupyter-widgets/base",
       "_view_module_version": "1.2.0",
       "_view_name": "LayoutView",
       "align_content": null,
       "align_items": null,
       "align_self": null,
       "border": null,
       "bottom": null,
       "display": null,
       "flex": null,
       "flex_flow": null,
       "grid_area": null,
       "grid_auto_columns": null,
       "grid_auto_flow": null,
       "grid_auto_rows": null,
       "grid_column": null,
       "grid_gap": null,
       "grid_row": null,
       "grid_template_areas": null,
       "grid_template_columns": null,
       "grid_template_rows": null,
       "height": null,
       "justify_content": null,
       "justify_items": null,
       "left": null,
       "margin": null,
       "max_height": null,
       "max_width": null,
       "min_height": null,
       "min_width": null,
       "object_fit": null,
       "object_position": null,
       "order": null,
       "overflow": null,
       "overflow_x": null,
       "overflow_y": null,
       "padding": null,
       "right": null,
       "top": null,
       "visibility": null,
       "width": null
      }
     },
     "db7fff55054047b68c3f423129551c80": {
      "model_module": "@jupyter-widgets/controls",
      "model_module_version": "1.5.0",
      "model_name": "HBoxModel",
      "state": {
       "_dom_classes": [],
       "_model_module": "@jupyter-widgets/controls",
       "_model_module_version": "1.5.0",
       "_model_name": "HBoxModel",
       "_view_count": null,
       "_view_module": "@jupyter-widgets/controls",
       "_view_module_version": "1.5.0",
       "_view_name": "HBoxView",
       "box_style": "",
       "children": [
        "IPY_MODEL_e0e7294dab4246cab81ac3c4f36340ac",
        "IPY_MODEL_5e1f1cd4d6e44671975e36fada893d16",
        "IPY_MODEL_b7e90203945d40089350f43e5ff2cd5b"
       ],
       "layout": "IPY_MODEL_6e1a66dd7cee4c0782151d032f9b2848"
      }
     },
     "ddc6ece873664acc803df9d0b5141f20": {
      "model_module": "@jupyter-widgets/controls",
      "model_module_version": "1.5.0",
      "model_name": "DescriptionStyleModel",
      "state": {
       "_model_module": "@jupyter-widgets/controls",
       "_model_module_version": "1.5.0",
       "_model_name": "DescriptionStyleModel",
       "_view_count": null,
       "_view_module": "@jupyter-widgets/base",
       "_view_module_version": "1.2.0",
       "_view_name": "StyleView",
       "description_width": ""
      }
     },
     "e0e7294dab4246cab81ac3c4f36340ac": {
      "model_module": "@jupyter-widgets/controls",
      "model_module_version": "1.5.0",
      "model_name": "HTMLModel",
      "state": {
       "_dom_classes": [],
       "_model_module": "@jupyter-widgets/controls",
       "_model_module_version": "1.5.0",
       "_model_name": "HTMLModel",
       "_view_count": null,
       "_view_module": "@jupyter-widgets/controls",
       "_view_module_version": "1.5.0",
       "_view_name": "HTMLView",
       "description": "",
       "description_tooltip": null,
       "layout": "IPY_MODEL_536e3f4e2a6e43e2a629cc16e42b90ac",
       "placeholder": "​",
       "style": "IPY_MODEL_1f0f839ed5c54dd19c3abb6f4601c814",
       "value": "preprocessor_config.json: 100%"
      }
     },
     "e4b608b5516c422d8f4b99692d6e3d46": {
      "model_module": "@jupyter-widgets/controls",
      "model_module_version": "1.5.0",
      "model_name": "ProgressStyleModel",
      "state": {
       "_model_module": "@jupyter-widgets/controls",
       "_model_module_version": "1.5.0",
       "_model_name": "ProgressStyleModel",
       "_view_count": null,
       "_view_module": "@jupyter-widgets/base",
       "_view_module_version": "1.2.0",
       "_view_name": "StyleView",
       "bar_color": null,
       "description_width": ""
      }
     },
     "e7520e6fab7043efb780d1f2f7d3c958": {
      "model_module": "@jupyter-widgets/controls",
      "model_module_version": "1.5.0",
      "model_name": "ProgressStyleModel",
      "state": {
       "_model_module": "@jupyter-widgets/controls",
       "_model_module_version": "1.5.0",
       "_model_name": "ProgressStyleModel",
       "_view_count": null,
       "_view_module": "@jupyter-widgets/base",
       "_view_module_version": "1.2.0",
       "_view_name": "StyleView",
       "bar_color": null,
       "description_width": ""
      }
     },
     "e82d0ec5a62d429893e4ba0d130ae852": {
      "model_module": "@jupyter-widgets/base",
      "model_module_version": "1.2.0",
      "model_name": "LayoutModel",
      "state": {
       "_model_module": "@jupyter-widgets/base",
       "_model_module_version": "1.2.0",
       "_model_name": "LayoutModel",
       "_view_count": null,
       "_view_module": "@jupyter-widgets/base",
       "_view_module_version": "1.2.0",
       "_view_name": "LayoutView",
       "align_content": null,
       "align_items": null,
       "align_self": null,
       "border": null,
       "bottom": null,
       "display": null,
       "flex": null,
       "flex_flow": null,
       "grid_area": null,
       "grid_auto_columns": null,
       "grid_auto_flow": null,
       "grid_auto_rows": null,
       "grid_column": null,
       "grid_gap": null,
       "grid_row": null,
       "grid_template_areas": null,
       "grid_template_columns": null,
       "grid_template_rows": null,
       "height": null,
       "justify_content": null,
       "justify_items": null,
       "left": null,
       "margin": null,
       "max_height": null,
       "max_width": null,
       "min_height": null,
       "min_width": null,
       "object_fit": null,
       "object_position": null,
       "order": null,
       "overflow": null,
       "overflow_x": null,
       "overflow_y": null,
       "padding": null,
       "right": null,
       "top": null,
       "visibility": null,
       "width": null
      }
     },
     "e935702eeabe4afb95c937c5029eda4c": {
      "model_module": "@jupyter-widgets/base",
      "model_module_version": "1.2.0",
      "model_name": "LayoutModel",
      "state": {
       "_model_module": "@jupyter-widgets/base",
       "_model_module_version": "1.2.0",
       "_model_name": "LayoutModel",
       "_view_count": null,
       "_view_module": "@jupyter-widgets/base",
       "_view_module_version": "1.2.0",
       "_view_name": "LayoutView",
       "align_content": null,
       "align_items": null,
       "align_self": null,
       "border": null,
       "bottom": null,
       "display": null,
       "flex": null,
       "flex_flow": null,
       "grid_area": null,
       "grid_auto_columns": null,
       "grid_auto_flow": null,
       "grid_auto_rows": null,
       "grid_column": null,
       "grid_gap": null,
       "grid_row": null,
       "grid_template_areas": null,
       "grid_template_columns": null,
       "grid_template_rows": null,
       "height": null,
       "justify_content": null,
       "justify_items": null,
       "left": null,
       "margin": null,
       "max_height": null,
       "max_width": null,
       "min_height": null,
       "min_width": null,
       "object_fit": null,
       "object_position": null,
       "order": null,
       "overflow": null,
       "overflow_x": null,
       "overflow_y": null,
       "padding": null,
       "right": null,
       "top": null,
       "visibility": null,
       "width": null
      }
     },
     "ed0805deb71041c6bebb00cb5a8e1a02": {
      "model_module": "@jupyter-widgets/controls",
      "model_module_version": "1.5.0",
      "model_name": "DescriptionStyleModel",
      "state": {
       "_model_module": "@jupyter-widgets/controls",
       "_model_module_version": "1.5.0",
       "_model_name": "DescriptionStyleModel",
       "_view_count": null,
       "_view_module": "@jupyter-widgets/base",
       "_view_module_version": "1.2.0",
       "_view_name": "StyleView",
       "description_width": ""
      }
     },
     "ed70e830133e497eb4092688bc3e842b": {
      "model_module": "@jupyter-widgets/base",
      "model_module_version": "1.2.0",
      "model_name": "LayoutModel",
      "state": {
       "_model_module": "@jupyter-widgets/base",
       "_model_module_version": "1.2.0",
       "_model_name": "LayoutModel",
       "_view_count": null,
       "_view_module": "@jupyter-widgets/base",
       "_view_module_version": "1.2.0",
       "_view_name": "LayoutView",
       "align_content": null,
       "align_items": null,
       "align_self": null,
       "border": null,
       "bottom": null,
       "display": null,
       "flex": null,
       "flex_flow": null,
       "grid_area": null,
       "grid_auto_columns": null,
       "grid_auto_flow": null,
       "grid_auto_rows": null,
       "grid_column": null,
       "grid_gap": null,
       "grid_row": null,
       "grid_template_areas": null,
       "grid_template_columns": null,
       "grid_template_rows": null,
       "height": null,
       "justify_content": null,
       "justify_items": null,
       "left": null,
       "margin": null,
       "max_height": null,
       "max_width": null,
       "min_height": null,
       "min_width": null,
       "object_fit": null,
       "object_position": null,
       "order": null,
       "overflow": null,
       "overflow_x": null,
       "overflow_y": null,
       "padding": null,
       "right": null,
       "top": null,
       "visibility": null,
       "width": null
      }
     },
     "ee22e2d1ea774913be76004d7c7b382b": {
      "model_module": "@jupyter-widgets/base",
      "model_module_version": "1.2.0",
      "model_name": "LayoutModel",
      "state": {
       "_model_module": "@jupyter-widgets/base",
       "_model_module_version": "1.2.0",
       "_model_name": "LayoutModel",
       "_view_count": null,
       "_view_module": "@jupyter-widgets/base",
       "_view_module_version": "1.2.0",
       "_view_name": "LayoutView",
       "align_content": null,
       "align_items": null,
       "align_self": null,
       "border": null,
       "bottom": null,
       "display": null,
       "flex": null,
       "flex_flow": null,
       "grid_area": null,
       "grid_auto_columns": null,
       "grid_auto_flow": null,
       "grid_auto_rows": null,
       "grid_column": null,
       "grid_gap": null,
       "grid_row": null,
       "grid_template_areas": null,
       "grid_template_columns": null,
       "grid_template_rows": null,
       "height": null,
       "justify_content": null,
       "justify_items": null,
       "left": null,
       "margin": null,
       "max_height": null,
       "max_width": null,
       "min_height": null,
       "min_width": null,
       "object_fit": null,
       "object_position": null,
       "order": null,
       "overflow": null,
       "overflow_x": null,
       "overflow_y": null,
       "padding": null,
       "right": null,
       "top": null,
       "visibility": null,
       "width": null
      }
     },
     "ef365bd5f94b4c6d8661a3b4a315b949": {
      "model_module": "@jupyter-widgets/controls",
      "model_module_version": "1.5.0",
      "model_name": "HBoxModel",
      "state": {
       "_dom_classes": [],
       "_model_module": "@jupyter-widgets/controls",
       "_model_module_version": "1.5.0",
       "_model_name": "HBoxModel",
       "_view_count": null,
       "_view_module": "@jupyter-widgets/controls",
       "_view_module_version": "1.5.0",
       "_view_name": "HBoxView",
       "box_style": "",
       "children": [
        "IPY_MODEL_a0b2fd2099014d518d31c31639235527",
        "IPY_MODEL_03b0602704b1404ba241eb648c5fb026",
        "IPY_MODEL_c7875fbc31b54b0f94f2e387ba8f5876"
       ],
       "layout": "IPY_MODEL_119e68e907ba4648b7ae7371b2ee8e86"
      }
     },
     "f4e6a56180e1482483372293f263d647": {
      "model_module": "@jupyter-widgets/controls",
      "model_module_version": "1.5.0",
      "model_name": "ProgressStyleModel",
      "state": {
       "_model_module": "@jupyter-widgets/controls",
       "_model_module_version": "1.5.0",
       "_model_name": "ProgressStyleModel",
       "_view_count": null,
       "_view_module": "@jupyter-widgets/base",
       "_view_module_version": "1.2.0",
       "_view_name": "StyleView",
       "bar_color": null,
       "description_width": ""
      }
     },
     "f68814b858ae4e1a9651e4437a3f9b8c": {
      "model_module": "@jupyter-widgets/base",
      "model_module_version": "1.2.0",
      "model_name": "LayoutModel",
      "state": {
       "_model_module": "@jupyter-widgets/base",
       "_model_module_version": "1.2.0",
       "_model_name": "LayoutModel",
       "_view_count": null,
       "_view_module": "@jupyter-widgets/base",
       "_view_module_version": "1.2.0",
       "_view_name": "LayoutView",
       "align_content": null,
       "align_items": null,
       "align_self": null,
       "border": null,
       "bottom": null,
       "display": null,
       "flex": null,
       "flex_flow": null,
       "grid_area": null,
       "grid_auto_columns": null,
       "grid_auto_flow": null,
       "grid_auto_rows": null,
       "grid_column": null,
       "grid_gap": null,
       "grid_row": null,
       "grid_template_areas": null,
       "grid_template_columns": null,
       "grid_template_rows": null,
       "height": null,
       "justify_content": null,
       "justify_items": null,
       "left": null,
       "margin": null,
       "max_height": null,
       "max_width": null,
       "min_height": null,
       "min_width": null,
       "object_fit": null,
       "object_position": null,
       "order": null,
       "overflow": null,
       "overflow_x": null,
       "overflow_y": null,
       "padding": null,
       "right": null,
       "top": null,
       "visibility": null,
       "width": null
      }
     },
     "feece368aa7044a7bff6db657f52119a": {
      "model_module": "@jupyter-widgets/controls",
      "model_module_version": "1.5.0",
      "model_name": "HTMLModel",
      "state": {
       "_dom_classes": [],
       "_model_module": "@jupyter-widgets/controls",
       "_model_module_version": "1.5.0",
       "_model_name": "HTMLModel",
       "_view_count": null,
       "_view_module": "@jupyter-widgets/controls",
       "_view_module_version": "1.5.0",
       "_view_name": "HTMLView",
       "description": "",
       "description_tooltip": null,
       "layout": "IPY_MODEL_343f1fc645a343139a322dbc40bae1a4",
       "placeholder": "​",
       "style": "IPY_MODEL_38a7fb85128149d7a71799811c953eb8",
       "value": "Downloading builder script: 100%"
      }
     }
    },
    "version_major": 2,
    "version_minor": 0
   }
  }
 },
 "nbformat": 4,
 "nbformat_minor": 5
}
