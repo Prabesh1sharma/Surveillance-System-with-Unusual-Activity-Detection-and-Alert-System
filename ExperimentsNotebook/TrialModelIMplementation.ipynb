{
 "cells": [
  {
   "cell_type": "code",
   "execution_count": 1,
   "metadata": {},
   "outputs": [],
   "source": [
    "import os\n",
    "import cv2\n",
    "import numpy as np\n",
    "from tensorflow.keras.preprocessing.image import img_to_array, load_img\n",
    "from tensorflow.keras.applications import VGG16\n",
    "from tensorflow.keras.models import Model, load_model\n",
    "from tensorflow.keras.layers import GlobalAveragePooling2D\n",
    "from tensorflow.keras.preprocessing.sequence import pad_sequences\n",
    "import shutil"
   ]
  },
  {
   "cell_type": "code",
   "execution_count": 11,
   "metadata": {},
   "outputs": [],
   "source": []
  },
  {
   "cell_type": "code",
   "execution_count": 4,
   "metadata": {},
   "outputs": [
    {
     "name": "stderr",
     "output_type": "stream",
     "text": [
      "WARNING:absl:Compiled the loaded model, but the compiled metrics have yet to be built. `model.compile_metrics` will be empty until you train or evaluate the model.\n"
     ]
    },
    {
     "name": "stdout",
     "output_type": "stream",
     "text": [
      "\u001b[1m1/1\u001b[0m \u001b[32m━━━━━━━━━━━━━━━━━━━━\u001b[0m\u001b[37m\u001b[0m \u001b[1m0s\u001b[0m 180ms/step\n",
      "The predicted class for the video is: RoadAccidents\n"
     ]
    }
   ],
   "source": [
    "weights_path = '/Users/prabeshsharma/Documents/Unsual_activity_Detection/Saved_Model/vgg16_weights_tf_dim_ordering_tf_kernels_notop.h5'\n",
    "\n",
    "# Initialize the VGG16 model with the downloaded weights\n",
    "base_model = VGG16(weights=weights_path, include_top=False, input_shape=(224, 224, 3))\n",
    "feature_extractor = Model(inputs=base_model.input, outputs=GlobalAveragePooling2D()(base_model.output))\n",
    "\n",
    "# Define the list of class names\n",
    "class_names = [\n",
    "    \"Abuse\", \"Arrest\", \"Arson\", \"Assault\", \"Burglary\", \"Explosion\", \n",
    "    \"Fighting\", \"Normal Videos\", \"RoadAccidents\", \"Robbery\", \n",
    "    \"Shooting\", \"Shoplifting\", \"Stealing\", \"Vandalism\"\n",
    "]\n",
    "\n",
    "\n",
    "\n",
    "# Extract frames from video\n",
    "def extract_frames(video_path, output_folder, frame_rate=10):\n",
    "    video_cap = cv2.VideoCapture(video_path)\n",
    "    success, image = video_cap.read()\n",
    "    count = 0\n",
    "    frame_count = 0\n",
    "\n",
    "    while success:\n",
    "        if count % frame_rate == 0:\n",
    "            image = cv2.cvtColor(image, cv2.COLOR_BGR2GRAY)\n",
    "            frame_filename = os.path.join(output_folder, f\"frame_{frame_count}.png\")\n",
    "            cv2.imwrite(frame_filename, image)  # Save frame as PNG file\n",
    "            frame_count += 1\n",
    "        success, image = video_cap.read()\n",
    "        count += 1\n",
    "\n",
    "    video_cap.release()\n",
    "\n",
    "# Extract features from frames\n",
    "def extract_features_from_frames(frames_folder, model):\n",
    "    features_list = []\n",
    "    for frame_file in sorted(os.listdir(frames_folder)):\n",
    "        img_path = os.path.join(frames_folder, frame_file)\n",
    "        \n",
    "        # Read image using OpenCV\n",
    "        img = cv2.imread(img_path)\n",
    "        img = cv2.resize(img, (224, 224))  # Resize to target size\n",
    "        img = img.astype(\"float32\") / 255.0  # Normalize pixel values\n",
    "        \n",
    "        # Expand dimensions to match the input shape expected by the model\n",
    "        img_array = np.expand_dims(img, axis=0)\n",
    "        \n",
    "        # Extract features using the model\n",
    "        features = model.predict(img_array, verbose=0)\n",
    "        features_list.append(features.flatten())\n",
    "    \n",
    "    return np.array(features_list)\n",
    "\n",
    "# Classify video\n",
    "def classify_video(features, model):\n",
    "    max_length = 500  # Assuming 100 was the sequence length used during training\n",
    "    padded_features = pad_sequences([features], maxlen=max_length, padding='post', dtype='float32')\n",
    "        \n",
    "    prediction = model.predict(padded_features)\n",
    "    predicted_class_index = np.argmax(prediction, axis=1)[0]\n",
    "    \n",
    "    predicted_class_name = class_names[predicted_class_index]\n",
    "    \n",
    "    return predicted_class_name\n",
    "\n",
    "# Cleanup frames\n",
    "def cleanup_frames(frames_folder):\n",
    "    shutil.rmtree(frames_folder)\n",
    "\n",
    "# Example usage:\n",
    "video_path = '/Users/prabeshsharma/Documents/Unsual_activity_Detection/2024-10-03 13.46.47.mp4'\n",
    "frames_output_folder = 'ExtractedFrame'\n",
    "os.makedirs(frames_output_folder, exist_ok=True)\n",
    "\n",
    "# Step 1: Extract frames\n",
    "extract_frames(video_path, frames_output_folder)\n",
    "\n",
    "# Step 2: Extract features\n",
    "features = extract_features_from_frames(frames_output_folder, feature_extractor)\n",
    "\n",
    "# Step 3: Load the trained model\n",
    "model = load_model('/Users/prabeshsharma/Documents/Unsual_activity_Detection/Saved_Model/my_model.h5')\n",
    "\n",
    "# Step 4: Classify the video\n",
    "predicted_class = classify_video(features, model)\n",
    "print(f\"The predicted class for the video is: {predicted_class}\")\n",
    "\n",
    "# Step 5: Cleanup frames\n",
    "cleanup_frames(frames_output_folder)\n"
   ]
  },
  {
   "cell_type": "code",
   "execution_count": null,
   "metadata": {},
   "outputs": [],
   "source": []
  }
 ],
 "metadata": {
  "kernelspec": {
   "display_name": "Python 3",
   "language": "python",
   "name": "python3"
  },
  "language_info": {
   "codemirror_mode": {
    "name": "ipython",
    "version": 3
   },
   "file_extension": ".py",
   "mimetype": "text/x-python",
   "name": "python",
   "nbconvert_exporter": "python",
   "pygments_lexer": "ipython3",
   "version": "3.12.6"
  }
 },
 "nbformat": 4,
 "nbformat_minor": 2
}
