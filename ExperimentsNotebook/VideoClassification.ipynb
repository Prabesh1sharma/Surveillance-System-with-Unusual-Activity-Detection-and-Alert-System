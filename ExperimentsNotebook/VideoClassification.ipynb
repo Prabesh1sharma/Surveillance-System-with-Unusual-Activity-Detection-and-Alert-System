{
  "cells": [
    {
      "cell_type": "code",
      "execution_count": 2,
      "metadata": {
        "id": "2hb0bPwnGsr2"
      },
      "outputs": [],
      "source": [
        "import os\n",
        "import json"
      ]
    },
    {
      "cell_type": "code",
      "execution_count": 3,
      "metadata": {
        "id": "jmdK55dTG6us"
      },
      "outputs": [],
      "source": [
        "if not os.path.exists('/content/data/'):\n",
        "\n",
        "  api_token = {\"username\": \"prabeshsharma\",\n",
        "                  \"key\": \"e8929420b0f14df13c668815eef404a0\"}\n",
        "\n",
        "  with open('/content/kaggle.json', 'w') as file:\n",
        "      json.dump(api_token, file)\n",
        "\n",
        "  os.environ[\"KAGGLE_CONFIG_DIR\"] = \"/content/\"\n",
        "\n",
        "  os.system('kaggle datasets download -d prabeshsharma/vgg16featureextraction-ucfcrime-data')\n",
        "  os.makedirs('/content/data/', exist_ok=True)\n",
        "  os.system('mv /content/vgg16featureextraction-ucfcrime-data.zip /content/data/vgg16featureextraction-ucfcrime-data.zip')\n",
        "  os.system('unzip -q /content/data/vgg16featureextraction-ucfcrime-data.zip -d /content/data/')\n",
        "  os.remove('/content/data/vgg16featureextraction-ucfcrime-data.zip')"
      ]
    },
    {
      "cell_type": "code",
      "execution_count": null,
      "metadata": {
        "id": "WNbMaF9zIiTR"
      },
      "outputs": [],
      "source": []
    },
    {
      "cell_type": "code",
      "execution_count": 2,
      "metadata": {
        "colab": {
          "base_uri": "https://localhost:8080/"
        },
        "id": "16eApWRGHeQ1",
        "outputId": "030cb31d-5710-4bf3-9231-f3f03093ac36"
      },
      "outputs": [
        {
          "name": "stdout",
          "output_type": "stream",
          "text": [
            "Training Features Shape: (1079, 500, 512)\n",
            "Training Labels Shape: (1079, 2)\n",
            "Test Features Shape: (222, 500, 512)\n",
            "Test Labels Shape: (222, 2)\n"
          ]
        }
      ],
      "source": [
        "import numpy as np\n",
        "import pickle\n",
        "import os\n",
        "from tensorflow.keras.preprocessing.sequence import pad_sequences\n",
        "\n",
        "# Path to the directory containing pickle files for each video\n",
        "train_data_dir = '/content/data/Vgg16FeatureExtractedData/TrainFeature'\n",
        "test_data_dir = '/content/data/Vgg16FeatureExtractedData/TestFeature'\n",
        "\n",
        "# Function to load the features and labels\n",
        "def load_data(data_dir):\n",
        "    features, labels = [], []\n",
        "    for class_dir in os.listdir(data_dir):\n",
        "        class_path = os.path.join(data_dir, class_dir)\n",
        "        for file in os.listdir(class_path):\n",
        "            file_path = os.path.join(class_path, file)\n",
        "            with open(file_path, 'rb') as f:\n",
        "                video_features = pickle.load(f)  # Assuming features are saved as numpy arrays\n",
        "            features.append(video_features)\n",
        "            # Create label: 0 for Normal Videos, 1 for Abnormal Videos\n",
        "            label = 0 if class_dir == 'NormalVideos' else 1\n",
        "            labels.append(label)\n",
        "\n",
        "    # Find the maximum sequence length\n",
        "    # max_length = max(len(feature) for feature in features)\n",
        "    max_length = 500\n",
        "\n",
        "    # Pad all features to have the same length\n",
        "    features_padded = pad_sequences(features, maxlen=max_length, padding='post', dtype='float32')\n",
        "\n",
        "    return np.array(features_padded), np.array(labels)\n",
        "\n",
        "# Load the training and testing data\n",
        "Trainfeatures, Trainlabels = load_data(train_data_dir)\n",
        "Testfeatures, Testlabels = load_data(test_data_dir)\n",
        "\n",
        "# Convert labels to one-hot encoding for binary classification\n",
        "Trainlabels = np.eye(2)[Trainlabels]\n",
        "Testlabels = np.eye(2)[Testlabels]\n",
        "\n",
        "print(\"Training Features Shape:\", Trainfeatures.shape)\n",
        "print(\"Training Labels Shape:\", Trainlabels.shape)\n",
        "print(\"Test Features Shape:\", Testfeatures.shape)\n",
        "print(\"Test Labels Shape:\", Testlabels.shape)\n"
      ]
    },
    {
      "cell_type": "code",
      "execution_count": 10,
      "metadata": {
        "colab": {
          "base_uri": "https://localhost:8080/",
          "height": 364
        },
        "id": "MezgQefGJ_fO",
        "outputId": "31999a1b-0166-4010-ba3c-95bcd79ea66d"
      },
      "outputs": [
        {
          "data": {
            "text/html": [
              "<pre style=\"white-space:pre;overflow-x:auto;line-height:normal;font-family:Menlo,'DejaVu Sans Mono',consolas,'Courier New',monospace\"><span style=\"font-weight: bold\">Model: \"functional_4\"</span>\n",
              "</pre>\n"
            ],
            "text/plain": [
              "\u001b[1mModel: \"functional_4\"\u001b[0m\n"
            ]
          },
          "metadata": {},
          "output_type": "display_data"
        },
        {
          "data": {
            "text/html": [
              "<pre style=\"white-space:pre;overflow-x:auto;line-height:normal;font-family:Menlo,'DejaVu Sans Mono',consolas,'Courier New',monospace\">┏━━━━━━━━━━━━━━━━━━━━━━━━━━━━━━━━━━━━━━┳━━━━━━━━━━━━━━━━━━━━━━━━━━━━━┳━━━━━━━━━━━━━━━━━┓\n",
              "┃<span style=\"font-weight: bold\"> Layer (type)                         </span>┃<span style=\"font-weight: bold\"> Output Shape                </span>┃<span style=\"font-weight: bold\">         Param # </span>┃\n",
              "┡━━━━━━━━━━━━━━━━━━━━━━━━━━━━━━━━━━━━━━╇━━━━━━━━━━━━━━━━━━━━━━━━━━━━━╇━━━━━━━━━━━━━━━━━┩\n",
              "│ input_layer_8 (<span style=\"color: #0087ff; text-decoration-color: #0087ff\">InputLayer</span>)           │ (<span style=\"color: #00d7ff; text-decoration-color: #00d7ff\">None</span>, <span style=\"color: #00af00; text-decoration-color: #00af00\">500</span>, <span style=\"color: #00af00; text-decoration-color: #00af00\">512</span>)            │               <span style=\"color: #00af00; text-decoration-color: #00af00\">0</span> │\n",
              "├──────────────────────────────────────┼─────────────────────────────┼─────────────────┤\n",
              "│ transformer_encoder_5                │ (<span style=\"color: #00d7ff; text-decoration-color: #00d7ff\">None</span>, <span style=\"color: #00af00; text-decoration-color: #00af00\">500</span>, <span style=\"color: #00af00; text-decoration-color: #00af00\">512</span>)            │       <span style=\"color: #00af00; text-decoration-color: #00af00\">4,728,320</span> │\n",
              "│ (<span style=\"color: #0087ff; text-decoration-color: #0087ff\">TransformerEncoder</span>)                 │                             │                 │\n",
              "├──────────────────────────────────────┼─────────────────────────────┼─────────────────┤\n",
              "│ global_average_pooling1d             │ (<span style=\"color: #00d7ff; text-decoration-color: #00d7ff\">None</span>, <span style=\"color: #00af00; text-decoration-color: #00af00\">512</span>)                 │               <span style=\"color: #00af00; text-decoration-color: #00af00\">0</span> │\n",
              "│ (<span style=\"color: #0087ff; text-decoration-color: #0087ff\">GlobalAveragePooling1D</span>)             │                             │                 │\n",
              "├──────────────────────────────────────┼─────────────────────────────┼─────────────────┤\n",
              "│ dense_12 (<span style=\"color: #0087ff; text-decoration-color: #0087ff\">Dense</span>)                     │ (<span style=\"color: #00d7ff; text-decoration-color: #00d7ff\">None</span>, <span style=\"color: #00af00; text-decoration-color: #00af00\">64</span>)                  │          <span style=\"color: #00af00; text-decoration-color: #00af00\">32,832</span> │\n",
              "├──────────────────────────────────────┼─────────────────────────────┼─────────────────┤\n",
              "│ dropout_17 (<span style=\"color: #0087ff; text-decoration-color: #0087ff\">Dropout</span>)                 │ (<span style=\"color: #00d7ff; text-decoration-color: #00d7ff\">None</span>, <span style=\"color: #00af00; text-decoration-color: #00af00\">64</span>)                  │               <span style=\"color: #00af00; text-decoration-color: #00af00\">0</span> │\n",
              "├──────────────────────────────────────┼─────────────────────────────┼─────────────────┤\n",
              "│ dense_13 (<span style=\"color: #0087ff; text-decoration-color: #0087ff\">Dense</span>)                     │ (<span style=\"color: #00d7ff; text-decoration-color: #00d7ff\">None</span>, <span style=\"color: #00af00; text-decoration-color: #00af00\">2</span>)                   │             <span style=\"color: #00af00; text-decoration-color: #00af00\">130</span> │\n",
              "└──────────────────────────────────────┴─────────────────────────────┴─────────────────┘\n",
              "</pre>\n"
            ],
            "text/plain": [
              "┏━━━━━━━━━━━━━━━━━━━━━━━━━━━━━━━━━━━━━━┳━━━━━━━━━━━━━━━━━━━━━━━━━━━━━┳━━━━━━━━━━━━━━━━━┓\n",
              "┃\u001b[1m \u001b[0m\u001b[1mLayer (type)                        \u001b[0m\u001b[1m \u001b[0m┃\u001b[1m \u001b[0m\u001b[1mOutput Shape               \u001b[0m\u001b[1m \u001b[0m┃\u001b[1m \u001b[0m\u001b[1m        Param #\u001b[0m\u001b[1m \u001b[0m┃\n",
              "┡━━━━━━━━━━━━━━━━━━━━━━━━━━━━━━━━━━━━━━╇━━━━━━━━━━━━━━━━━━━━━━━━━━━━━╇━━━━━━━━━━━━━━━━━┩\n",
              "│ input_layer_8 (\u001b[38;5;33mInputLayer\u001b[0m)           │ (\u001b[38;5;45mNone\u001b[0m, \u001b[38;5;34m500\u001b[0m, \u001b[38;5;34m512\u001b[0m)            │               \u001b[38;5;34m0\u001b[0m │\n",
              "├──────────────────────────────────────┼─────────────────────────────┼─────────────────┤\n",
              "│ transformer_encoder_5                │ (\u001b[38;5;45mNone\u001b[0m, \u001b[38;5;34m500\u001b[0m, \u001b[38;5;34m512\u001b[0m)            │       \u001b[38;5;34m4,728,320\u001b[0m │\n",
              "│ (\u001b[38;5;33mTransformerEncoder\u001b[0m)                 │                             │                 │\n",
              "├──────────────────────────────────────┼─────────────────────────────┼─────────────────┤\n",
              "│ global_average_pooling1d             │ (\u001b[38;5;45mNone\u001b[0m, \u001b[38;5;34m512\u001b[0m)                 │               \u001b[38;5;34m0\u001b[0m │\n",
              "│ (\u001b[38;5;33mGlobalAveragePooling1D\u001b[0m)             │                             │                 │\n",
              "├──────────────────────────────────────┼─────────────────────────────┼─────────────────┤\n",
              "│ dense_12 (\u001b[38;5;33mDense\u001b[0m)                     │ (\u001b[38;5;45mNone\u001b[0m, \u001b[38;5;34m64\u001b[0m)                  │          \u001b[38;5;34m32,832\u001b[0m │\n",
              "├──────────────────────────────────────┼─────────────────────────────┼─────────────────┤\n",
              "│ dropout_17 (\u001b[38;5;33mDropout\u001b[0m)                 │ (\u001b[38;5;45mNone\u001b[0m, \u001b[38;5;34m64\u001b[0m)                  │               \u001b[38;5;34m0\u001b[0m │\n",
              "├──────────────────────────────────────┼─────────────────────────────┼─────────────────┤\n",
              "│ dense_13 (\u001b[38;5;33mDense\u001b[0m)                     │ (\u001b[38;5;45mNone\u001b[0m, \u001b[38;5;34m2\u001b[0m)                   │             \u001b[38;5;34m130\u001b[0m │\n",
              "└──────────────────────────────────────┴─────────────────────────────┴─────────────────┘\n"
            ]
          },
          "metadata": {},
          "output_type": "display_data"
        },
        {
          "data": {
            "text/html": [
              "<pre style=\"white-space:pre;overflow-x:auto;line-height:normal;font-family:Menlo,'DejaVu Sans Mono',consolas,'Courier New',monospace\"><span style=\"font-weight: bold\"> Total params: </span><span style=\"color: #00af00; text-decoration-color: #00af00\">4,761,282</span> (18.16 MB)\n",
              "</pre>\n"
            ],
            "text/plain": [
              "\u001b[1m Total params: \u001b[0m\u001b[38;5;34m4,761,282\u001b[0m (18.16 MB)\n"
            ]
          },
          "metadata": {},
          "output_type": "display_data"
        },
        {
          "data": {
            "text/html": [
              "<pre style=\"white-space:pre;overflow-x:auto;line-height:normal;font-family:Menlo,'DejaVu Sans Mono',consolas,'Courier New',monospace\"><span style=\"font-weight: bold\"> Trainable params: </span><span style=\"color: #00af00; text-decoration-color: #00af00\">4,761,282</span> (18.16 MB)\n",
              "</pre>\n"
            ],
            "text/plain": [
              "\u001b[1m Trainable params: \u001b[0m\u001b[38;5;34m4,761,282\u001b[0m (18.16 MB)\n"
            ]
          },
          "metadata": {},
          "output_type": "display_data"
        },
        {
          "data": {
            "text/html": [
              "<pre style=\"white-space:pre;overflow-x:auto;line-height:normal;font-family:Menlo,'DejaVu Sans Mono',consolas,'Courier New',monospace\"><span style=\"font-weight: bold\"> Non-trainable params: </span><span style=\"color: #00af00; text-decoration-color: #00af00\">0</span> (0.00 B)\n",
              "</pre>\n"
            ],
            "text/plain": [
              "\u001b[1m Non-trainable params: \u001b[0m\u001b[38;5;34m0\u001b[0m (0.00 B)\n"
            ]
          },
          "metadata": {},
          "output_type": "display_data"
        }
      ],
      "source": [
        "import tensorflow as tf\n",
        "from tensorflow.keras import layers, models\n",
        "\n",
        "# Define a custom transformer encoder layer\n",
        "class TransformerEncoder(layers.Layer):\n",
        "    def __init__(self, embed_dim, num_heads, ff_dim, rate=0.1):\n",
        "        super(TransformerEncoder, self).__init__()\n",
        "        self.att = layers.MultiHeadAttention(num_heads=num_heads, key_dim=embed_dim, output_shape=embed_dim)\n",
        "        self.ffn = models.Sequential(\n",
        "            [\n",
        "                layers.Dense(ff_dim, activation=\"relu\"),\n",
        "                layers.Dense(embed_dim)  # FFN output matches embed_dim\n",
        "            ]\n",
        "        )\n",
        "        self.layernorm1 = layers.LayerNormalization(epsilon=1e-6)\n",
        "        self.layernorm2 = layers.LayerNormalization(epsilon=1e-6)\n",
        "        self.dropout1 = layers.Dropout(rate)\n",
        "        self.dropout2 = layers.Dropout(rate)\n",
        "\n",
        "    def call(self, inputs, training=None):\n",
        "        # Multi-head self-attention layer\n",
        "        attn_output = self.att(inputs, inputs)\n",
        "        attn_output = self.dropout1(attn_output, training=training)\n",
        "        out1 = self.layernorm1(inputs + attn_output)  # Residual connection + normalization\n",
        "\n",
        "        # Feed-forward network\n",
        "        ffn_output = self.ffn(out1)  # FFN output dimension matches embed_dim\n",
        "        ffn_output = self.dropout2(ffn_output, training=training)\n",
        "\n",
        "        # Residual connection + normalization\n",
        "        return self.layernorm2(out1 + ffn_output)\n",
        "\n",
        "# Define the Transformer-based model\n",
        "def create_transformer_model(input_shape, embed_dim=512, num_heads=4, ff_dim=512):\n",
        "    inputs = layers.Input(shape=input_shape)\n",
        "\n",
        "    # Transformer Encoder block\n",
        "    x = TransformerEncoder(embed_dim, num_heads, ff_dim)(inputs)\n",
        "\n",
        "    # Global pooling to reduce sequence dimension\n",
        "    x = layers.GlobalAveragePooling1D()(x)\n",
        "\n",
        "    # Dense layers for classification\n",
        "    x = layers.Dense(64, activation='relu')(x)\n",
        "    x = layers.Dropout(0.5)(x)  # Dropout to prevent overfitting\n",
        "    outputs = layers.Dense(2, activation='softmax')(x)  # 2 output units for binary classification\n",
        "\n",
        "    model = models.Model(inputs=inputs, outputs=outputs)\n",
        "\n",
        "    # Compile the model\n",
        "    model.compile(optimizer='adam',\n",
        "                  loss='categorical_crossentropy',\n",
        "                  metrics=['accuracy'])\n",
        "\n",
        "    return model\n",
        "\n",
        "# Create the transformer model\n",
        "input_shape = (Trainfeatures.shape[1], Trainfeatures.shape[2])  # e.g., (n_frames, feature_dim)\n",
        "transformer_model = create_transformer_model(input_shape)\n",
        "\n",
        "# Model summary\n",
        "transformer_model.summary()\n"
      ]
    },
    {
      "cell_type": "code",
      "execution_count": 11,
      "metadata": {
        "colab": {
          "base_uri": "https://localhost:8080/"
        },
        "id": "nHnaZfGyKcfn",
        "outputId": "39e63c3e-7dd6-470e-edf0-1d1d98dceff5"
      },
      "outputs": [
        {
          "name": "stdout",
          "output_type": "stream",
          "text": [
            "Epoch 1/10\n",
            "\u001b[1m34/34\u001b[0m \u001b[32m━━━━━━━━━━━━━━━━━━━━\u001b[0m\u001b[37m\u001b[0m \u001b[1m33s\u001b[0m 574ms/step - accuracy: 0.5329 - loss: 1.0851 - val_accuracy: 0.6306 - val_loss: 0.6577\n",
            "Epoch 2/10\n",
            "\u001b[1m34/34\u001b[0m \u001b[32m━━━━━━━━━━━━━━━━━━━━\u001b[0m\u001b[37m\u001b[0m \u001b[1m7s\u001b[0m 191ms/step - accuracy: 0.6119 - loss: 0.6647 - val_accuracy: 0.6306 - val_loss: 0.6572\n",
            "Epoch 3/10\n",
            "\u001b[1m34/34\u001b[0m \u001b[32m━━━━━━━━━━━━━━━━━━━━\u001b[0m\u001b[37m\u001b[0m \u001b[1m10s\u001b[0m 188ms/step - accuracy: 0.5986 - loss: 0.6768 - val_accuracy: 0.6306 - val_loss: 0.6577\n",
            "Epoch 4/10\n",
            "\u001b[1m34/34\u001b[0m \u001b[32m━━━━━━━━━━━━━━━━━━━━\u001b[0m\u001b[37m\u001b[0m \u001b[1m10s\u001b[0m 193ms/step - accuracy: 0.6111 - loss: 0.6738 - val_accuracy: 0.6306 - val_loss: 0.6566\n",
            "Epoch 5/10\n",
            "\u001b[1m34/34\u001b[0m \u001b[32m━━━━━━━━━━━━━━━━━━━━\u001b[0m\u001b[37m\u001b[0m \u001b[1m10s\u001b[0m 188ms/step - accuracy: 0.6269 - loss: 0.6633 - val_accuracy: 0.6306 - val_loss: 0.6558\n",
            "Epoch 6/10\n",
            "\u001b[1m34/34\u001b[0m \u001b[32m━━━━━━━━━━━━━━━━━━━━\u001b[0m\u001b[37m\u001b[0m \u001b[1m6s\u001b[0m 190ms/step - accuracy: 0.6052 - loss: 0.6736 - val_accuracy: 0.6306 - val_loss: 0.6523\n",
            "Epoch 7/10\n",
            "\u001b[1m34/34\u001b[0m \u001b[32m━━━━━━━━━━━━━━━━━━━━\u001b[0m\u001b[37m\u001b[0m \u001b[1m10s\u001b[0m 188ms/step - accuracy: 0.6017 - loss: 0.6731 - val_accuracy: 0.6306 - val_loss: 0.6428\n",
            "Epoch 8/10\n",
            "\u001b[1m34/34\u001b[0m \u001b[32m━━━━━━━━━━━━━━━━━━━━\u001b[0m\u001b[37m\u001b[0m \u001b[1m6s\u001b[0m 190ms/step - accuracy: 0.5986 - loss: 0.6694 - val_accuracy: 0.6306 - val_loss: 0.6563\n",
            "Epoch 9/10\n",
            "\u001b[1m34/34\u001b[0m \u001b[32m━━━━━━━━━━━━━━━━━━━━\u001b[0m\u001b[37m\u001b[0m \u001b[1m6s\u001b[0m 185ms/step - accuracy: 0.6202 - loss: 0.6554 - val_accuracy: 0.6306 - val_loss: 0.6293\n",
            "Epoch 10/10\n",
            "\u001b[1m34/34\u001b[0m \u001b[32m━━━━━━━━━━━━━━━━━━━━\u001b[0m\u001b[37m\u001b[0m \u001b[1m10s\u001b[0m 186ms/step - accuracy: 0.6073 - loss: 0.6544 - val_accuracy: 0.6306 - val_loss: 0.6080\n"
          ]
        }
      ],
      "source": [
        "# Train the model\n",
        "history = transformer_model.fit(Trainfeatures, Trainlabels,\n",
        "                                epochs=10,\n",
        "                                batch_size=32,\n",
        "                                validation_data=(Testfeatures, Testlabels))"
      ]
    },
    {
      "cell_type": "code",
      "execution_count": 12,
      "metadata": {
        "id": "aRmQfnTPNq86"
      },
      "outputs": [],
      "source": [
        "import matplotlib.pyplot as plt\n",
        "def plot_graphs(histoy, string):\n",
        "    plt.plot(histoy.history[string])\n",
        "    plt.plot(histoy.history['val_'+string])\n",
        "    plt.xlabel(\"Epochs\")\n",
        "    plt.ylabel(string)\n",
        "    plt.legend([string,'val_'+string])\n",
        "    plt.show()"
      ]
    },
    {
      "cell_type": "code",
      "execution_count": 13,
      "metadata": {
        "colab": {
          "base_uri": "https://localhost:8080/",
          "height": 881
        },
        "id": "mH0mdLkxOXIL",
        "outputId": "55cdaafb-7161-483b-d584-777e3d5dbd7b"
      },
      "outputs": [
        {
          "data": {
            "image/png": "[encoded data removed]",
            "text/plain": [
              "<Figure size 640x480 with 1 Axes>"
            ]
          },
          "metadata": {},
          "output_type": "display_data"
        },
        {
          "data": {
            "image/png": "[encoded data removed]",
            "text/plain": [
              "<Figure size 640x480 with 1 Axes>"
            ]
          },
          "metadata": {},
          "output_type": "display_data"
        }
      ],
      "source": [
        "plot_graphs(history, 'accuracy')\n",
        "plot_graphs(history, 'loss')"
      ]
    },
    {
      "cell_type": "code",
      "execution_count": 15,
      "metadata": {
        "colab": {
          "base_uri": "https://localhost:8080/"
        },
        "id": "deKCq2y1ObSQ",
        "outputId": "afae3976-2dbc-4003-b1ee-8de66f13175c"
      },
      "outputs": [
        {
          "name": "stdout",
          "output_type": "stream",
          "text": [
            "7/7 - 1s - 89ms/step - accuracy: 0.6306 - loss: 0.6080\n",
            "Validation accuracy: 0.6306\n"
          ]
        }
      ],
      "source": [
        "# Evaluate the model on the validation set\n",
        "val_loss, val_acc = transformer_model.evaluate(Testfeatures, Testlabels, verbose=2)\n",
        "print(f\"Validation accuracy: {val_acc:.4f}\")\n"
      ]
    },
    {
      "cell_type": "code",
      "execution_count": 16,
      "metadata": {
        "colab": {
          "base_uri": "https://localhost:8080/"
        },
        "id": "uiY0GwPoQwS5",
        "outputId": "5f9bf227-a84d-4aa4-8dc6-7bc36e058870"
      },
      "outputs": [
        {
          "name": "stderr",
          "output_type": "stream",
          "text": [
            "WARNING:absl:You are saving your model as an HDF5 file via `model.save()` or `keras.saving.save_model(model)`. This file format is considered legacy. We recommend using instead the native Keras format, e.g. `model.save('my_model.keras')` or `keras.saving.save_model(model, 'my_model.keras')`. \n"
          ]
        }
      ],
      "source": [
        "# Save the model\n",
        "transformer_model.save('transformer_video_classifier.h5')"
      ]
    },
    {
      "cell_type": "code",
      "execution_count": 3,
      "metadata": {},
      "outputs": [
        {
          "name": "stdout",
          "output_type": "stream",
          "text": [
            "Video saved as output_video.mp4\n"
          ]
        }
      ],
      "source": [
        "import cv2\n",
        "import os\n",
        "\n",
        "# Folder containing the extracted frames\n",
        "frames_folder = '/Users/prabeshsharma/Documents/Unsual_activity_Detection/Dataset_Folder/Datasets/Train/RoadAccidents/RoadAccidents003_x264'\n",
        "\n",
        "# Output video file path\n",
        "output_video = 'output_video.mp4'\n",
        "\n",
        "# Define frame size (width, height) and frame rate (fps)\n",
        "frame_size = (224, 224)  # Adjust according to your frame dimensions\n",
        "fps = 10  # Set the frame rate\n",
        "\n",
        "# Get the list of frames and sort them (if they are named sequentially)\n",
        "frames = [os.path.join(frames_folder, f) for f in os.listdir(frames_folder) if f.endswith('.png') or f.endswith('.jpg')]\n",
        "frames.sort()\n",
        "\n",
        "# Initialize video writer with codec, fps, and frame size\n",
        "fourcc = cv2.VideoWriter_fourcc(*'mp4v')  # You can use different codecs like 'mp4v'\n",
        "video_writer = cv2.VideoWriter(output_video, fourcc, fps, frame_size)\n",
        "\n",
        "# Write each frame to the video\n",
        "for frame in frames:\n",
        "    img = cv2.imread(frame)\n",
        "    resized_frame = cv2.resize(img, frame_size)  # Resize frame if necessary\n",
        "    video_writer.write(resized_frame)\n",
        "\n",
        "# Release the video writer\n",
        "video_writer.release()\n",
        "\n",
        "print(f\"Video saved as {output_video}\")\n"
      ]
    },
    {
      "cell_type": "code",
      "execution_count": null,
      "metadata": {},
      "outputs": [],
      "source": []
    }
  ],
  "metadata": {
    "accelerator": "GPU",
    "colab": {
      "gpuType": "T4",
      "provenance": []
    },
    "kernelspec": {
      "display_name": "Python 3",
      "name": "python3"
    },
    "language_info": {
      "codemirror_mode": {
        "name": "ipython",
        "version": 3
      },
      "file_extension": ".py",
      "mimetype": "text/x-python",
      "name": "python",
      "nbconvert_exporter": "python",
      "pygments_lexer": "ipython3",
      "version": "3.12.6"
    }
  },
  "nbformat": 4,
  "nbformat_minor": 0
}
