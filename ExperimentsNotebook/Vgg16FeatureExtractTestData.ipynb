{
  "cells": [
    {
      "cell_type": "code",
      "execution_count": null,
      "metadata": {
        "id": "aSf-xBwtTddP"
      },
      "outputs": [],
      "source": [
        "import os\n",
        "import json"
      ]
    },
    {
      "cell_type": "code",
      "execution_count": null,
      "metadata": {
        "id": "7I5-gKsxUeOm"
      },
      "outputs": [],
      "source": [
        "if not os.path.exists('/content/data/'):\n",
        "\n",
        "  api_token = {\"username\": \"prabeshsharma\",\n",
        "                  \"key\": \"e8929420b0f14df13c668815eef404a0\"}\n",
        "\n",
        "  with open('/content/kaggle.json', 'w') as file:\n",
        "      json.dump(api_token, file)\n",
        "\n",
        "  os.environ[\"KAGGLE_CONFIG_DIR\"] = \"/content/\"\n",
        "\n",
        "  os.system('kaggle datasets download -d prabeshsharma/ucf-crime-dataset-with-arrangeframe')\n",
        "  os.makedirs('/content/data/', exist_ok=True)\n",
        "  os.system('mv /content/ucf-crime-dataset-with-arrangeframe.zip /content/data/ucf-crime-dataset-with-arrangeframe.zip')\n",
        "  os.system('unzip -q /content/data/ucf-crime-dataset-with-arrangeframe.zip -d /content/data/')\n",
        "  os.remove('/content/data/ucf-crime-dataset-with-arrangeframe.zip')"
      ]
    },
    {
      "cell_type": "code",
      "execution_count": null,
      "metadata": {
        "id": "B2TAFC3_U7iC"
      },
      "outputs": [],
      "source": [
        "import os\n",
        "import numpy as np\n",
        "from tensorflow.keras.preprocessing.image import img_to_array, load_img\n",
        "from tensorflow.keras.applications import VGG16\n",
        "from tensorflow.keras.models import Model\n",
        "from tensorflow.keras.layers import GlobalAveragePooling2D\n",
        "import pickle\n",
        "\n",
        "\n",
        "# Example usage: extract_features_for_class('ClassName', feature_extractor, output_folder)\n"
      ]
    },
    {
      "cell_type": "code",
      "execution_count": null,
      "metadata": {
        "colab": {
          "base_uri": "https://localhost:8080/"
        },
        "id": "arEOJec9WbmR",
        "outputId": "bb6fd176-5d40-4f78-a773-d0a073707621"
      },
      "outputs": [
        {
          "output_type": "stream",
          "name": "stdout",
          "text": [
            "Downloading data from https://storage.googleapis.com/tensorflow/keras-applications/vgg16/vgg16_weights_tf_dim_ordering_tf_kernels_notop.h5\n",
            "\u001b[1m58889256/58889256\u001b[0m \u001b[32m━━━━━━━━━━━━━━━━━━━━\u001b[0m\u001b[37m\u001b[0m \u001b[1m0s\u001b[0m 0us/step\n"
          ]
        }
      ],
      "source": [
        "# Initialize VGG16 model\n",
        "base_model = VGG16(weights='imagenet', include_top=False, input_shape=(224, 224, 3))\n",
        "feature_extractor = Model(inputs=base_model.input, outputs=GlobalAveragePooling2D()(base_model.output))\n"
      ]
    },
    {
      "cell_type": "code",
      "execution_count": null,
      "metadata": {
        "id": "dN5QLM2-WygH"
      },
      "outputs": [],
      "source": [
        "image_folder = '/content/data/Datasets/Test'\n",
        "output_folder = '/content/drive/MyDrive/TestFeature'\n",
        "\n",
        "def extract_features_for_class(class_folder, model, output_folder):\n",
        "    class_path = os.path.join(image_folder, class_folder)\n",
        "    output_class_path = os.path.join(output_folder, class_folder)\n",
        "    os.makedirs(output_class_path, exist_ok=True)\n",
        "\n",
        "    for video_folder in os.listdir(class_path):\n",
        "        video_path = os.path.join(class_path, video_folder)\n",
        "        features_list = []\n",
        "        for frame in os.listdir(video_path):\n",
        "            img_path = os.path.join(video_path, frame)\n",
        "            img = load_img(img_path, target_size=(224, 224))\n",
        "            img_array = img_to_array(img)\n",
        "            img_array = np.expand_dims(img_array, axis=0)\n",
        "            img_array = img_array / 255.0\n",
        "\n",
        "            features = model.predict(img_array, verbose=0)\n",
        "            features_list.append(features.flatten())\n",
        "\n",
        "        # Save features for this video\n",
        "        with open(os.path.join(output_class_path, f\"{video_folder}.pkl\"), 'wb') as f:\n",
        "            pickle.dump(features_list, f)"
      ]
    },
    {
      "cell_type": "code",
      "execution_count": null,
      "metadata": {
        "id": "s3rm-8mCW_L1"
      },
      "outputs": [],
      "source": [
        "extract_features_for_class('Abuse', feature_extractor, output_folder)"
      ]
    },
    {
      "cell_type": "code",
      "execution_count": null,
      "metadata": {
        "id": "1u0io_WDXTYk"
      },
      "outputs": [],
      "source": [
        "extract_features_for_class('Arrest', feature_extractor, output_folder)"
      ]
    },
    {
      "cell_type": "code",
      "execution_count": null,
      "metadata": {
        "id": "pfihYw-NIuGi"
      },
      "outputs": [],
      "source": [
        "extract_features_for_class('Arson', feature_extractor, output_folder)"
      ]
    },
    {
      "cell_type": "code",
      "execution_count": null,
      "metadata": {
        "id": "m2TNCRj5J6So"
      },
      "outputs": [],
      "source": [
        "extract_features_for_class('Assault', feature_extractor, output_folder)"
      ]
    },
    {
      "cell_type": "code",
      "execution_count": null,
      "metadata": {
        "id": "8TMYXoDLNRlO"
      },
      "outputs": [],
      "source": [
        "extract_features_for_class('Burglary', feature_extractor, output_folder)"
      ]
    },
    {
      "cell_type": "code",
      "execution_count": null,
      "metadata": {
        "id": "NtZ9aTUZNZND"
      },
      "outputs": [],
      "source": [
        "extract_features_for_class('Explosion', feature_extractor, output_folder)"
      ]
    },
    {
      "cell_type": "code",
      "execution_count": null,
      "metadata": {
        "id": "r0YamiQkQs7h"
      },
      "outputs": [],
      "source": [
        "extract_features_for_class('Fighting', feature_extractor, output_folder)"
      ]
    },
    {
      "cell_type": "code",
      "execution_count": null,
      "metadata": {
        "id": "YR2C2OPvSoms"
      },
      "outputs": [],
      "source": [
        "extract_features_for_class('RoadAccidents', feature_extractor, output_folder)"
      ]
    },
    {
      "cell_type": "code",
      "execution_count": null,
      "metadata": {
        "id": "miARLUM8eP86"
      },
      "outputs": [],
      "source": [
        "extract_features_for_class('Robbery', feature_extractor, output_folder)"
      ]
    },
    {
      "cell_type": "code",
      "execution_count": null,
      "metadata": {
        "colab": {
          "background_save": true
        },
        "id": "hVSIls0ceXw5"
      },
      "outputs": [],
      "source": [
        "extract_features_for_class('Shooting', feature_extractor, output_folder)"
      ]
    },
    {
      "cell_type": "code",
      "source": [
        "extract_features_for_class('Shoplifting', feature_extractor, output_folder)"
      ],
      "metadata": {
        "id": "UJcYwKcg-NpY"
      },
      "execution_count": null,
      "outputs": []
    },
    {
      "cell_type": "code",
      "source": [
        "extract_features_for_class('Stealing', feature_extractor, output_folder)"
      ],
      "metadata": {
        "id": "EvI_-Pcs-Xf8"
      },
      "execution_count": null,
      "outputs": []
    },
    {
      "cell_type": "code",
      "source": [
        "extract_features_for_class('Vandalism', feature_extractor, output_folder)"
      ],
      "metadata": {
        "id": "Wu4GpA0lAsSK"
      },
      "execution_count": null,
      "outputs": []
    },
    {
      "cell_type": "code",
      "source": [
        "extract_features_for_class('NormalVideos', feature_extractor, output_folder)"
      ],
      "metadata": {
        "id": "v9dj--w5B2cr"
      },
      "execution_count": null,
      "outputs": []
    }
  ],
  "metadata": {
    "accelerator": "GPU",
    "colab": {
      "gpuType": "T4",
      "provenance": []
    },
    "kernelspec": {
      "display_name": "Python 3",
      "name": "python3"
    },
    "language_info": {
      "name": "python"
    }
  },
  "nbformat": 4,
  "nbformat_minor": 0
}