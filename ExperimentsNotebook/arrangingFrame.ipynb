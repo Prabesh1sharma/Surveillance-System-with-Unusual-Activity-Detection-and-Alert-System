{
 "cells": [
  {
   "cell_type": "code",
   "execution_count": 1,
   "metadata": {},
   "outputs": [],
   "source": [
    "#import libraries\n",
    "import os\n",
    "import shutil\n",
    "from collections import defaultdict\n"
   ]
  },
  {
   "cell_type": "code",
   "execution_count": 2,
   "metadata": {},
   "outputs": [],
   "source": [
    "\n",
    "# Define the data directory\n",
    "# data_dir = 'Dataset_Folder/Datasets/Train'  # or 'data/test'\n",
    "\n",
    "# Function to organize frames by videos within each class\n",
    "def organize_frames(data_dir):\n",
    "    for class_name in os.listdir(data_dir):\n",
    "        class_path = os.path.join(data_dir, class_name)\n",
    "        if os.path.isdir(class_path):\n",
    "            # Dictionary to store frames by video\n",
    "            video_dict = defaultdict(list)\n",
    "            \n",
    "            # Iterate through frames in the class directory\n",
    "            for frame_name in os.listdir(class_path):\n",
    "                if frame_name.endswith('.png'):\n",
    "                    # Extract video name from frame name\n",
    "                    # Assuming frame name format: ClassNameVideoID_x264_frameNumber.png\n",
    "                    video_name = '_'.join(frame_name.split('_')[:2])\n",
    "                    video_dict[video_name].append(frame_name)\n",
    "            \n",
    "            # Create directories and move frames\n",
    "            for video_name, frames in video_dict.items():\n",
    "                video_path = os.path.join(class_path, video_name)\n",
    "                os.makedirs(video_path, exist_ok=True)\n",
    "                for frame_name in frames:\n",
    "                    src = os.path.join(class_path, frame_name)\n",
    "                    dst = os.path.join(video_path, frame_name)\n",
    "                    shutil.move(src, dst)\n",
    "\n",
    "\n"
   ]
  },
  {
   "cell_type": "code",
   "execution_count": 5,
   "metadata": {},
   "outputs": [],
   "source": [
    "# Organize frames for training and testing datasets\n",
    "organize_frames('/Users/prabeshsharma/Documents/Unsual_activity_Detection/Dataset_Folder/Datasets/Train')\n"
   ]
  },
  {
   "cell_type": "code",
   "execution_count": 8,
   "metadata": {},
   "outputs": [],
   "source": [
    "organize_frames('/Users/prabeshsharma/Documents/Unsual_activity_Detection/Dataset_Folder/Datasets/Test')"
   ]
  },
  {
   "cell_type": "markdown",
   "metadata": {},
   "source": [
    "# Arranging Frames for test Normal videos"
   ]
  },
  {
   "cell_type": "code",
   "execution_count": 9,
   "metadata": {},
   "outputs": [],
   "source": [
    "def organize_frames_normalVideos(data_dir):\n",
    "    if os.path.isdir(data_dir):\n",
    "        # Dictionary to store frames by video\n",
    "        video_dict = defaultdict(list)\n",
    "        \n",
    "        # Iterate through frames in the NormalVideos directory\n",
    "        for frame_name in os.listdir(data_dir):\n",
    "            if frame_name.endswith('.png'):\n",
    "                # Extract video name from frame name\n",
    "                # Assuming frame name format: Normal_Videos_VideoID_x264_frameNumber.png\n",
    "                video_name = '_'.join(frame_name.split('_')[:3])\n",
    "                video_dict[video_name].append(frame_name)\n",
    "        \n",
    "        # Create directories and move frames\n",
    "        for video_name, frames in video_dict.items():\n",
    "            video_path = os.path.join(data_dir, video_name)\n",
    "            os.makedirs(video_path, exist_ok=True)\n",
    "            for frame_name in frames:\n",
    "                src = os.path.join(data_dir, frame_name)\n",
    "                dst = os.path.join(video_path, frame_name)\n",
    "                shutil.move(src, dst)\n",
    "\n"
   ]
  },
  {
   "cell_type": "code",
   "execution_count": 10,
   "metadata": {},
   "outputs": [],
   "source": [
    "# Organize frames in the NormalVideos class of the test dataset\n",
    "organize_frames_normalVideos('/Users/prabeshsharma/Documents/Unsual_activity_Detection/Dataset_Folder/Datasets/Test/NormalVideos')"
   ]
  },
  {
   "cell_type": "code",
   "execution_count": null,
   "metadata": {},
   "outputs": [],
   "source": []
  }
 ],
 "metadata": {
  "kernelspec": {
   "display_name": "Python 3",
   "language": "python",
   "name": "python3"
  },
  "language_info": {
   "codemirror_mode": {
    "name": "ipython",
    "version": 3
   },
   "file_extension": ".py",
   "mimetype": "text/x-python",
   "name": "python",
   "nbconvert_exporter": "python",
   "pygments_lexer": "ipython3",
   "version": "3.12.6"
  }
 },
 "nbformat": 4,
 "nbformat_minor": 2
}
